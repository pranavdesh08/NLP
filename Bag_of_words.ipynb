{
 "cells": [
  {
   "cell_type": "markdown",
   "metadata": {},
   "source": [
    "# In this notebook we will start with the basic method of SENTIMENT ANALYSIS.\n",
    "\n",
    "\n",
    "# Problem statement: Given a customer review can we predict the rating of the review (1-5). 1 being negative and 5 being positive.\n",
    "\n",
    "# We will try using bag of words model for this experiment and traditional ML algorithms to predict the outcome."
   ]
  },
  {
   "cell_type": "code",
   "execution_count": 1,
   "metadata": {},
   "outputs": [],
   "source": [
    "import pandas as pd\n",
    "import numpy as np\n",
    "import nltk\n",
    "import re # regex lib for cleaning\n",
    "from nltk.corpus import stopwords # list of stopwords\n",
    "from nltk.stem import WordNetLemmatizer # for lemmatizing (years to year)\n",
    "from sklearn.feature_extraction.text import CountVectorizer\n",
    "from sklearn.naive_bayes import MultinomialNB\n",
    "from sklearn.model_selection import train_test_split\n",
    "from imblearn.under_sampling import RandomUnderSampler #undersampling\n",
    "from sklearn.metrics import confusion_matrix # Confusion matrix\n",
    "from sklearn.metrics import classification_report # precision, recall, f1\n",
    "\n",
    "%matplotlib inline \n",
    "import matplotlib.pyplot as plt\n",
    "import matplotlib as mpl\n",
    "mpl.style.use(['ggplot'])"
   ]
  },
  {
   "cell_type": "code",
   "execution_count": 2,
   "metadata": {},
   "outputs": [
    {
     "data": {
      "text/html": [
       "<div>\n",
       "<style scoped>\n",
       "    .dataframe tbody tr th:only-of-type {\n",
       "        vertical-align: middle;\n",
       "    }\n",
       "\n",
       "    .dataframe tbody tr th {\n",
       "        vertical-align: top;\n",
       "    }\n",
       "\n",
       "    .dataframe thead th {\n",
       "        text-align: right;\n",
       "    }\n",
       "</style>\n",
       "<table border=\"1\" class=\"dataframe\">\n",
       "  <thead>\n",
       "    <tr style=\"text-align: right;\">\n",
       "      <th></th>\n",
       "      <th>cleaned_reviews</th>\n",
       "      <th>rating</th>\n",
       "    </tr>\n",
       "  </thead>\n",
       "  <tbody>\n",
       "    <tr>\n",
       "      <th>0</th>\n",
       "      <td>excellent</td>\n",
       "      <td>5</td>\n",
       "    </tr>\n",
       "    <tr>\n",
       "      <th>1</th>\n",
       "      <td>dog become healthy thank</td>\n",
       "      <td>5</td>\n",
       "    </tr>\n",
       "    <tr>\n",
       "      <th>2</th>\n",
       "      <td>quality service everyone happy</td>\n",
       "      <td>5</td>\n",
       "    </tr>\n",
       "    <tr>\n",
       "      <th>3</th>\n",
       "      <td>went top dog raw food morning first time amazi...</td>\n",
       "      <td>5</td>\n",
       "    </tr>\n",
       "    <tr>\n",
       "      <th>4</th>\n",
       "      <td>very stylish site enough information make choi...</td>\n",
       "      <td>5</td>\n",
       "    </tr>\n",
       "  </tbody>\n",
       "</table>\n",
       "</div>"
      ],
      "text/plain": [
       "                                     cleaned_reviews  rating\n",
       "0                                          excellent       5\n",
       "1                           dog become healthy thank       5\n",
       "2                     quality service everyone happy       5\n",
       "3  went top dog raw food morning first time amazi...       5\n",
       "4  very stylish site enough information make choi...       5"
      ]
     },
     "execution_count": 2,
     "metadata": {},
     "output_type": "execute_result"
    }
   ],
   "source": [
    "df = pd.read_csv('cleaned_reviews.csv')\n",
    "df.head()"
   ]
  },
  {
   "cell_type": "markdown",
   "metadata": {},
   "source": [
    "## The length of each review is counted and stored in count. \n",
    "## empty countains the index of reviews having length=0 after cleaning the reviews.\n",
    "## The empty reviews are dropped from the DataFrame."
   ]
  },
  {
   "cell_type": "code",
   "execution_count": 3,
   "metadata": {},
   "outputs": [],
   "source": [
    "count = []\n",
    "for val in df['cleaned_reviews']:\n",
    "    count.append(len(val.split()))"
   ]
  },
  {
   "cell_type": "code",
   "execution_count": 4,
   "metadata": {},
   "outputs": [
    {
     "data": {
      "text/plain": [
       "1194697"
      ]
     },
     "execution_count": 4,
     "metadata": {},
     "output_type": "execute_result"
    }
   ],
   "source": [
    "len(count)"
   ]
  },
  {
   "cell_type": "markdown",
   "metadata": {},
   "source": [
    "# Histogram for the length of the reviews. Based on the max frequency of reviews the length of the reviews will be considered."
   ]
  },
  {
   "cell_type": "code",
   "execution_count": 5,
   "metadata": {},
   "outputs": [
    {
     "data": {
      "image/png": "[encoded data removed]",
      "text/plain": [
       "<Figure size 432x288 with 1 Axes>"
      ]
     },
     "metadata": {},
     "output_type": "display_data"
    }
   ],
   "source": [
    "sent_len = pd.DataFrame({'count':count})\n",
    "sent_len.plot(kind='hist', figsize=(6, 4), color='steelblue',bins = [0,10,20,30,40,50,60,70,80,90,100])\n",
    "plt.title('Distribution of length of reviews')\n",
    "plt.ylabel('Frequency of word count')\n",
    "plt.xlabel('Length of the reviews')\n",
    "\n",
    "plt.show()"
   ]
  },
  {
   "cell_type": "markdown",
   "metadata": {},
   "source": [
    "### Distribution of the target variable containing 5 categories."
   ]
  },
  {
   "cell_type": "code",
   "execution_count": 6,
   "metadata": {},
   "outputs": [
    {
     "data": {
      "image/png": "[encoded data removed]",
      "text/plain": [
       "<Figure size 360x360 with 1 Axes>"
      ]
     },
     "metadata": {},
     "output_type": "display_data"
    }
   ],
   "source": [
    "ratings = pd.value_counts(df['rating'], sort=False)\n",
    "ratings.plot(kind='bar', figsize=(5, 5), color='steelblue')\n",
    "plt.title('Number of ratings in each group')\n",
    "plt.ylabel('Count of ratings')\n",
    "plt.xlabel('Categories of rating')\n",
    "\n",
    "plt.show()"
   ]
  },
  {
   "cell_type": "code",
   "execution_count": null,
   "metadata": {},
   "outputs": [],
   "source": [
    "  "
   ]
  },
  {
   "cell_type": "markdown",
   "metadata": {},
   "source": [
    "# 82% of reviews have length upto 30 words."
   ]
  },
  {
   "cell_type": "code",
   "execution_count": 7,
   "metadata": {},
   "outputs": [
    {
     "data": {
      "text/plain": [
       "0.8275089153581621"
      ]
     },
     "execution_count": 7,
     "metadata": {},
     "output_type": "execute_result"
    }
   ],
   "source": [
    "cnt, edg = np.histogram(sent_len,bins = [0,10,20,30,40,50,60,70,80,90,100])\n",
    "(cnt[0] + cnt[1] + cnt[2])/sum(cnt)"
   ]
  },
  {
   "cell_type": "markdown",
   "metadata": {},
   "source": [
    "### For the first model we will consider first 10 words of each reviews."
   ]
  },
  {
   "cell_type": "code",
   "execution_count": 8,
   "metadata": {},
   "outputs": [
    {
     "data": {
      "text/plain": [
       "'very stylish site enough information make choice buy pet happy'"
      ]
     },
     "execution_count": 8,
     "metadata": {},
     "output_type": "execute_result"
    }
   ],
   "source": [
    "# max len of reviews to 10\n",
    "review_len10 = []\n",
    "for rev in df['cleaned_reviews']:\n",
    "    rev = rev.split()\n",
    "    review_len10.append(' '.join(rev[0:10]))\n",
    "review_len10[4]"
   ]
  },
  {
   "cell_type": "markdown",
   "metadata": {},
   "source": [
    "# Creating Bag of words model.\n",
    "\n",
    "## Limiting the no. features to 500. It is expensive to create features using bag of words that treats each new word as a feature."
   ]
  },
  {
   "cell_type": "code",
   "execution_count": 15,
   "metadata": {},
   "outputs": [],
   "source": [
    "Cnt_vec = CountVectorizer(max_features=500)"
   ]
  },
  {
   "cell_type": "markdown",
   "metadata": {},
   "source": [
    "## Creates an array using Bag of words."
   ]
  },
  {
   "cell_type": "code",
   "execution_count": 16,
   "metadata": {},
   "outputs": [],
   "source": [
    "bag_words = Cnt_vec.fit_transform(df['cleaned_reviews']).toarray()"
   ]
  },
  {
   "cell_type": "code",
   "execution_count": 3,
   "metadata": {},
   "outputs": [],
   "source": [
    "# Target variable \n",
    "y_rating = df['rating'].to_numpy()"
   ]
  },
  {
   "cell_type": "code",
   "execution_count": 12,
   "metadata": {},
   "outputs": [
    {
     "name": "stdout",
     "output_type": "stream",
     "text": [
      "shape of feature matrix: (1194697, 500) shape of target variable (1194697,)\n"
     ]
    }
   ],
   "source": [
    "print('shape of feature matrix:',bag_words.shape,'shape of target variable', y_rating.shape)"
   ]
  },
  {
   "cell_type": "code",
   "execution_count": 17,
   "metadata": {},
   "outputs": [],
   "source": [
    "# Undersampling object\n",
    "rus = RandomUnderSampler(sampling_strategy={1:26000,2:26000,3:26000,4:26000,5:26000},random_state=0)\n",
    "def under_sample(x,y):\n",
    "    \n",
    "    X_resampled, y_resampled = rus.fit_resample(x,y)\n",
    "    return X_resampled, y_resampled"
   ]
  },
  {
   "cell_type": "code",
   "execution_count": 18,
   "metadata": {},
   "outputs": [],
   "source": [
    "X_resampled, y_resampled = under_sample(bag_words[0:1189697,], y_rating[0:1189697])"
   ]
  },
  {
   "cell_type": "code",
   "execution_count": 15,
   "metadata": {},
   "outputs": [],
   "source": [
    "# Test data \n",
    "X_test, y_test = bag_words[1189697:,] , y_rating[1189697:]"
   ]
  },
  {
   "cell_type": "code",
   "execution_count": 16,
   "metadata": {},
   "outputs": [
    {
     "data": {
      "image/png": "[encoded data removed]",
      "text/plain": [
       "<Figure size 360x360 with 1 Axes>"
      ]
     },
     "metadata": {},
     "output_type": "display_data"
    }
   ],
   "source": [
    "dis = pd.value_counts(y_resampled, sort=False)\n",
    "dis.plot(kind='bar', figsize=(5, 5), color='steelblue')\n",
    "plt.title('Number of ratings in each group')\n",
    "plt.ylabel('Count of ratings')\n",
    "plt.xlabel('Categories of rating')\n",
    "\n",
    "plt.show()"
   ]
  },
  {
   "cell_type": "markdown",
   "metadata": {},
   "source": [
    "# MODEL 1 : Naive Bayes model with multiple classes."
   ]
  },
  {
   "cell_type": "code",
   "execution_count": 20,
   "metadata": {},
   "outputs": [],
   "source": [
    "# Naive Bayes \n",
    "clf = MultinomialNB()"
   ]
  },
  {
   "cell_type": "code",
   "execution_count": 18,
   "metadata": {},
   "outputs": [
    {
     "data": {
      "text/plain": [
       "MultinomialNB()"
      ]
     },
     "execution_count": 18,
     "metadata": {},
     "output_type": "execute_result"
    }
   ],
   "source": [
    "# Training the model on the udersampled data.\n",
    "X_resampled,y_resampled= under_sample(bag_words[0:1189697,], y_rating[0:1189697])\n",
    "clf.fit(X_resampled, y_resampled)"
   ]
  },
  {
   "cell_type": "code",
   "execution_count": 19,
   "metadata": {},
   "outputs": [],
   "source": [
    "# Prediction on the \n",
    "pred = clf.predict(X_test)"
   ]
  },
  {
   "cell_type": "code",
   "execution_count": 20,
   "metadata": {},
   "outputs": [],
   "source": [
    "#from sklearn.metrics import multilabel_confusion_matrix\n",
    "#cm = multilabel_confusion_matrix(y_test, pred)\n",
    "#cm\n"
   ]
  },
  {
   "cell_type": "code",
   "execution_count": 21,
   "metadata": {},
   "outputs": [
    {
     "name": "stdout",
     "output_type": "stream",
     "text": [
      "[[ 289   70   31   26   61]\n",
      " [  48   35   29   10   27]\n",
      " [  29   41   45   41   63]\n",
      " [  43   38   65  146  214]\n",
      " [ 191  196  184  579 2499]]\n"
     ]
    }
   ],
   "source": [
    "# Confusion Matrix\n",
    "print(confusion_matrix(y_test, pred))"
   ]
  },
  {
   "cell_type": "code",
   "execution_count": 22,
   "metadata": {},
   "outputs": [
    {
     "name": "stdout",
     "output_type": "stream",
     "text": [
      "              precision    recall  f1-score   support\n",
      "\n",
      "           1       0.48      0.61      0.54       477\n",
      "           2       0.09      0.23      0.13       149\n",
      "           3       0.13      0.21      0.16       219\n",
      "           4       0.18      0.29      0.22       506\n",
      "           5       0.87      0.68      0.77      3649\n",
      "\n",
      "    accuracy                           0.60      5000\n",
      "   macro avg       0.35      0.40      0.36      5000\n",
      "weighted avg       0.71      0.60      0.64      5000\n",
      "\n"
     ]
    }
   ],
   "source": [
    "# Precision, Recall, F1-score \n",
    "print(classification_report(y_test, pred))"
   ]
  },
  {
   "cell_type": "markdown",
   "metadata": {},
   "source": [
    "## In the above model we created features using bag of words. Using CountVectorization that takes words as feature based on the frequencies.\n",
    "\n",
    "## Next model we will consider TF-IDF method to create the word vectors. Based on TF-IDF we will built Naive Bayes model to test the model's performance."
   ]
  },
  {
   "cell_type": "code",
   "execution_count": 5,
   "metadata": {},
   "outputs": [],
   "source": [
    "from sklearn.feature_extraction.text import TfidfVectorizer"
   ]
  },
  {
   "cell_type": "code",
   "execution_count": 6,
   "metadata": {},
   "outputs": [],
   "source": [
    "#limiting features to 500\n",
    "tf_idf = TfidfVectorizer(max_features=500)"
   ]
  },
  {
   "cell_type": "code",
   "execution_count": 7,
   "metadata": {},
   "outputs": [],
   "source": [
    "bow_tf_idf = tf_idf.fit_transform(df['cleaned_reviews']).toarray()"
   ]
  },
  {
   "cell_type": "code",
   "execution_count": 7,
   "metadata": {},
   "outputs": [
    {
     "ename": "NameError",
     "evalue": "name 'y_rating' is not defined",
     "output_type": "error",
     "traceback": [
      "\u001b[1;31m---------------------------------------------------------------------------\u001b[0m",
      "\u001b[1;31mNameError\u001b[0m                                 Traceback (most recent call last)",
      "\u001b[1;32m<ipython-input-7-825ac80aa54e>\u001b[0m in \u001b[0;36m<module>\u001b[1;34m\u001b[0m\n\u001b[0;32m      1\u001b[0m \u001b[1;31m#resample the training set\u001b[0m\u001b[1;33m\u001b[0m\u001b[1;33m\u001b[0m\u001b[1;33m\u001b[0m\u001b[0m\n\u001b[1;32m----> 2\u001b[1;33m \u001b[0mX_resampled_tf\u001b[0m\u001b[1;33m,\u001b[0m \u001b[0my_resampled_tf\u001b[0m \u001b[1;33m=\u001b[0m \u001b[0mrus\u001b[0m\u001b[1;33m.\u001b[0m\u001b[0mfit_resample\u001b[0m\u001b[1;33m(\u001b[0m\u001b[0mbow_tf_idf\u001b[0m\u001b[1;33m[\u001b[0m\u001b[1;36m0\u001b[0m\u001b[1;33m:\u001b[0m\u001b[1;36m1189697\u001b[0m\u001b[1;33m,\u001b[0m\u001b[1;33m]\u001b[0m\u001b[1;33m,\u001b[0m \u001b[0my_rating\u001b[0m\u001b[1;33m[\u001b[0m\u001b[1;36m0\u001b[0m\u001b[1;33m:\u001b[0m\u001b[1;36m1189697\u001b[0m\u001b[1;33m]\u001b[0m\u001b[1;33m)\u001b[0m\u001b[1;33m\u001b[0m\u001b[1;33m\u001b[0m\u001b[0m\n\u001b[0m\u001b[0;32m      3\u001b[0m \u001b[1;33m\u001b[0m\u001b[0m\n\u001b[0;32m      4\u001b[0m \u001b[0mX_test_tf\u001b[0m\u001b[1;33m,\u001b[0m \u001b[0my_test_tf\u001b[0m \u001b[1;33m=\u001b[0m \u001b[0mbow_tf_idf\u001b[0m\u001b[1;33m[\u001b[0m\u001b[1;36m1189697\u001b[0m\u001b[1;33m:\u001b[0m\u001b[1;33m,\u001b[0m\u001b[1;33m]\u001b[0m \u001b[1;33m,\u001b[0m \u001b[0my_rating\u001b[0m\u001b[1;33m[\u001b[0m\u001b[1;36m1189697\u001b[0m\u001b[1;33m:\u001b[0m\u001b[1;33m]\u001b[0m\u001b[1;33m\u001b[0m\u001b[1;33m\u001b[0m\u001b[0m\n",
      "\u001b[1;31mNameError\u001b[0m: name 'y_rating' is not defined"
     ]
    }
   ],
   "source": [
    "#resample the training set\n",
    "X_resampled_tf, y_resampled_tf = rus.fit_resample(bow_tf_idf[0:1189697,], y_rating[0:1189697])\n",
    "\n",
    "X_test_tf, y_test_tf = bow_tf_idf[1189697:,] , y_rating[1189697:]"
   ]
  },
  {
   "cell_type": "code",
   "execution_count": 17,
   "metadata": {},
   "outputs": [],
   "source": [
    "Tf_clf = MultinomialNB()"
   ]
  },
  {
   "cell_type": "code",
   "execution_count": 18,
   "metadata": {},
   "outputs": [
    {
     "data": {
      "text/plain": [
       "MultinomialNB()"
      ]
     },
     "execution_count": 18,
     "metadata": {},
     "output_type": "execute_result"
    }
   ],
   "source": [
    "Tf_clf.fit(X_resampled_tf, y_resampled_tf)"
   ]
  },
  {
   "cell_type": "code",
   "execution_count": 21,
   "metadata": {},
   "outputs": [],
   "source": [
    "pred_tf = Tf_clf.predict(X_test_tf)"
   ]
  },
  {
   "cell_type": "code",
   "execution_count": 22,
   "metadata": {},
   "outputs": [
    {
     "name": "stdout",
     "output_type": "stream",
     "text": [
      "[[ 314   55   35   21   52]\n",
      " [  55   35   27   11   21]\n",
      " [  36   48   49   34   52]\n",
      " [  54   41   88  133  190]\n",
      " [ 251  226  251  629 2292]]\n"
     ]
    }
   ],
   "source": [
    "print(confusion_matrix(y_test_tf, pred_tf))"
   ]
  },
  {
   "cell_type": "code",
   "execution_count": 23,
   "metadata": {},
   "outputs": [
    {
     "name": "stdout",
     "output_type": "stream",
     "text": [
      "              precision    recall  f1-score   support\n",
      "\n",
      "           1       0.44      0.66      0.53       477\n",
      "           2       0.09      0.23      0.13       149\n",
      "           3       0.11      0.22      0.15       219\n",
      "           4       0.16      0.26      0.20       506\n",
      "           5       0.88      0.63      0.73      3649\n",
      "\n",
      "    accuracy                           0.56      5000\n",
      "   macro avg       0.34      0.40      0.35      5000\n",
      "weighted avg       0.71      0.56      0.62      5000\n",
      "\n"
     ]
    }
   ],
   "source": [
    "print(classification_report(y_test_tf, pred_tf))"
   ]
  },
  {
   "cell_type": "markdown",
   "metadata": {},
   "source": [
    "### There is not a significant change in the performance of the model. "
   ]
  },
  {
   "cell_type": "code",
   "execution_count": 8,
   "metadata": {},
   "outputs": [],
   "source": [
    "from sklearn.tree import DecisionTreeClassifier\n",
    "from sklearn.tree import plot_tree\n",
    "from sklearn.model_selection import cross_val_score"
   ]
  },
  {
   "cell_type": "code",
   "execution_count": 9,
   "metadata": {},
   "outputs": [],
   "source": [
    "X_resampled,y_resampled= under_sample(bow_tf_idf[0:1189697,], y_rating[0:1189697])"
   ]
  },
  {
   "cell_type": "code",
   "execution_count": 13,
   "metadata": {},
   "outputs": [],
   "source": [
    "clf_dt = DecisionTreeClassifier(random_state=0)"
   ]
  },
  {
   "cell_type": "code",
   "execution_count": 14,
   "metadata": {},
   "outputs": [],
   "source": [
    "clf_dt = clf_dt.fit(X_resampled,y_resampled)"
   ]
  },
  {
   "cell_type": "code",
   "execution_count": 15,
   "metadata": {
    "scrolled": true
   },
   "outputs": [
    {
     "data": {
      "text/plain": [
       "[Text(700.7368496892373, 434.52059504132234, 'X[263] <= 0.021\\ngini = 0.8\\nsamples = 130000\\nvalue = [26000, 26000, 26000, 26000, 26000]\\nclass = 1'),\n",
       " Text(544.6512232403228, 433.80178512396697, 'X[257] <= 0.018\\ngini = 0.787\\nsamples = 80066\\nvalue = [11320, 12538, 14799, 19226, 22183]\\nclass = 5'),\n",
       " Text(517.046828218246, 433.0829752066116, 'X[494] <= 0.043\\ngini = 0.783\\nsamples = 75410\\nvalue = [9423, 11648, 14138, 18650, 21551]\\nclass = 5'),\n",
       " Text(492.4682978895748, 432.3641652892562, 'X[262] <= 0.007\\ngini = 0.781\\nsamples = 74868\\nvalue = [8976, 11602, 14109, 18639, 21542]\\nclass = 5'),\n",
       " Text(447.4984068614573, 431.64535537190085, 'X[174] <= 0.096\\ngini = 0.776\\nsamples = 68538\\nvalue = [7366, 10192, 12945, 17560, 20475]\\nclass = 5'),\n",
       " Text(398.9398914028609, 430.9265454545455, 'X[133] <= 0.131\\ngini = 0.783\\nsamples = 53800\\nvalue = [6389, 8487, 10632, 13416, 14876]\\nclass = 5'),\n",
       " Text(379.93615522559605, 430.2077355371901, 'X[114] <= 0.082\\ngini = 0.786\\nsamples = 50378\\nvalue = [6166, 8059, 10151, 12628, 13374]\\nclass = 5'),\n",
       " Text(355.51566945827943, 429.48892561983473, 'X[246] <= 0.034\\ngini = 0.789\\nsamples = 45175\\nvalue = [5862, 7481, 9355, 10980, 11497]\\nclass = 5'),\n",
       " Text(339.2719223455228, 428.77011570247936, 'X[350] <= 0.026\\ngini = 0.787\\nsamples = 43937\\nvalue = [5408, 7248, 9119, 10803, 11359]\\nclass = 5'),\n",
       " Text(319.9795987019362, 428.051305785124, 'X[470] <= 0.157\\ngini = 0.789\\nsamples = 41828\\nvalue = [5225, 7025, 8824, 10321, 10433]\\nclass = 5'),\n",
       " Text(294.4552854095388, 427.3324958677686, 'X[36] <= 0.124\\ngini = 0.791\\nsamples = 35736\\nvalue = [4678, 6195, 7805, 8693, 8365]\\nclass = 4'),\n",
       " Text(283.3302919577228, 426.61368595041324, 'X[414] <= 0.033\\ngini = 0.792\\nsamples = 34058\\nvalue = [4535, 5981, 7583, 8296, 7663]\\nclass = 4'),\n",
       " Text(272.13964199351983, 425.89487603305787, 'X[434] <= 0.094\\ngini = 0.79\\nsamples = 32631\\nvalue = [4175, 5646, 7203, 8041, 7566]\\nclass = 4'),\n",
       " Text(257.25296314010933, 425.1760661157025, 'X[173] <= 0.138\\ngini = 0.791\\nsamples = 30944\\nvalue = [4018, 5438, 6957, 7635, 6896]\\nclass = 4'),\n",
       " Text(238.63222776482985, 424.4572561983471, 'X[232] <= 0.106\\ngini = 0.794\\nsamples = 26861\\nvalue = [3700, 4914, 6031, 6255, 5961]\\nclass = 4'),\n",
       " Text(230.59322423681425, 423.73844628099175, 'X[280] <= 0.215\\ngini = 0.795\\nsamples = 23825\\nvalue = [3488, 4509, 5428, 5399, 5001]\\nclass = 3'),\n",
       " Text(226.49330248511308, 423.0196363636364, 'X[146] <= 0.056\\ngini = 0.794\\nsamples = 23226\\nvalue = [3249, 4372, 5321, 5335, 4949]\\nclass = 4'),\n",
       " Text(222.10911155091992, 422.300826446281, 'X[291] <= 0.033\\ngini = 0.795\\nsamples = 21819\\nvalue = [3128, 4191, 5099, 4975, 4426]\\nclass = 3'),\n",
       " Text(219.6627741182559, 421.58201652892564, 'X[435] <= 0.143\\ngini = 0.794\\nsamples = 21650\\nvalue = [3029, 4165, 5072, 4964, 4420]\\nclass = 3'),\n",
       " Text(215.72692801811823, 420.86320661157026, 'X[32] <= 0.119\\ngini = 0.794\\nsamples = 20986\\nvalue = [2972, 4095, 4978, 4777, 4164]\\nclass = 3'),\n",
       " Text(213.04905224085707, 420.1443966942149, 'X[220] <= 0.094\\ngini = 0.794\\nsamples = 20682\\nvalue = [2854, 4004, 4923, 4757, 4144]\\nclass = 3'),\n",
       " Text(209.56237497404192, 419.4255867768595, 'X[338] <= 0.112\\ngini = 0.795\\nsamples = 20052\\nvalue = [2823, 3921, 4725, 4507, 4076]\\nclass = 3'),\n",
       " Text(205.69224159123362, 418.70677685950415, 'X[352] <= 0.173\\ngini = 0.795\\nsamples = 19335\\nvalue = [2778, 3839, 4591, 4316, 3811]\\nclass = 3'),\n",
       " Text(201.33122908322824, 417.9879669421488, 'X[387] <= 0.057\\ngini = 0.794\\nsamples = 19129\\nvalue = [2687, 3777, 4564, 4294, 3807]\\nclass = 3'),\n",
       " Text(193.91192856571283, 417.2691570247934, 'X[105] <= 0.059\\ngini = 0.795\\nsamples = 17854\\nvalue = [2557, 3465, 4137, 4017, 3678]\\nclass = 3'),\n",
       " Text(192.6748515176087, 416.55034710743803, 'X[463] <= 0.141\\ngini = 0.795\\nsamples = 17559\\nvalue = [2507, 3344, 4051, 3991, 3666]\\nclass = 3'),\n",
       " Text(191.243650984535, 415.83153719008266, 'X[30] <= 0.234\\ngini = 0.794\\nsamples = 17441\\nvalue = [2440, 3324, 4035, 3978, 3664]\\nclass = 3'),\n",
       " Text(189.18188460029154, 415.1127272727273, 'X[132] <= 0.206\\ngini = 0.795\\nsamples = 17092\\nvalue = [2423, 3280, 3983, 3896, 3510]\\nclass = 3'),\n",
       " Text(186.35253023695194, 414.3939173553719, 'X[13] <= 0.137\\ngini = 0.795\\nsamples = 16758\\nvalue = [2406, 3240, 3926, 3824, 3362]\\nclass = 3'),\n",
       " Text(182.96110964033466, 413.67510743801654, 'X[179] <= 0.209\\ngini = 0.795\\nsamples = 16329\\nvalue = [2375, 3182, 3849, 3735, 3188]\\nclass = 3'),\n",
       " Text(179.46901615935292, 412.95629752066117, 'X[184] <= 0.16\\ngini = 0.795\\nsamples = 15954\\nvalue = [2351, 3143, 3797, 3605, 3058]\\nclass = 3'),\n",
       " Text(174.9175859216025, 412.2374876033058, 'X[380] <= 0.08\\ngini = 0.795\\nsamples = 15517\\nvalue = [2327, 3092, 3722, 3475, 2901]\\nclass = 3'),\n",
       " Text(170.50761786464793, 411.5186776859504, 'X[294] <= 0.179\\ngini = 0.793\\nsamples = 14025\\nvalue = [1976, 2829, 3459, 3191, 2570]\\nclass = 3'),\n",
       " Text(169.008354967522, 410.79986776859505, 'X[323] <= 0.221\\ngini = 0.793\\nsamples = 13752\\nvalue = [1954, 2803, 3415, 3124, 2456]\\nclass = 3'),\n",
       " Text(167.23037750767824, 410.0810578512397, 'X[339] <= 0.156\\ngini = 0.793\\nsamples = 13600\\nvalue = [1943, 2792, 3393, 3087, 2385]\\nclass = 3'),\n",
       " Text(165.4574311127216, 409.3622479338843, 'X[285] <= 0.079\\ngini = 0.793\\nsamples = 13242\\nvalue = [1927, 2738, 3332, 2977, 2268]\\nclass = 3'),\n",
       " Text(162.71708487392632, 408.64343801652893, 'X[445] <= 0.144\\ngini = 0.793\\nsamples = 13202\\nvalue = [1899, 2735, 3330, 2975, 2263]\\nclass = 3'),\n",
       " Text(158.2154916596866, 407.92462809917356, 'X[275] <= 0.101\\ngini = 0.793\\nsamples = 12672\\nvalue = [1831, 2581, 3148, 2898, 2214]\\nclass = 3'),\n",
       " Text(152.787973336195, 407.2058181818182, 'X[489] <= 0.138\\ngini = 0.793\\nsamples = 11701\\nvalue = [1707, 2285, 2919, 2730, 2060]\\nclass = 3'),\n",
       " Text(151.6796604168917, 406.4870082644628, 'X[313] <= 0.163\\ngini = 0.793\\nsamples = 11556\\nvalue = [1703, 2270, 2904, 2673, 2006]\\nclass = 3'),\n",
       " Text(150.3668185136858, 405.76819834710744, 'X[58] <= 0.018\\ngini = 0.793\\nsamples = 11448\\nvalue = [1681, 2219, 2880, 2664, 2004]\\nclass = 3'),\n",
       " Text(148.52703378153555, 405.04938842975207, 'X[12] <= 0.113\\ngini = 0.792\\nsamples = 11324\\nvalue = [1630, 2189, 2855, 2654, 1996]\\nclass = 3'),\n",
       " Text(146.39304024729722, 404.3305785123967, 'X[486] <= 0.067\\ngini = 0.792\\nsamples = 10892\\nvalue = [1596, 2127, 2772, 2530, 1867]\\nclass = 3'),\n",
       " Text(145.29916957988988, 403.6117685950413, 'X[236] <= 0.143\\ngini = 0.793\\nsamples = 10655\\nvalue = [1579, 2097, 2701, 2433, 1845]\\nclass = 3'),\n",
       " Text(143.85148320667142, 402.89295867768595, 'X[379] <= 0.124\\ngini = 0.793\\nsamples = 10551\\nvalue = [1537, 2071, 2679, 2428, 1836]\\nclass = 3'),\n",
       " Text(141.89547986478559, 402.1741487603306, 'X[225] <= 0.401\\ngini = 0.792\\nsamples = 10339\\nvalue = [1478, 2006, 2638, 2402, 1815]\\nclass = 3'),\n",
       " Text(140.0370694176088, 401.4553388429752, 'X[34] <= 0.302\\ngini = 0.792\\nsamples = 10212\\nvalue = [1465, 1966, 2583, 2388, 1810]\\nclass = 3'),\n",
       " Text(137.53102428453937, 400.73652892561984, 'X[218] <= 0.115\\ngini = 0.792\\nsamples = 10131\\nvalue = [1459, 1961, 2568, 2372, 1771]\\nclass = 3'),\n",
       " Text(134.06247612761624, 400.01771900826446, 'X[2] <= 0.137\\ngini = 0.793\\nsamples = 9262\\nvalue = [1361, 1821, 2314, 2108, 1658]\\nclass = 3'),\n",
       " Text(132.3194260809245, 399.2989090909091, 'X[165] <= 0.18\\ngini = 0.793\\nsamples = 9135\\nvalue = [1313, 1794, 2288, 2094, 1646]\\nclass = 3'),\n",
       " Text(130.32162235942383, 398.5800991735537, 'X[499] <= 0.135\\ngini = 0.793\\nsamples = 9029\\nvalue = [1311, 1783, 2273, 2054, 1608]\\nclass = 3'),\n",
       " Text(128.72131863787774, 397.86128925619835, 'X[183] <= 0.236\\ngini = 0.793\\nsamples = 8894\\nvalue = [1274, 1740, 2237, 2043, 1600]\\nclass = 3'),\n",
       " Text(127.15641480839665, 397.142479338843, 'X[76] <= 0.25\\ngini = 0.793\\nsamples = 8775\\nvalue = [1266, 1730, 2217, 2007, 1555]\\nclass = 3'),\n",
       " Text(125.44066266475778, 396.4236694214876, 'X[483] <= 0.1\\ngini = 0.792\\nsamples = 8550\\nvalue = [1201, 1699, 2176, 1968, 1506]\\nclass = 3'),\n",
       " Text(123.82926174783843, 395.70485950413223, 'X[161] <= 0.252\\ngini = 0.792\\nsamples = 8164\\nvalue = [1169, 1642, 2090, 1843, 1420]\\nclass = 3'),\n",
       " Text(123.02627181622134, 394.98604958677686, 'X[144] <= 0.264\\ngini = 0.792\\nsamples = 8100\\nvalue = [1165, 1640, 2079, 1813, 1403]\\nclass = 3'),\n",
       " Text(122.12760111982254, 394.2672396694215, 'X[131] <= 0.236\\ngini = 0.792\\nsamples = 8033\\nvalue = [1162, 1637, 2068, 1787, 1379]\\nclass = 3'),\n",
       " Text(121.01137225805161, 393.5484297520661, 'X[40] <= 0.246\\ngini = 0.792\\nsamples = 7858\\nvalue = [1139, 1619, 2037, 1737, 1326]\\nclass = 3'),\n",
       " Text(120.31469230879576, 392.82961983471074, 'X[264] <= 0.119\\ngini = 0.792\\nsamples = 7766\\nvalue = [1138, 1609, 2002, 1701, 1316]\\nclass = 3'),\n",
       " Text(119.39287185484099, 392.11080991735537, 'X[309] <= 0.122\\ngini = 0.792\\nsamples = 7626\\nvalue = [1103, 1563, 1976, 1680, 1304]\\nclass = 3'),\n",
       " Text(118.3940724517626, 391.392, 'X[217] <= 0.227\\ngini = 0.792\\nsamples = 7538\\nvalue = [1098, 1556, 1958, 1645, 1281]\\nclass = 3'),\n",
       " Text(117.1889218788195, 390.6731900826446, 'X[45] <= 0.109\\ngini = 0.792\\nsamples = 7478\\nvalue = [1093, 1549, 1950, 1631, 1255]\\nclass = 3'),\n",
       " Text(115.75280812706995, 389.95438016528925, 'X[270] <= 0.085\\ngini = 0.792\\nsamples = 7345\\nvalue = [1049, 1530, 1920, 1609, 1237]\\nclass = 3'),\n",
       " Text(114.39343634152434, 389.2355702479339, 'X[298] <= 0.27\\ngini = 0.792\\nsamples = 6914\\nvalue = [994, 1432, 1769, 1532, 1187]\\nclass = 3'),\n",
       " Text(113.61651839975423, 388.5167603305785, 'X[96] <= 0.217\\ngini = 0.792\\nsamples = 6873\\nvalue = [992, 1422, 1763, 1529, 1167]\\nclass = 3'),\n",
       " Text(112.56041859657961, 387.79795041322313, 'X[497] <= 0.262\\ngini = 0.792\\nsamples = 6788\\nvalue = [988, 1409, 1749, 1508, 1134]\\nclass = 3'),\n",
       " Text(111.90868143656638, 387.07914049586776, 'X[51] <= 0.458\\ngini = 0.792\\nsamples = 6699\\nvalue = [970, 1379, 1720, 1504, 1126]\\nclass = 3'),\n",
       " Text(111.31906544232749, 386.3603305785124, 'X[202] <= 0.356\\ngini = 0.792\\nsamples = 6677\\nvalue = [958, 1373, 1718, 1504, 1124]\\nclass = 3'),\n",
       " Text(110.61137289840661, 385.641520661157, 'X[410] <= 0.23\\ngini = 0.792\\nsamples = 6622\\nvalue = [954, 1369, 1711, 1483, 1105]\\nclass = 3'),\n",
       " Text(109.69372389093051, 384.92271074380164, 'X[29] <= 0.353\\ngini = 0.792\\nsamples = 6564\\nvalue = [948, 1360, 1699, 1455, 1102]\\nclass = 3'),\n",
       " Text(108.84079971880517, 384.2039008264463, 'X[180] <= 0.102\\ngini = 0.792\\nsamples = 6531\\nvalue = [932, 1354, 1696, 1450, 1099]\\nclass = 3'),\n",
       " Text(107.85535885929421, 383.4850909090909, 'X[73] <= 0.072\\ngini = 0.792\\nsamples = 6380\\nvalue = [916, 1317, 1637, 1420, 1090]\\nclass = 3'),\n",
       " Text(106.85088740815327, 382.7662809917355, 'X[366] <= 0.145\\ngini = 0.792\\nsamples = 6325\\nvalue = [915, 1305, 1626, 1412, 1067]\\nclass = 3'),\n",
       " Text(105.61392661735951, 382.04747107438016, 'X[260] <= 0.114\\ngini = 0.792\\nsamples = 6254\\nvalue = [899, 1296, 1595, 1399, 1065]\\nclass = 3'),\n",
       " Text(104.74577694635944, 381.3286611570248, 'X[211] <= 0.292\\ngini = 0.793\\nsamples = 6030\\nvalue = [881, 1263, 1513, 1341, 1032]\\nclass = 3'),\n",
       " Text(104.23376100598236, 380.6098512396694, 'X[233] <= 0.407\\ngini = 0.793\\nsamples = 5993\\nvalue = [875, 1251, 1495, 1341, 1031]\\nclass = 3'),\n",
       " Text(103.68781772873726, 379.89104132231404, 'X[119] <= 0.159\\ngini = 0.793\\nsamples = 5929\\nvalue = [872, 1241, 1487, 1322, 1007]\\nclass = 3'),\n",
       " Text(103.21810127470411, 379.17223140495867, 'X[406] <= 0.137\\ngini = 0.793\\nsamples = 5919\\nvalue = [864, 1240, 1486, 1322, 1007]\\nclass = 3'),\n",
       " Text(102.59302799634243, 378.4534214876033, 'X[121] <= 0.488\\ngini = 0.793\\nsamples = 5876\\nvalue = [862, 1236, 1481, 1307, 990]\\nclass = 3'),\n",
       " Text(102.02399397064572, 377.7346115702479, 'X[326] <= 0.389\\ngini = 0.793\\nsamples = 5844\\nvalue = [860, 1234, 1476, 1289, 985]\\nclass = 3'),\n",
       " Text(101.35746536380918, 377.01580165289255, 'X[335] <= 0.391\\ngini = 0.793\\nsamples = 5799\\nvalue = [858, 1231, 1468, 1274, 968]\\nclass = 3'),\n",
       " Text(100.64002909164098, 376.2969917355372, 'X[8] <= 0.155\\ngini = 0.793\\nsamples = 5761\\nvalue = [852, 1225, 1448, 1272, 964]\\nclass = 3'),\n",
       " Text(99.97795730366174, 375.5781818181818, 'X[487] <= 0.292\\ngini = 0.793\\nsamples = 5719\\nvalue = [840, 1208, 1444, 1265, 962]\\nclass = 3'),\n",
       " Text(99.44626196091694, 374.85937190082643, 'X[243] <= 0.202\\ngini = 0.793\\nsamples = 5670\\nvalue = [837, 1206, 1433, 1251, 943]\\nclass = 3'),\n",
       " Text(99.04433632959748, 374.14056198347106, 'X[81] <= 0.287\\ngini = 0.793\\nsamples = 5647\\nvalue = [826, 1205, 1425, 1250, 941]\\nclass = 3'),\n",
       " Text(98.71202451151547, 373.4217520661157, 'X[490] <= 0.768\\ngini = 0.793\\nsamples = 5625\\nvalue = [816, 1203, 1416, 1249, 941]\\nclass = 3'),\n",
       " Text(98.41415377667346, 372.7029421487603, 'X[127] <= 0.093\\ngini = 0.792\\nsamples = 5613\\nvalue = [816, 1203, 1416, 1244, 934]\\nclass = 3'),\n",
       " Text(97.97559212184174, 371.98413223140494, 'X[18] <= 0.408\\ngini = 0.792\\nsamples = 5595\\nvalue = [816, 1201, 1415, 1233, 930]\\nclass = 3'),\n",
       " Text(97.62240152835267, 371.26532231404957, 'X[182] <= 0.564\\ngini = 0.792\\nsamples = 5584\\nvalue = [813, 1201, 1415, 1232, 923]\\nclass = 3'),\n",
       " Text(97.12559342784427, 370.5465123966942, 'X[187] <= 0.252\\ngini = 0.792\\nsamples = 5562\\nvalue = [811, 1200, 1414, 1224, 913]\\nclass = 3'),\n",
       " Text(96.39394358491464, 369.8277024793388, 'X[369] <= 0.454\\ngini = 0.792\\nsamples = 5533\\nvalue = [808, 1193, 1413, 1219, 900]\\nclass = 3'),\n",
       " Text(95.48077325103843, 369.10889256198345, 'X[458] <= 0.159\\ngini = 0.792\\nsamples = 5498\\nvalue = [805, 1188, 1410, 1202, 893]\\nclass = 3'),\n",
       " Text(94.54184362130631, 368.3900826446281, 'X[37] <= 0.255\\ngini = 0.792\\nsamples = 5456\\nvalue = [798, 1174, 1392, 1199, 893]\\nclass = 3'),\n",
       " Text(93.88540250642353, 367.6712727272727, 'X[229] <= 0.325\\ngini = 0.793\\nsamples = 5274\\nvalue = [787, 1134, 1326, 1157, 870]\\nclass = 3'),\n",
       " Text(93.52869748367615, 366.95246280991734, 'X[143] <= 0.232\\ngini = 0.793\\nsamples = 5228\\nvalue = [785, 1126, 1320, 1136, 861]\\nclass = 3'),\n",
       " Text(93.20823697531216, 366.23365289256196, 'X[471] <= 0.119\\ngini = 0.793\\nsamples = 5211\\nvalue = [783, 1126, 1319, 1131, 852]\\nclass = 3'),\n",
       " Text(92.82928231667132, 365.5148429752066, 'X[481] <= 0.496\\ngini = 0.793\\nsamples = 5201\\nvalue = [776, 1125, 1317, 1131, 852]\\nclass = 3'),\n",
       " Text(92.33333935747685, 364.7960330578512, 'X[496] <= 0.501\\ngini = 0.793\\nsamples = 5174\\nvalue = [771, 1111, 1312, 1130, 850]\\nclass = 3'),\n",
       " Text(91.8129928836448, 364.07722314049585, 'X[274] <= 0.506\\ngini = 0.793\\nsamples = 5139\\nvalue = [768, 1110, 1306, 1118, 837]\\nclass = 3'),\n",
       " Text(91.41411751329426, 363.3584132231405, 'X[249] <= 0.483\\ngini = 0.793\\nsamples = 5077\\nvalue = [759, 1083, 1294, 1106, 835]\\nclass = 3'),\n",
       " Text(91.0224146276283, 362.6396033057851, 'X[38] <= 0.319\\ngini = 0.793\\nsamples = 5071\\nvalue = [758, 1083, 1294, 1106, 830]\\nclass = 3'),\n",
       " Text(90.39618867114869, 361.92079338842973, 'X[117] <= 0.183\\ngini = 0.792\\nsamples = 5059\\nvalue = [755, 1083, 1294, 1104, 823]\\nclass = 3'),\n",
       " Text(89.40570311627665, 361.20198347107436, 'X[227] <= 0.183\\ngini = 0.792\\nsamples = 4976\\nvalue = [731, 1059, 1276, 1094, 816]\\nclass = 3'),\n",
       " Text(88.4594991209769, 360.483173553719, 'X[363] <= 0.182\\ngini = 0.792\\nsamples = 4914\\nvalue = [725, 1033, 1264, 1080, 812]\\nclass = 3'),\n",
       " Text(87.75576348019794, 359.7643636363636, 'X[401] <= 0.2\\ngini = 0.792\\nsamples = 4833\\nvalue = [707, 1022, 1236, 1074, 794]\\nclass = 3'),\n",
       " Text(87.13746585237763, 359.04555371900824, 'X[43] <= 0.52\\ngini = 0.793\\nsamples = 4766\\nvalue = [705, 1006, 1207, 1061, 787]\\nclass = 3'),\n",
       " Text(86.6081797635724, 358.32674380165287, 'X[332] <= 0.135\\ngini = 0.793\\nsamples = 4737\\nvalue = [698, 992, 1203, 1058, 786]\\nclass = 3'),\n",
       " Text(86.07354030213625, 357.6079338842975, 'X[191] <= 0.484\\ngini = 0.793\\nsamples = 4636\\nvalue = [675, 977, 1165, 1043, 776]\\nclass = 3'),\n",
       " Text(85.6462324524905, 356.8891239669421, 'X[116] <= 0.604\\ngini = 0.792\\nsamples = 4618\\nvalue = [668, 975, 1164, 1042, 769]\\nclass = 3'),\n",
       " Text(85.10597638290356, 356.17031404958675, 'X[148] <= 0.1\\ngini = 0.792\\nsamples = 4609\\nvalue = [662, 975, 1162, 1042, 768]\\nclass = 3'),\n",
       " Text(84.33982387343431, 355.4515041322314, 'X[375] <= 0.076\\ngini = 0.792\\nsamples = 4597\\nvalue = [655, 975, 1160, 1039, 768]\\nclass = 3'),\n",
       " Text(83.35764820647888, 354.732694214876, 'X[150] <= 0.107\\ngini = 0.793\\nsamples = 4473\\nvalue = [644, 951, 1122, 998, 758]\\nclass = 3'),\n",
       " Text(82.62453875557775, 354.0138842975207, 'X[91] <= 0.358\\ngini = 0.793\\nsamples = 4426\\nvalue = [642, 942, 1115, 976, 751]\\nclass = 3'),\n",
       " Text(81.95731724594134, 353.29507438016526, 'X[52] <= 0.206\\ngini = 0.793\\nsamples = 4402\\nvalue = [639, 932, 1115, 973, 743]\\nclass = 3'),\n",
       " Text(81.52174629285514, 352.57626446280995, 'X[452] <= 0.265\\ngini = 0.793\\nsamples = 4298\\nvalue = [624, 907, 1075, 960, 732]\\nclass = 3'),\n",
       " Text(81.09430990569287, 351.8574545454545, 'X[87] <= 0.2\\ngini = 0.793\\nsamples = 4288\\nvalue = [624, 906, 1075, 958, 725]\\nclass = 3'),\n",
       " Text(80.5014034894555, 351.1386446280992, 'X[106] <= 0.334\\ngini = 0.793\\nsamples = 4260\\nvalue = [621, 901, 1072, 943, 723]\\nclass = 3'),\n",
       " Text(79.98360487010306, 350.41983471074377, 'X[318] <= 0.389\\ngini = 0.793\\nsamples = 4220\\nvalue = [617, 898, 1053, 932, 720]\\nclass = 3'),\n",
       " Text(79.49813698338126, 349.70102479338846, 'X[135] <= 0.442\\ngini = 0.793\\nsamples = 4203\\nvalue = [613, 888, 1051, 932, 719]\\nclass = 3'),\n",
       " Text(78.92015074706842, 348.982214876033, 'X[479] <= 0.656\\ngini = 0.793\\nsamples = 4155\\nvalue = [612, 884, 1038, 913, 708]\\nclass = 3'),\n",
       " Text(78.86775747545097, 348.2634049586777, 'X[442] <= 0.378\\ngini = 0.793\\nsamples = 4151\\nvalue = [612, 884, 1038, 909, 708]\\nclass = 3'),\n",
       " Text(78.39289753385192, 347.5445950413223, 'X[299] <= 0.317\\ngini = 0.793\\nsamples = 4079\\nvalue = [608, 876, 1021, 885, 689]\\nclass = 3'),\n",
       " Text(78.02277821792167, 346.82578512396697, 'X[154] <= 0.304\\ngini = 0.793\\nsamples = 4070\\nvalue = [608, 873, 1021, 879, 689]\\nclass = 3'),\n",
       " Text(77.54450594414837, 346.10697520661154, 'X[411] <= 0.058\\ngini = 0.794\\nsamples = 4035\\nvalue = [605, 869, 1004, 870, 687]\\nclass = 3'),\n",
       " Text(77.0856974769674, 345.3881652892562, 'X[450] <= 0.467\\ngini = 0.794\\nsamples = 4010\\nvalue = [604, 859, 993, 869, 685]\\nclass = 3'),\n",
       " Text(76.56757923868835, 344.6693553719008, 'X[255] <= 0.094\\ngini = 0.794\\nsamples = 3996\\nvalue = [597, 854, 992, 869, 684]\\nclass = 3'),\n",
       " Text(75.95048893506976, 343.9505454545455, 'X[461] <= 0.622\\ngini = 0.795\\nsamples = 3820\\nvalue = [583, 818, 930, 831, 658]\\nclass = 3'),\n",
       " Text(75.57424815056805, 343.23173553719005, 'X[89] <= 0.254\\ngini = 0.795\\nsamples = 3814\\nvalue = [583, 813, 930, 831, 657]\\nclass = 3'),\n",
       " Text(74.97894639641697, 342.51292561983473, 'X[154] <= 0.241\\ngini = 0.795\\nsamples = 3784\\nvalue = [574, 806, 918, 830, 656]\\nclass = 3'),\n",
       " Text(74.28607896848041, 341.7941157024793, 'X[126] <= 0.212\\ngini = 0.795\\nsamples = 3771\\nvalue = [573, 798, 918, 828, 654]\\nclass = 3'),\n",
       " Text(73.26709701392934, 341.075305785124, 'X[200] <= 0.255\\ngini = 0.795\\nsamples = 3706\\nvalue = [562, 773, 903, 820, 648]\\nclass = 3'),\n",
       " Text(72.80093125335026, 340.35649586776856, 'X[128] <= 0.628\\ngini = 0.795\\nsamples = 3649\\nvalue = [560, 764, 891, 797, 637]\\nclass = 3'),\n",
       " Text(72.74853798173282, 339.63768595041324, 'X[336] <= 0.567\\ngini = 0.795\\nsamples = 3645\\nvalue = [556, 764, 891, 797, 637]\\nclass = 3'),\n",
       " Text(72.31394254094027, 338.9188760330578, 'X[384] <= 0.281\\ngini = 0.795\\nsamples = 3631\\nvalue = [556, 764, 890, 790, 631]\\nclass = 3'),\n",
       " Text(71.83770119648592, 338.2000661157025, 'X[118] <= 0.298\\ngini = 0.795\\nsamples = 3600\\nvalue = [554, 757, 874, 786, 629]\\nclass = 3'),\n",
       " Text(71.73291465325106, 337.48125619834707, 'X[446] <= 0.52\\ngini = 0.795\\nsamples = 3594\\nvalue = [554, 757, 873, 786, 624]\\nclass = 3'),\n",
       " Text(71.68052138163361, 336.76244628099175, 'X[214] <= 0.107\\ngini = 0.795\\nsamples = 3590\\nvalue = [554, 757, 869, 786, 624]\\nclass = 3'),\n",
       " Text(71.22577477309055, 336.0436363636363, 'X[437] <= 0.153\\ngini = 0.795\\nsamples = 3571\\nvalue = [553, 747, 866, 781, 624]\\nclass = 3'),\n",
       " Text(70.68303445732644, 335.324826446281, 'X[206] <= 0.483\\ngini = 0.795\\nsamples = 3527\\nvalue = [551, 734, 848, 772, 622]\\nclass = 3'),\n",
       " Text(70.2786663568249, 334.6060165289256, 'X[329] <= 0.179\\ngini = 0.796\\nsamples = 3512\\nvalue = [550, 733, 845, 763, 621]\\nclass = 3'),\n",
       " Text(69.83668305714383, 333.88720661157026, 'X[84] <= 0.249\\ngini = 0.796\\nsamples = 3499\\nvalue = [549, 733, 837, 762, 618]\\nclass = 3'),\n",
       " Text(69.26707608748632, 333.16839669421483, 'X[70] <= 0.401\\ngini = 0.796\\nsamples = 3472\\nvalue = [547, 730, 832, 748, 615]\\nclass = 3'),\n",
       " Text(68.67799150015435, 332.4495867768595, 'X[488] <= 0.4\\ngini = 0.796\\nsamples = 3437\\nvalue = [542, 715, 822, 746, 612]\\nclass = 3'),\n",
       " Text(68.07614831328219, 331.7307768595041, 'X[213] <= 0.54\\ngini = 0.796\\nsamples = 3400\\nvalue = [532, 704, 818, 744, 602]\\nclass = 3'),\n",
       " Text(67.73695092122556, 331.0119669421488, 'X[408] <= 0.901\\ngini = 0.795\\nsamples = 3345\\nvalue = [519, 685, 811, 732, 598]\\nclass = 3'),\n",
       " Text(67.68455764960812, 330.2931570247934, 'X[310] <= 0.676\\ngini = 0.795\\nsamples = 3338\\nvalue = [518, 685, 810, 732, 593]\\nclass = 3'),\n",
       " Text(67.57977110637326, 329.57434710743803, 'X[85] <= 0.798\\ngini = 0.795\\nsamples = 3333\\nvalue = [514, 685, 809, 732, 593]\\nclass = 3'),\n",
       " Text(67.52737783475581, 328.85553719008266, 'X[446] <= 0.076\\ngini = 0.795\\nsamples = 3330\\nvalue = [511, 685, 809, 732, 593]\\nclass = 3'),\n",
       " Text(67.24193258777329, 328.1367272727273, 'X[98] <= 0.411\\ngini = 0.795\\nsamples = 3323\\nvalue = [511, 684, 809, 731, 588]\\nclass = 3'),\n",
       " Text(66.82822190866055, 327.4179173553719, 'X[98] <= 0.302\\ngini = 0.795\\nsamples = 3292\\nvalue = [510, 681, 802, 724, 575]\\nclass = 3'),\n",
       " Text(66.4985366308007, 326.69910743801654, 'X[157] <= 0.062\\ngini = 0.795\\nsamples = 3274\\nvalue = [508, 671, 799, 722, 574]\\nclass = 3'),\n",
       " Text(66.23211561221176, 325.98029752066117, 'X[173] <= 0.105\\ngini = 0.795\\nsamples = 3260\\nvalue = [508, 663, 795, 720, 574]\\nclass = 3'),\n",
       " Text(66.17972234059432, 325.2614876033058, 'X[278] <= 0.619\\ngini = 0.795\\nsamples = 3256\\nvalue = [508, 663, 791, 720, 574]\\nclass = 3'),\n",
       " Text(65.90884666150362, 324.5426776859504, 'X[440] <= 0.674\\ngini = 0.795\\nsamples = 3249\\nvalue = [507, 663, 790, 720, 569]\\nclass = 3'),\n",
       " Text(65.85645338988618, 323.82386776859505, 'X[21] <= 0.396\\ngini = 0.795\\nsamples = 3246\\nvalue = [504, 663, 790, 720, 569]\\nclass = 3'),\n",
       " Text(65.47188184655705, 323.1050578512397, 'X[178] <= 0.427\\ngini = 0.795\\nsamples = 3225\\nvalue = [502, 662, 788, 713, 560]\\nclass = 3'),\n",
       " Text(65.04329502541214, 322.3862479338843, 'X[25] <= 0.233\\ngini = 0.795\\nsamples = 3215\\nvalue = [498, 657, 788, 713, 559]\\nclass = 3'),\n",
       " Text(64.60526755606178, 321.66743801652893, 'X[210] <= 0.33\\ngini = 0.795\\nsamples = 3135\\nvalue = [491, 647, 762, 699, 536]\\nclass = 3'),\n",
       " Text(64.25969449248758, 320.94862809917356, 'X[213] <= 0.506\\ngini = 0.795\\nsamples = 3109\\nvalue = [487, 635, 760, 696, 531]\\nclass = 3'),\n",
       " Text(64.20730122087015, 320.2298181818182, 'X[277] <= 0.418\\ngini = 0.795\\nsamples = 3106\\nvalue = [487, 635, 760, 696, 528]\\nclass = 3'),\n",
       " Text(64.15490794925272, 319.5110082644628, 'X[227] <= 0.131\\ngini = 0.795\\nsamples = 3103\\nvalue = [487, 635, 760, 696, 525]\\nclass = 3'),\n",
       " Text(64.10251467763528, 318.79219834710744, 'X[459] <= 0.626\\ngini = 0.794\\nsamples = 3100\\nvalue = [487, 635, 760, 696, 522]\\nclass = 3'),\n",
       " Text(63.804318087617645, 318.0733884297521, 'X[156] <= 0.678\\ngini = 0.794\\nsamples = 3095\\nvalue = [487, 635, 759, 696, 518]\\nclass = 3'),\n",
       " Text(63.36510472243468, 317.3545785123967, 'X[433] <= 0.355\\ngini = 0.794\\nsamples = 3088\\nvalue = [483, 632, 759, 696, 518]\\nclass = 3'),\n",
       " Text(62.80103762177336, 316.6357685950413, 'X[348] <= 0.311\\ngini = 0.794\\nsamples = 3080\\nvalue = [478, 631, 759, 694, 518]\\nclass = 3'),\n",
       " Text(62.288524361955574, 315.91695867768595, 'X[49] <= 0.323\\ngini = 0.794\\nsamples = 3024\\nvalue = [468, 610, 748, 687, 511]\\nclass = 3'),\n",
       " Text(61.87911878382486, 315.1981487603306, 'X[216] <= 0.273\\ngini = 0.794\\nsamples = 3012\\nvalue = [466, 610, 744, 687, 505]\\nclass = 3'),\n",
       " Text(61.479453800502895, 314.4793388429752, 'X[419] <= 0.493\\ngini = 0.794\\nsamples = 3001\\nvalue = [461, 609, 744, 682, 505]\\nclass = 3'),\n",
       " Text(60.99448346356359, 313.76052892561984, 'X[337] <= 0.425\\ngini = 0.794\\nsamples = 2991\\nvalue = [461, 604, 744, 681, 501]\\nclass = 3'),\n",
       " Text(60.44368896262444, 313.04171900826447, 'X[225] <= 0.296\\ngini = 0.793\\nsamples = 2973\\nvalue = [459, 599, 743, 679, 493]\\nclass = 3'),\n",
       " Text(60.10180239919896, 312.3229090909091, 'X[300] <= 0.381\\ngini = 0.794\\nsamples = 2949\\nvalue = [458, 597, 734, 668, 492]\\nclass = 3'),\n",
       " Text(59.91576535271361, 311.6040991735537, 'X[473] <= 0.713\\ngini = 0.794\\nsamples = 2932\\nvalue = [451, 591, 732, 667, 491]\\nclass = 3'),\n",
       " Text(59.86337208109618, 310.88528925619835, 'X[24] <= 0.567\\ngini = 0.794\\nsamples = 2929\\nvalue = [451, 588, 732, 667, 491]\\nclass = 3'),\n",
       " Text(59.81097880947875, 310.166479338843, 'X[72] <= 0.939\\ngini = 0.794\\nsamples = 2926\\nvalue = [451, 585, 732, 667, 491]\\nclass = 3'),\n",
       " Text(59.75858553786131, 309.4476694214876, 'X[277] <= 0.303\\ngini = 0.794\\nsamples = 2923\\nvalue = [451, 582, 732, 667, 491]\\nclass = 3'),\n",
       " Text(59.706192266243875, 308.72885950413223, 'X[251] <= 0.737\\ngini = 0.794\\nsamples = 2920\\nvalue = [451, 579, 732, 667, 491]\\nclass = 3'),\n",
       " Text(59.438904716508056, 308.01004958677686, 'X[256] <= 0.62\\ngini = 0.794\\nsamples = 2913\\nvalue = [451, 574, 731, 666, 491]\\nclass = 3'),\n",
       " Text(59.06150943188872, 307.2912396694215, 'X[427] <= 0.293\\ngini = 0.794\\nsamples = 2899\\nvalue = [449, 574, 728, 658, 490]\\nclass = 3'),\n",
       " Text(58.75206167139825, 306.5724297520661, 'X[427] <= 0.208\\ngini = 0.794\\nsamples = 2833\\nvalue = [439, 563, 701, 648, 482]\\nclass = 3'),\n",
       " Text(58.47372241593063, 305.85361983471074, 'X[444] <= 0.359\\ngini = 0.794\\nsamples = 2820\\nvalue = [432, 560, 700, 648, 480]\\nclass = 3'),\n",
       " Text(58.28379680631743, 305.13480991735537, 'X[296] <= 0.502\\ngini = 0.794\\nsamples = 2812\\nvalue = [432, 555, 697, 648, 480]\\nclass = 3'),\n",
       " Text(58.061125401943336, 304.416, 'X[478] <= 0.563\\ngini = 0.794\\nsamples = 2804\\nvalue = [427, 554, 696, 647, 480]\\nclass = 3'),\n",
       " Text(57.877748951282314, 303.6971900826446, 'X[168] <= 0.392\\ngini = 0.794\\nsamples = 2796\\nvalue = [427, 549, 695, 647, 478]\\nclass = 3'),\n",
       " Text(57.77296240804744, 302.97838016528925, 'X[272] <= 0.559\\ngini = 0.794\\nsamples = 2791\\nvalue = [427, 549, 695, 643, 477]\\nclass = 3'),\n",
       " Text(57.72056913643001, 302.2595702479339, 'X[226] <= 0.459\\ngini = 0.794\\nsamples = 2788\\nvalue = [427, 549, 695, 640, 477]\\nclass = 3'),\n",
       " Text(57.668175864812575, 301.5407603305785, 'X[125] <= 0.444\\ngini = 0.794\\nsamples = 2785\\nvalue = [427, 549, 695, 637, 477]\\nclass = 3'),\n",
       " Text(57.37165533824016, 300.82195041322314, 'X[420] <= 0.283\\ngini = 0.794\\nsamples = 2780\\nvalue = [427, 548, 695, 633, 477]\\nclass = 3'),\n",
       " Text(56.935794099947636, 300.10314049586776, 'X[495] <= 0.431\\ngini = 0.794\\nsamples = 2762\\nvalue = [426, 547, 693, 625, 471]\\nclass = 3'),\n",
       " Text(56.5356110679195, 299.3843305785124, 'X[15] <= 0.374\\ngini = 0.794\\nsamples = 2746\\nvalue = [422, 547, 692, 618, 467]\\nclass = 3'),\n",
       " Text(56.232981084228854, 298.665520661157, 'X[59] <= 0.416\\ngini = 0.794\\nsamples = 2737\\nvalue = [419, 546, 692, 613, 467]\\nclass = 3'),\n",
       " Text(55.94208074655217, 297.94671074380165, 'X[130] <= 0.073\\ngini = 0.794\\nsamples = 2721\\nvalue = [414, 540, 687, 613, 467]\\nclass = 3'),\n",
       " Text(55.596049793477256, 297.2279008264463, 'X[331] <= 0.14\\ngini = 0.793\\nsamples = 2710\\nvalue = [413, 540, 684, 612, 461]\\nclass = 3'),\n",
       " Text(55.16595424541461, 296.5090909090909, 'X[348] <= 0.223\\ngini = 0.793\\nsamples = 2695\\nvalue = [411, 536, 684, 610, 454]\\nclass = 3'),\n",
       " Text(54.82969586546365, 295.79028099173553, 'X[16] <= 0.24\\ngini = 0.793\\nsamples = 2670\\nvalue = [407, 533, 671, 607, 452]\\nclass = 3'),\n",
       " Text(54.523932006883776, 295.07147107438016, 'X[479] <= 0.307\\ngini = 0.793\\nsamples = 2660\\nvalue = [405, 531, 671, 601, 452]\\nclass = 3'),\n",
       " Text(54.17437064781121, 294.3526611570248, 'X[88] <= 0.189\\ngini = 0.793\\nsamples = 2646\\nvalue = [399, 527, 667, 601, 452]\\nclass = 3'),\n",
       " Text(53.73721428775324, 293.6338512396694, 'X[99] <= 0.366\\ngini = 0.793\\nsamples = 2639\\nvalue = [399, 527, 667, 598, 448]\\nclass = 3'),\n",
       " Text(53.314793535337664, 292.91504132231404, 'X[27] <= 0.519\\ngini = 0.793\\nsamples = 2576\\nvalue = [393, 511, 651, 591, 430]\\nclass = 3'),\n",
       " Text(53.26240026372023, 292.19623140495867, 'X[163] <= 0.482\\ngini = 0.793\\nsamples = 2573\\nvalue = [393, 511, 651, 588, 430]\\nclass = 3'),\n",
       " Text(53.06592549515485, 291.4774214876033, 'X[163] <= 0.416\\ngini = 0.793\\nsamples = 2558\\nvalue = [392, 511, 649, 581, 425]\\nclass = 3'),\n",
       " Text(52.88254904449383, 290.7586115702479, 'X[170] <= 0.451\\ngini = 0.793\\nsamples = 2553\\nvalue = [392, 507, 649, 581, 424]\\nclass = 3'),\n",
       " Text(52.67297595802409, 290.03980165289255, 'X[72] <= 0.699\\ngini = 0.793\\nsamples = 2540\\nvalue = [391, 505, 641, 579, 424]\\nclass = 3'),\n",
       " Text(52.568189414789224, 289.3209917355372, 'X[231] <= 0.869\\ngini = 0.793\\nsamples = 2535\\nvalue = [391, 505, 640, 575, 424]\\nclass = 3'),\n",
       " Text(52.51579614317179, 288.6021818181818, 'X[231] <= 0.627\\ngini = 0.793\\nsamples = 2532\\nvalue = [391, 505, 637, 575, 424]\\nclass = 3'),\n",
       " Text(52.46340287155436, 287.88337190082643, 'X[64] <= 0.486\\ngini = 0.794\\nsamples = 2528\\nvalue = [391, 505, 637, 571, 424]\\nclass = 3'),\n",
       " Text(52.41100959993692, 287.16456198347106, 'X[469] <= 0.161\\ngini = 0.794\\nsamples = 2525\\nvalue = [391, 505, 634, 571, 424]\\nclass = 3'),\n",
       " Text(52.08598177847382, 286.4457520661157, 'X[62] <= 0.397\\ngini = 0.794\\nsamples = 2518\\nvalue = [388, 505, 634, 567, 424]\\nclass = 3'),\n",
       " Text(51.6978924936348, 285.7269421487603, 'X[459] <= 0.455\\ngini = 0.794\\nsamples = 2502\\nvalue = [388, 502, 625, 565, 422]\\nclass = 3'),\n",
       " Text(51.645499222017364, 285.00813223140494, 'X[120] <= 0.443\\ngini = 0.794\\nsamples = 2499\\nvalue = [388, 499, 625, 565, 422]\\nclass = 3'),\n",
       " Text(51.18368028204392, 284.28932231404957, 'X[439] <= 0.208\\ngini = 0.794\\nsamples = 2491\\nvalue = [386, 494, 625, 564, 422]\\nclass = 3'),\n",
       " Text(50.67918857503651, 283.5705123966942, 'X[496] <= 0.24\\ngini = 0.794\\nsamples = 2465\\nvalue = [384, 489, 612, 562, 418]\\nclass = 3'),\n",
       " Text(50.325121056239624, 282.8517024793388, 'X[5] <= 0.412\\ngini = 0.794\\nsamples = 2418\\nvalue = [378, 476, 607, 544, 413]\\nclass = 3'),\n",
       " Text(50.06232882739405, 282.13289256198345, 'X[86] <= 0.376\\ngini = 0.794\\nsamples = 2408\\nvalue = [378, 470, 603, 544, 413]\\nclass = 3'),\n",
       " Text(49.6939241845552, 281.4140826446281, 'X[476] <= 0.487\\ngini = 0.794\\nsamples = 2390\\nvalue = [377, 470, 593, 539, 411]\\nclass = 3'),\n",
       " Text(49.4286543434344, 280.6952727272727, 'X[86] <= 0.194\\ngini = 0.794\\nsamples = 2377\\nvalue = [375, 468, 593, 537, 404]\\nclass = 3'),\n",
       " Text(49.21247429089743, 279.97646280991734, 'X[496] <= 0.21\\ngini = 0.794\\nsamples = 2361\\nvalue = [375, 467, 590, 533, 396]\\nclass = 3'),\n",
       " Text(49.04208054391065, 279.25765289256196, 'X[203] <= 0.64\\ngini = 0.794\\nsamples = 2355\\nvalue = [375, 466, 585, 533, 396]\\nclass = 3'),\n",
       " Text(48.85847286478939, 278.5388429752066, 'X[97] <= 0.388\\ngini = 0.794\\nsamples = 2349\\nvalue = [371, 466, 585, 533, 394]\\nclass = 3'),\n",
       " Text(48.64843732139918, 277.8200330578512, 'X[462] <= 0.702\\ngini = 0.794\\nsamples = 2342\\nvalue = [370, 465, 585, 528, 394]\\nclass = 3'),\n",
       " Text(48.596044049781746, 277.10122314049585, 'X[268] <= 0.362\\ngini = 0.794\\nsamples = 2339\\nvalue = [370, 465, 585, 525, 394]\\nclass = 3'),\n",
       " Text(48.333152777853634, 276.3824132231405, 'X[189] <= 0.278\\ngini = 0.794\\nsamples = 2329\\nvalue = [369, 459, 584, 523, 394]\\nclass = 3'),\n",
       " Text(48.12172986370201, 275.6636033057851, 'X[239] <= 0.297\\ngini = 0.794\\nsamples = 2323\\nvalue = [365, 458, 584, 522, 394]\\nclass = 3'),\n",
       " Text(48.06933659208457, 274.94479338842973, 'X[71] <= 0.258\\ngini = 0.794\\nsamples = 2320\\nvalue = [365, 458, 584, 519, 394]\\nclass = 3'),\n",
       " Text(47.80367057863362, 274.22598347107436, 'X[99] <= 0.275\\ngini = 0.794\\nsamples = 2309\\nvalue = [365, 457, 583, 516, 388]\\nclass = 3'),\n",
       " Text(47.58669818143634, 273.507173553719, 'X[356] <= 0.219\\ngini = 0.794\\nsamples = 2290\\nvalue = [359, 457, 577, 509, 388]\\nclass = 3'),\n",
       " Text(47.5343049098189, 272.78836363636367, 'X[68] <= 0.662\\ngini = 0.794\\nsamples = 2287\\nvalue = [359, 454, 577, 509, 388]\\nclass = 3'),\n",
       " Text(47.48191163820147, 272.06955371900824, 'X[151] <= 0.747\\ngini = 0.794\\nsamples = 2284\\nvalue = [359, 454, 574, 509, 388]\\nclass = 3'),\n",
       " Text(47.429518366584034, 271.3507438016529, 'X[94] <= 0.752\\ngini = 0.794\\nsamples = 2281\\nvalue = [359, 454, 571, 509, 388]\\nclass = 3'),\n",
       " Text(47.205146658659196, 270.6319338842975, 'X[224] <= 0.343\\ngini = 0.794\\nsamples = 2275\\nvalue = [358, 454, 570, 509, 384]\\nclass = 3'),\n",
       " Text(47.0183696008967, 269.9131239669422, 'X[402] <= 0.219\\ngini = 0.794\\nsamples = 2271\\nvalue = [355, 454, 570, 509, 383]\\nclass = 3'),\n",
       " Text(46.801995300224, 269.19431404958675, 'X[415] <= 0.483\\ngini = 0.794\\nsamples = 2266\\nvalue = [355, 453, 566, 509, 383]\\nclass = 3'),\n",
       " Text(46.52642651373091, 268.47550413223144, 'X[459] <= 0.374\\ngini = 0.794\\nsamples = 2257\\nvalue = [355, 452, 560, 508, 382]\\nclass = 3'),\n",
       " Text(46.34204184206677, 267.756694214876, 'X[140] <= 0.391\\ngini = 0.794\\nsamples = 2249\\nvalue = [350, 452, 559, 507, 381]\\nclass = 3'),\n",
       " Text(46.2372552988319, 267.0378842975207, 'X[250] <= 0.129\\ngini = 0.794\\nsamples = 2244\\nvalue = [350, 452, 555, 506, 381]\\nclass = 3'),\n",
       " Text(46.184862027214464, 266.31907438016526, 'X[272] <= 0.066\\ngini = 0.794\\nsamples = 2241\\nvalue = [350, 452, 555, 503, 381]\\nclass = 3'),\n",
       " Text(45.81609268388619, 265.60026446280995, 'X[43] <= 0.352\\ngini = 0.794\\nsamples = 2225\\nvalue = [347, 445, 550, 503, 380]\\nclass = 3'),\n",
       " Text(45.497700170169104, 264.8814545454545, 'X[193] <= 0.319\\ngini = 0.794\\nsamples = 2216\\nvalue = [347, 443, 550, 501, 375]\\nclass = 3'),\n",
       " Text(45.17527477243955, 264.1626446280992, 'X[193] <= 0.259\\ngini = 0.794\\nsamples = 2206\\nvalue = [347, 441, 548, 495, 375]\\nclass = 3'),\n",
       " Text(45.12288150082212, 263.4438347107438, 'X[155] <= 0.467\\ngini = 0.794\\nsamples = 2203\\nvalue = [347, 441, 545, 495, 375]\\nclass = 3'),\n",
       " Text(44.73999706345018, 262.72502479338846, 'X[167] <= 0.647\\ngini = 0.795\\nsamples = 2190\\nvalue = [347, 440, 541, 488, 374]\\nclass = 3'),\n",
       " Text(44.44576763326322, 262.006214876033, 'X[1] <= 0.62\\ngini = 0.795\\nsamples = 2179\\nvalue = [347, 439, 540, 482, 371]\\nclass = 3'),\n",
       " Text(44.17166840259391, 261.2874049586777, 'X[61] <= 0.531\\ngini = 0.795\\nsamples = 2175\\nvalue = [344, 439, 540, 481, 371]\\nclass = 3'),\n",
       " Text(43.78064975610759, 260.5685950413223, 'X[346] <= 0.52\\ngini = 0.795\\nsamples = 2166\\nvalue = [343, 439, 535, 481, 368]\\nclass = 3'),\n",
       " Text(43.41775863607443, 259.84978512396697, 'X[7] <= 0.134\\ngini = 0.795\\nsamples = 2156\\nvalue = [342, 438, 534, 475, 367]\\nclass = 3'),\n",
       " Text(43.058729297330146, 259.13097520661154, 'X[473] <= 0.121\\ngini = 0.794\\nsamples = 2145\\nvalue = [339, 436, 534, 474, 362]\\nclass = 3'),\n",
       " Text(42.81221006439849, 258.4121652892562, 'X[90] <= 0.503\\ngini = 0.794\\nsamples = 2130\\nvalue = [332, 434, 530, 473, 361]\\nclass = 3'),\n",
       " Text(42.75981679278106, 257.6933553719008, 'X[191] <= 0.232\\ngini = 0.794\\nsamples = 2127\\nvalue = [332, 434, 527, 473, 361]\\nclass = 3'),\n",
       " Text(42.47635141338749, 256.9745454545455, 'X[383] <= 0.347\\ngini = 0.794\\nsamples = 2121\\nvalue = [332, 432, 527, 469, 361]\\nclass = 3'),\n",
       " Text(42.06660046945265, 256.25573553719005, 'X[454] <= 0.211\\ngini = 0.795\\nsamples = 2109\\nvalue = [330, 430, 520, 469, 360]\\nclass = 3'),\n",
       " Text(41.56145821128759, 255.5369256198347, 'X[14] <= 0.196\\ngini = 0.795\\nsamples = 2081\\nvalue = [327, 424, 507, 465, 358]\\nclass = 3'),\n",
       " Text(41.25848286179282, 254.81811570247933, 'X[397] <= 0.676\\ngini = 0.795\\nsamples = 2063\\nvalue = [325, 418, 499, 464, 357]\\nclass = 3'),\n",
       " Text(40.9668917925079, 254.09930578512396, 'X[397] <= 0.179\\ngini = 0.795\\nsamples = 2048\\nvalue = [325, 411, 495, 463, 354]\\nclass = 3'),\n",
       " Text(40.69806928364267, 253.3804958677686, 'X[397] <= 0.099\\ngini = 0.795\\nsamples = 2012\\nvalue = [317, 409, 481, 457, 348]\\nclass = 3'),\n",
       " Text(40.645676012025234, 252.66168595041322, 'X[478] <= 0.527\\ngini = 0.795\\nsamples = 2009\\nvalue = [317, 406, 481, 457, 348]\\nclass = 3'),\n",
       " Text(40.5932827404078, 251.94287603305784, 'X[210] <= 0.156\\ngini = 0.795\\nsamples = 2006\\nvalue = [317, 406, 478, 457, 348]\\nclass = 3'),\n",
       " Text(40.3176040807645, 251.22406611570247, 'X[76] <= 0.077\\ngini = 0.795\\nsamples = 1995\\nvalue = [317, 405, 476, 455, 342]\\nclass = 3'),\n",
       " Text(40.08060639118251, 250.5052561983471, 'X[278] <= 0.259\\ngini = 0.795\\nsamples = 1982\\nvalue = [311, 403, 473, 455, 340]\\nclass = 3'),\n",
       " Text(39.868577370105704, 249.78644628099173, 'X[213] <= 0.07\\ngini = 0.795\\nsamples = 1978\\nvalue = [308, 403, 473, 454, 340]\\nclass = 3'),\n",
       " Text(39.6016991428044, 249.06763636363635, 'X[335] <= 0.306\\ngini = 0.795\\nsamples = 1955\\nvalue = [308, 396, 471, 446, 334]\\nclass = 3'),\n",
       " Text(39.54930587118697, 248.34882644628098, 'X[208] <= 0.408\\ngini = 0.795\\nsamples = 1952\\nvalue = [308, 396, 468, 446, 334]\\nclass = 3'),\n",
       " Text(39.329909046288954, 247.6300165289256, 'X[41] <= 0.596\\ngini = 0.795\\nsamples = 1944\\nvalue = [307, 392, 468, 446, 331]\\nclass = 3'),\n",
       " Text(39.153081754580114, 246.91120661157024, 'X[104] <= 0.562\\ngini = 0.795\\nsamples = 1940\\nvalue = [304, 391, 468, 446, 331]\\nclass = 3'),\n",
       " Text(38.956606986014734, 246.19239669421486, 'X[181] <= 0.495\\ngini = 0.795\\nsamples = 1934\\nvalue = [303, 387, 468, 445, 331]\\nclass = 3'),\n",
       " Text(38.82562380697115, 245.4735867768595, 'X[378] <= 0.611\\ngini = 0.795\\nsamples = 1930\\nvalue = [303, 387, 468, 444, 328]\\nclass = 3'),\n",
       " Text(38.72083726373628, 244.75477685950412, 'X[378] <= 0.568\\ngini = 0.794\\nsamples = 1926\\nvalue = [302, 384, 468, 444, 328]\\nclass = 3'),\n",
       " Text(38.668443992118846, 244.03596694214875, 'X[346] <= 0.451\\ngini = 0.795\\nsamples = 1923\\nvalue = [302, 384, 465, 444, 328]\\nclass = 3'),\n",
       " Text(38.61605072050141, 243.31715702479337, 'X[135] <= 0.427\\ngini = 0.794\\nsamples = 1921\\nvalue = [300, 384, 465, 444, 328]\\nclass = 3'),\n",
       " Text(38.56365744888397, 242.598347107438, 'X[182] <= 0.558\\ngini = 0.794\\nsamples = 1919\\nvalue = [298, 384, 465, 444, 328]\\nclass = 3'),\n",
       " Text(38.51126417726654, 241.87953719008263, 'X[287] <= 0.654\\ngini = 0.794\\nsamples = 1917\\nvalue = [296, 384, 465, 444, 328]\\nclass = 3'),\n",
       " Text(38.45887090564911, 241.16072727272726, 'X[253] <= 0.712\\ngini = 0.794\\nsamples = 1915\\nvalue = [294, 384, 465, 444, 328]\\nclass = 3'),\n",
       " Text(38.406477634031674, 240.44191735537188, 'X[374] <= 0.646\\ngini = 0.794\\nsamples = 1913\\nvalue = [292, 384, 465, 444, 328]\\nclass = 3'),\n",
       " Text(38.35408436241424, 239.7231074380165, 'X[305] <= 0.584\\ngini = 0.794\\nsamples = 1911\\nvalue = [290, 384, 465, 444, 328]\\nclass = 3'),\n",
       " Text(38.3016910907968, 239.00429752066114, 'X[230] <= 0.384\\ngini = 0.794\\nsamples = 1908\\nvalue = [290, 384, 465, 441, 328]\\nclass = 3'),\n",
       " Text(37.998545886993355, 238.28548760330577, 'X[230] <= 0.327\\ngini = 0.794\\nsamples = 1892\\nvalue = [285, 380, 464, 435, 328]\\nclass = 3'),\n",
       " Text(37.94615261537592, 237.5666776859504, 'X[450] <= 0.188\\ngini = 0.794\\nsamples = 1889\\nvalue = [285, 380, 461, 435, 328]\\nclass = 3'),\n",
       " Text(37.65422183747364, 236.84786776859502, 'X[421] <= 0.415\\ngini = 0.794\\nsamples = 1881\\nvalue = [284, 375, 460, 435, 327]\\nclass = 3'),\n",
       " Text(37.35852327556496, 236.12905785123965, 'X[289] <= 0.273\\ngini = 0.794\\nsamples = 1876\\nvalue = [284, 375, 456, 434, 327]\\nclass = 3'),\n",
       " Text(36.92430596659991, 235.41024793388428, 'X[284] <= 0.385\\ngini = 0.794\\nsamples = 1858\\nvalue = [278, 374, 453, 427, 326]\\nclass = 3'),\n",
       " Text(36.658393972270304, 234.6914380165289, 'X[107] <= 0.643\\ngini = 0.794\\nsamples = 1845\\nvalue = [275, 368, 451, 427, 324]\\nclass = 3'),\n",
       " Text(36.440929613315696, 233.97262809917353, 'X[107] <= 0.436\\ngini = 0.794\\nsamples = 1841\\nvalue = [275, 365, 451, 427, 323]\\nclass = 3'),\n",
       " Text(36.16318071025879, 233.25381818181816, 'X[209] <= 0.267\\ngini = 0.794\\nsamples = 1829\\nvalue = [274, 363, 444, 426, 322]\\nclass = 3'),\n",
       " Text(35.922042533849584, 232.5350082644628, 'X[447] <= 0.686\\ngini = 0.794\\nsamples = 1825\\nvalue = [273, 360, 444, 426, 322]\\nclass = 3'),\n",
       " Text(35.59694599588347, 231.81619834710742, 'X[286] <= 0.438\\ngini = 0.794\\nsamples = 1815\\nvalue = [272, 359, 443, 420, 321]\\nclass = 3'),\n",
       " Text(35.313505821273296, 231.09738842975204, 'X[408] <= 0.4\\ngini = 0.794\\nsamples = 1796\\nvalue = [272, 356, 440, 411, 317]\\nclass = 3'),\n",
       " Text(35.06098510175755, 230.37857851239667, 'X[3] <= 0.489\\ngini = 0.794\\nsamples = 1781\\nvalue = [270, 355, 439, 404, 313]\\nclass = 3'),\n",
       " Text(34.81791002081324, 229.6597685950413, 'X[396] <= 0.185\\ngini = 0.794\\nsamples = 1772\\nvalue = [270, 355, 438, 400, 309]\\nclass = 3'),\n",
       " Text(34.59372621701177, 228.94095867768593, 'X[27] <= 0.249\\ngini = 0.794\\nsamples = 1755\\nvalue = [270, 347, 435, 396, 307]\\nclass = 3'),\n",
       " Text(34.54133294539434, 228.22214876033055, 'X[361] <= 0.945\\ngini = 0.794\\nsamples = 1753\\nvalue = [268, 347, 435, 396, 307]\\nclass = 3'),\n",
       " Text(34.4889396737769, 227.5033388429752, 'X[268] <= 0.242\\ngini = 0.794\\nsamples = 1751\\nvalue = [268, 347, 435, 396, 305]\\nclass = 3'),\n",
       " Text(34.436546402159465, 226.78452892561984, 'X[197] <= 0.772\\ngini = 0.794\\nsamples = 1749\\nvalue = [268, 347, 435, 396, 303]\\nclass = 3'),\n",
       " Text(34.38415313054203, 226.06571900826447, 'X[302] <= 0.509\\ngini = 0.794\\nsamples = 1747\\nvalue = [268, 347, 435, 396, 301]\\nclass = 3'),\n",
       " Text(34.3317598589246, 225.3469090909091, 'X[460] <= 0.506\\ngini = 0.794\\nsamples = 1745\\nvalue = [268, 347, 435, 396, 299]\\nclass = 3'),\n",
       " Text(34.04057206617397, 224.62809917355372, 'X[423] <= 0.198\\ngini = 0.794\\nsamples = 1741\\nvalue = [267, 347, 435, 393, 299]\\nclass = 3'),\n",
       " Text(33.61537629552502, 223.90928925619835, 'X[344] <= 0.153\\ngini = 0.794\\nsamples = 1727\\nvalue = [266, 347, 428, 391, 295]\\nclass = 3'),\n",
       " Text(33.18413092716659, 223.19047933884298, 'X[190] <= 0.065\\ngini = 0.794\\nsamples = 1666\\nvalue = [259, 332, 415, 370, 290]\\nclass = 3'),\n",
       " Text(32.897966178241525, 222.4716694214876, 'X[470] <= 0.076\\ngini = 0.794\\nsamples = 1655\\nvalue = [256, 332, 413, 364, 290]\\nclass = 3'),\n",
       " Text(32.639996310095995, 221.75285950413223, 'X[68] <= 0.262\\ngini = 0.794\\nsamples = 1644\\nvalue = [255, 332, 412, 358, 287]\\nclass = 3'),\n",
       " Text(32.386022931892114, 221.03404958677686, 'X[170] <= 0.239\\ngini = 0.794\\nsamples = 1639\\nvalue = [252, 332, 412, 358, 285]\\nclass = 3'),\n",
       " Text(32.14004253357152, 220.3152396694215, 'X[424] <= 0.678\\ngini = 0.794\\nsamples = 1633\\nvalue = [251, 328, 412, 357, 285]\\nclass = 3'),\n",
       " Text(31.91004809501749, 219.59642975206611, 'X[107] <= 0.331\\ngini = 0.794\\nsamples = 1620\\nvalue = [249, 326, 411, 350, 284]\\nclass = 3'),\n",
       " Text(31.80526155178262, 218.87761983471074, 'X[325] <= 0.537\\ngini = 0.794\\nsamples = 1616\\nvalue = [249, 323, 411, 350, 283]\\nclass = 3'),\n",
       " Text(31.752868280165185, 218.15880991735537, 'X[67] <= 0.345\\ngini = 0.794\\nsamples = 1614\\nvalue = [249, 323, 411, 350, 281]\\nclass = 3'),\n",
       " Text(31.502452489526878, 217.44, 'X[493] <= 0.288\\ngini = 0.794\\nsamples = 1605\\nvalue = [247, 323, 411, 346, 278]\\nclass = 3'),\n",
       " Text(31.26358726633743, 216.72119008264463, 'X[485] <= 0.342\\ngini = 0.794\\nsamples = 1600\\nvalue = [247, 323, 411, 343, 276]\\nclass = 3'),\n",
       " Text(31.04782317804571, 216.00238016528925, 'X[276] <= 0.584\\ngini = 0.794\\nsamples = 1596\\nvalue = [247, 322, 411, 343, 273]\\nclass = 3'),\n",
       " Text(30.77347481631457, 215.28357024793388, 'X[498] <= 0.163\\ngini = 0.794\\nsamples = 1592\\nvalue = [247, 321, 411, 340, 273]\\nclass = 3'),\n",
       " Text(30.381957907704603, 214.5647603305785, 'X[336] <= 0.42\\ngini = 0.794\\nsamples = 1545\\nvalue = [245, 312, 394, 333, 261]\\nclass = 3'),\n",
       " Text(30.070463535041576, 213.84595041322314, 'X[336] <= 0.384\\ngini = 0.794\\nsamples = 1533\\nvalue = [243, 311, 387, 333, 259]\\nclass = 3'),\n",
       " Text(29.761834419420126, 213.12714049586776, 'X[147] <= 0.344\\ngini = 0.794\\nsamples = 1527\\nvalue = [243, 311, 387, 331, 255]\\nclass = 3'),\n",
       " Text(29.406542546264397, 212.4083305785124, 'X[259] <= 0.45\\ngini = 0.794\\nsamples = 1518\\nvalue = [243, 310, 385, 330, 250]\\nclass = 3'),\n",
       " Text(29.35414927464696, 211.68952066115702, 'X[333] <= 0.538\\ngini = 0.794\\nsamples = 1516\\nvalue = [241, 310, 385, 330, 250]\\nclass = 3'),\n",
       " Text(29.06271170127498, 210.97071074380165, 'X[241] <= 0.549\\ngini = 0.794\\nsamples = 1505\\nvalue = [240, 309, 382, 324, 250]\\nclass = 3'),\n",
       " Text(28.79419618423563, 210.25190082644627, 'X[481] <= 0.235\\ngini = 0.794\\nsamples = 1495\\nvalue = [239, 307, 376, 324, 249]\\nclass = 3'),\n",
       " Text(28.519131508244097, 209.5330909090909, 'X[374] <= 0.118\\ngini = 0.795\\nsamples = 1475\\nvalue = [236, 307, 367, 320, 245]\\nclass = 3'),\n",
       " Text(28.38814832920051, 208.81428099173553, 'X[303] <= 0.352\\ngini = 0.795\\nsamples = 1467\\nvalue = [235, 306, 366, 315, 245]\\nclass = 3'),\n",
       " Text(28.33575505758308, 208.09547107438016, 'X[401] <= 0.062\\ngini = 0.795\\nsamples = 1465\\nvalue = [235, 304, 366, 315, 245]\\nclass = 3'),\n",
       " Text(28.283361785965642, 207.37666115702478, 'X[64] <= 0.072\\ngini = 0.795\\nsamples = 1463\\nvalue = [235, 302, 366, 315, 245]\\nclass = 3'),\n",
       " Text(28.23096851434821, 206.6578512396694, 'X[432] <= 0.714\\ngini = 0.795\\nsamples = 1461\\nvalue = [235, 300, 366, 315, 245]\\nclass = 3'),\n",
       " Text(28.178575242730773, 205.93904132231404, 'X[495] <= 0.333\\ngini = 0.795\\nsamples = 1459\\nvalue = [235, 298, 366, 315, 245]\\nclass = 3'),\n",
       " Text(28.12618197111334, 205.22023140495867, 'X[392] <= 0.854\\ngini = 0.795\\nsamples = 1457\\nvalue = [235, 296, 366, 315, 245]\\nclass = 3'),\n",
       " Text(28.073788699495903, 204.5014214876033, 'X[296] <= 0.453\\ngini = 0.795\\nsamples = 1455\\nvalue = [235, 294, 366, 315, 245]\\nclass = 3'),\n",
       " Text(28.02139542787847, 203.78261157024792, 'X[383] <= 0.137\\ngini = 0.795\\nsamples = 1453\\nvalue = [235, 294, 366, 313, 245]\\nclass = 3'),\n",
       " Text(27.969002156261034, 203.06380165289255, 'X[182] <= 0.54\\ngini = 0.795\\nsamples = 1451\\nvalue = [235, 294, 366, 311, 245]\\nclass = 3'),\n",
       " Text(27.9166088846436, 202.34499173553718, 'X[66] <= 0.907\\ngini = 0.795\\nsamples = 1449\\nvalue = [235, 294, 366, 309, 245]\\nclass = 3'),\n",
       " Text(27.86421561302617, 201.6261818181818, 'X[261] <= 0.747\\ngini = 0.795\\nsamples = 1447\\nvalue = [235, 294, 366, 307, 245]\\nclass = 3'),\n",
       " Text(27.81182234140873, 200.90737190082643, 'X[126] <= 0.151\\ngini = 0.795\\nsamples = 1445\\nvalue = [235, 294, 366, 305, 245]\\nclass = 3'),\n",
       " Text(27.7594290697913, 200.18856198347106, 'X[93] <= 0.257\\ngini = 0.795\\nsamples = 1443\\nvalue = [235, 294, 366, 303, 245]\\nclass = 3'),\n",
       " Text(27.409049065849704, 199.4697520661157, 'X[50] <= 0.075\\ngini = 0.795\\nsamples = 1399\\nvalue = [228, 289, 355, 287, 240]\\nclass = 3'),\n",
       " Text(27.179828502523428, 198.75094214876032, 'X[10] <= 0.281\\ngini = 0.795\\nsamples = 1371\\nvalue = [225, 283, 343, 287, 233]\\nclass = 3'),\n",
       " Text(26.983353733958047, 198.03213223140494, 'X[241] <= 0.521\\ngini = 0.795\\nsamples = 1362\\nvalue = [224, 283, 338, 287, 230]\\nclass = 3'),\n",
       " Text(26.85237055491446, 197.31332231404957, 'X[241] <= 0.479\\ngini = 0.795\\nsamples = 1358\\nvalue = [224, 283, 337, 287, 227]\\nclass = 3'),\n",
       " Text(26.747584011679592, 196.5945123966942, 'X[98] <= 0.227\\ngini = 0.795\\nsamples = 1354\\nvalue = [221, 283, 336, 287, 227]\\nclass = 3'),\n",
       " Text(26.69519074006216, 195.87570247933883, 'X[259] <= 0.358\\ngini = 0.795\\nsamples = 1352\\nvalue = [219, 283, 336, 287, 227]\\nclass = 3'),\n",
       " Text(26.642797468444723, 195.15689256198345, 'X[341] <= 0.234\\ngini = 0.795\\nsamples = 1350\\nvalue = [219, 283, 336, 287, 225]\\nclass = 3'),\n",
       " Text(26.420126064070626, 194.43808264462808, 'X[251] <= 0.091\\ngini = 0.795\\nsamples = 1344\\nvalue = [219, 279, 335, 286, 225]\\nclass = 3'),\n",
       " Text(26.236749613409607, 193.7192727272727, 'X[63] <= 0.358\\ngini = 0.796\\nsamples = 1312\\nvalue = [216, 272, 321, 281, 222]\\nclass = 3'),\n",
       " Text(26.131963070174738, 193.00046280991734, 'X[241] <= 0.467\\ngini = 0.796\\nsamples = 1305\\nvalue = [216, 268, 321, 279, 221]\\nclass = 3'),\n",
       " Text(26.0795697985573, 192.28165289256197, 'X[333] <= 0.473\\ngini = 0.796\\nsamples = 1303\\nvalue = [216, 266, 321, 279, 221]\\nclass = 3'),\n",
       " Text(26.02717652693987, 191.5628429752066, 'X[177] <= 0.502\\ngini = 0.796\\nsamples = 1301\\nvalue = [216, 264, 321, 279, 221]\\nclass = 3'),\n",
       " Text(25.974783255322432, 190.84403305785122, 'X[61] <= 0.498\\ngini = 0.796\\nsamples = 1299\\nvalue = [216, 264, 321, 277, 221]\\nclass = 3'),\n",
       " Text(25.922389983705, 190.12522314049585, 'X[112] <= 0.855\\ngini = 0.796\\nsamples = 1297\\nvalue = [216, 264, 321, 275, 221]\\nclass = 3'),\n",
       " Text(25.869996712087563, 189.40641322314048, 'X[393] <= 0.791\\ngini = 0.796\\nsamples = 1295\\nvalue = [216, 264, 321, 273, 221]\\nclass = 3'),\n",
       " Text(25.81760344047013, 188.6876033057851, 'X[26] <= 0.74\\ngini = 0.796\\nsamples = 1293\\nvalue = [216, 264, 321, 271, 221]\\nclass = 3'),\n",
       " Text(25.765210168852697, 187.96879338842973, 'X[381] <= 0.588\\ngini = 0.796\\nsamples = 1291\\nvalue = [216, 264, 321, 269, 221]\\nclass = 3'),\n",
       " Text(25.57812515800209, 187.24998347107436, 'X[31] <= 0.576\\ngini = 0.796\\nsamples = 1287\\nvalue = [216, 264, 320, 266, 221]\\nclass = 3'),\n",
       " Text(25.361134951153183, 186.531173553719, 'X[31] <= 0.497\\ngini = 0.796\\nsamples = 1277\\nvalue = [215, 259, 319, 263, 221]\\nclass = 3'),\n",
       " Text(25.256348407918313, 185.8123636363636, 'X[31] <= 0.402\\ngini = 0.796\\nsamples = 1272\\nvalue = [212, 259, 317, 263, 221]\\nclass = 3'),\n",
       " Text(25.20395513630088, 185.09355371900824, 'X[46] <= 0.466\\ngini = 0.796\\nsamples = 1269\\nvalue = [212, 259, 317, 260, 221]\\nclass = 3'),\n",
       " Text(24.874761265837936, 184.37474380165287, 'X[304] <= 0.425\\ngini = 0.795\\nsamples = 1260\\nvalue = [208, 258, 317, 257, 220]\\nclass = 3'),\n",
       " Text(24.530733154616655, 183.6559338842975, 'X[172] <= 0.104\\ngini = 0.795\\nsamples = 1254\\nvalue = [208, 255, 317, 254, 220]\\nclass = 3'),\n",
       " Text(24.26182310511357, 182.93712396694212, 'X[447] <= 0.086\\ngini = 0.796\\nsamples = 1244\\nvalue = [206, 254, 311, 253, 220]\\nclass = 3'),\n",
       " Text(24.038362635812007, 182.21831404958675, 'X[215] <= 0.506\\ngini = 0.796\\nsamples = 1238\\nvalue = [206, 254, 308, 253, 217]\\nclass = 3'),\n",
       " Text(23.985969364194574, 181.4995041322314, 'X[201] <= 0.583\\ngini = 0.796\\nsamples = 1236\\nvalue = [206, 254, 308, 253, 215]\\nclass = 3'),\n",
       " Text(23.748621512061185, 180.78069421487604, 'X[145] <= 0.696\\ngini = 0.796\\nsamples = 1221\\nvalue = [205, 252, 302, 247, 215]\\nclass = 3'),\n",
       " Text(23.588285437499017, 180.06188429752066, 'X[201] <= 0.554\\ngini = 0.796\\nsamples = 1217\\nvalue = [205, 249, 302, 247, 214]\\nclass = 3'),\n",
       " Text(23.424793103226985, 179.3430743801653, 'X[85] <= 0.404\\ngini = 0.796\\nsamples = 1213\\nvalue = [205, 246, 302, 246, 214]\\nclass = 3'),\n",
       " Text(23.254988249535227, 178.6242644628099, 'X[186] <= 0.64\\ngini = 0.796\\nsamples = 1204\\nvalue = [205, 244, 302, 242, 211]\\nclass = 3'),\n",
       " Text(23.072558357004013, 177.90545454545452, 'X[186] <= 0.496\\ngini = 0.796\\nsamples = 1200\\nvalue = [204, 244, 302, 239, 211]\\nclass = 3'),\n",
       " Text(22.86487838679389, 177.18664462809915, 'X[149] <= 0.197\\ngini = 0.796\\nsamples = 1195\\nvalue = [204, 244, 298, 239, 210]\\nclass = 3'),\n",
       " Text(22.606698261225947, 176.46783471074377, 'X[317] <= 0.552\\ngini = 0.796\\nsamples = 1183\\nvalue = [201, 242, 297, 233, 210]\\nclass = 3'),\n",
       " Text(22.501911717991078, 175.7490247933884, 'X[317] <= 0.414\\ngini = 0.796\\nsamples = 1177\\nvalue = [201, 241, 297, 229, 209]\\nclass = 3'),\n",
       " Text(22.44951844637364, 175.03021487603303, 'X[391] <= 0.465\\ngini = 0.796\\nsamples = 1175\\nvalue = [201, 241, 297, 229, 207]\\nclass = 3'),\n",
       " Text(22.39712517475621, 174.31140495867766, 'X[274] <= 0.162\\ngini = 0.796\\nsamples = 1173\\nvalue = [201, 241, 297, 229, 205]\\nclass = 3'),\n",
       " Text(22.037944738472625, 173.59259504132228, 'X[353] <= 0.606\\ngini = 0.795\\nsamples = 1117\\nvalue = [188, 223, 286, 222, 198]\\nclass = 3'),\n",
       " Text(21.864392026239873, 172.8737851239669, 'X[91] <= 0.067\\ngini = 0.795\\nsamples = 1108\\nvalue = [188, 223, 283, 217, 197]\\nclass = 3'),\n",
       " Text(21.67446641662667, 172.15497520661154, 'X[271] <= 0.249\\ngini = 0.795\\nsamples = 1102\\nvalue = [187, 219, 282, 217, 197]\\nclass = 3'),\n",
       " Text(21.530384919678728, 171.43616528925617, 'X[271] <= 0.072\\ngini = 0.795\\nsamples = 1091\\nvalue = [182, 219, 281, 215, 194]\\nclass = 3'),\n",
       " Text(21.47799164806129, 170.7173553719008, 'X[99] <= 0.085\\ngini = 0.795\\nsamples = 1088\\nvalue = [182, 219, 278, 215, 194]\\nclass = 3'),\n",
       " Text(21.42559837644386, 169.99854545454542, 'X[449] <= 0.595\\ngini = 0.795\\nsamples = 1086\\nvalue = [182, 219, 278, 213, 194]\\nclass = 3'),\n",
       " Text(21.37320510482642, 169.27973553719005, 'X[78] <= 0.491\\ngini = 0.795\\nsamples = 1084\\nvalue = [182, 217, 278, 213, 194]\\nclass = 3'),\n",
       " Text(21.32081183320899, 168.56092561983468, 'X[345] <= 0.535\\ngini = 0.795\\nsamples = 1082\\nvalue = [180, 217, 278, 213, 194]\\nclass = 3'),\n",
       " Text(21.268418561591552, 167.8421157024793, 'X[340] <= 0.57\\ngini = 0.795\\nsamples = 1080\\nvalue = [180, 217, 278, 211, 194]\\nclass = 3'),\n",
       " Text(21.21602528997412, 167.12330578512393, 'X[308] <= 0.823\\ngini = 0.795\\nsamples = 1078\\nvalue = [180, 215, 278, 211, 194]\\nclass = 3'),\n",
       " Text(20.96592928248777, 166.40449586776856, 'X[237] <= 0.311\\ngini = 0.795\\nsamples = 1071\\nvalue = [179, 215, 278, 208, 191]\\nclass = 3'),\n",
       " Text(20.72770362560225, 165.6856859504132, 'X[490] <= 0.546\\ngini = 0.795\\nsamples = 1054\\nvalue = [174, 213, 271, 208, 188]\\nclass = 3'),\n",
       " Text(20.675310353984816, 164.96687603305782, 'X[484] <= 0.171\\ngini = 0.795\\nsamples = 1052\\nvalue = [174, 211, 271, 208, 188]\\nclass = 3'),\n",
       " Text(20.408432126683508, 164.24806611570244, 'X[166] <= 0.584\\ngini = 0.795\\nsamples = 1047\\nvalue = [173, 211, 271, 207, 185]\\nclass = 3'),\n",
       " Text(20.136642030168066, 163.52925619834707, 'X[293] <= 0.464\\ngini = 0.795\\nsamples = 1041\\nvalue = [173, 211, 267, 206, 184]\\nclass = 3'),\n",
       " Text(19.90742146684179, 162.8104462809917, 'X[425] <= 0.657\\ngini = 0.795\\nsamples = 1023\\nvalue = [166, 210, 262, 203, 182]\\nclass = 3'),\n",
       " Text(19.763339969893845, 162.09163636363633, 'X[26] <= 0.223\\ngini = 0.795\\nsamples = 1019\\nvalue = [166, 210, 259, 202, 182]\\nclass = 3'),\n",
       " Text(19.63235679085026, 161.37282644628095, 'X[122] <= 0.369\\ngini = 0.795\\nsamples = 1015\\nvalue = [166, 210, 256, 201, 182]\\nclass = 3'),\n",
       " Text(19.52757024761539, 160.65401652892558, 'X[66] <= 0.64\\ngini = 0.796\\nsamples = 1011\\nvalue = [166, 210, 253, 200, 182]\\nclass = 3'),\n",
       " Text(19.475176975997954, 159.9352066115702, 'X[66] <= 0.283\\ngini = 0.796\\nsamples = 1009\\nvalue = [166, 210, 251, 200, 182]\\nclass = 3'),\n",
       " Text(19.42278370438052, 159.21639669421484, 'X[35] <= 0.363\\ngini = 0.796\\nsamples = 1007\\nvalue = [166, 210, 251, 200, 180]\\nclass = 3'),\n",
       " Text(19.370390432763084, 158.49758677685952, 'X[23] <= 0.474\\ngini = 0.796\\nsamples = 1005\\nvalue = [166, 210, 249, 200, 180]\\nclass = 3'),\n",
       " Text(19.31799716114565, 157.77877685950415, 'X[362] <= 0.286\\ngini = 0.796\\nsamples = 1003\\nvalue = [166, 210, 247, 200, 180]\\nclass = 3'),\n",
       " Text(19.265603889528215, 157.05996694214878, 'X[41] <= 0.564\\ngini = 0.796\\nsamples = 1001\\nvalue = [166, 210, 247, 198, 180]\\nclass = 3'),\n",
       " Text(19.213210617910782, 156.3411570247934, 'X[347] <= 0.809\\ngini = 0.796\\nsamples = 999\\nvalue = [166, 210, 245, 198, 180]\\nclass = 3'),\n",
       " Text(19.160817346293346, 155.62234710743803, 'X[347] <= 0.536\\ngini = 0.796\\nsamples = 997\\nvalue = [166, 210, 243, 198, 180]\\nclass = 3'),\n",
       " Text(19.108424074675913, 154.90353719008266, 'X[156] <= 0.584\\ngini = 0.796\\nsamples = 995\\nvalue = [164, 210, 243, 198, 180]\\nclass = 3'),\n",
       " Text(19.056030803058476, 154.1847272727273, 'X[156] <= 0.1\\ngini = 0.796\\nsamples = 993\\nvalue = [164, 210, 241, 198, 180]\\nclass = 3'),\n",
       " Text(18.800613603923484, 153.46591735537191, 'X[317] <= 0.191\\ngini = 0.797\\nsamples = 983\\nvalue = [163, 205, 240, 195, 180]\\nclass = 3'),\n",
       " Text(18.74822033230605, 152.74710743801654, 'X[115] <= 0.33\\ngini = 0.797\\nsamples = 981\\nvalue = [163, 205, 238, 195, 180]\\nclass = 3'),\n",
       " Text(18.695827060688615, 152.02829752066117, 'X[256] <= 0.135\\ngini = 0.797\\nsamples = 979\\nvalue = [163, 205, 236, 195, 180]\\nclass = 3'),\n",
       " Text(18.4469590205058, 151.3094876033058, 'X[237] <= 0.07\\ngini = 0.797\\nsamples = 969\\nvalue = [162, 200, 233, 194, 180]\\nclass = 3'),\n",
       " Text(18.26358256984478, 150.59067768595042, 'X[478] <= 0.106\\ngini = 0.797\\nsamples = 965\\nvalue = [162, 200, 233, 191, 179]\\nclass = 3'),\n",
       " Text(18.054009483375044, 149.87186776859505, 'X[182] <= 0.35\\ngini = 0.797\\nsamples = 955\\nvalue = [162, 200, 230, 188, 175]\\nclass = 3'),\n",
       " Text(17.949222940140174, 149.15305785123968, 'X[199] <= 0.381\\ngini = 0.797\\nsamples = 949\\nvalue = [162, 196, 230, 186, 175]\\nclass = 3'),\n",
       " Text(17.896829668522738, 148.4342479338843, 'X[112] <= 0.238\\ngini = 0.797\\nsamples = 947\\nvalue = [160, 196, 230, 186, 175]\\nclass = 3'),\n",
       " Text(17.844436396905305, 147.71543801652894, 'X[461] <= 0.385\\ngini = 0.797\\nsamples = 945\\nvalue = [160, 196, 230, 186, 173]\\nclass = 3'),\n",
       " Text(17.79204312528787, 146.99662809917356, 'X[194] <= 0.257\\ngini = 0.797\\nsamples = 943\\nvalue = [160, 194, 230, 186, 173]\\nclass = 3'),\n",
       " Text(17.687256582053, 146.2778181818182, 'X[23] <= 0.362\\ngini = 0.797\\nsamples = 938\\nvalue = [160, 194, 228, 183, 173]\\nclass = 3'),\n",
       " Text(17.634863310435566, 145.55900826446282, 'X[9] <= 0.403\\ngini = 0.797\\nsamples = 936\\nvalue = [160, 194, 228, 183, 171]\\nclass = 3'),\n",
       " Text(17.530076767200697, 144.84019834710745, 'X[241] <= 0.351\\ngini = 0.797\\nsamples = 932\\nvalue = [160, 193, 225, 183, 171]\\nclass = 3'),\n",
       " Text(17.477683495583264, 144.12138842975207, 'X[320] <= 0.274\\ngini = 0.797\\nsamples = 930\\nvalue = [160, 193, 223, 183, 171]\\nclass = 3'),\n",
       " Text(17.228815455400447, 143.4025785123967, 'X[265] <= 0.534\\ngini = 0.798\\nsamples = 913\\nvalue = [160, 191, 216, 180, 166]\\nclass = 3'),\n",
       " Text(17.176422183783014, 142.68376859504133, 'X[185] <= 0.45\\ngini = 0.798\\nsamples = 911\\nvalue = [158, 191, 216, 180, 166]\\nclass = 3'),\n",
       " Text(16.993045733121992, 141.96495867768596, 'X[185] <= 0.174\\ngini = 0.797\\nsamples = 905\\nvalue = [157, 191, 216, 178, 163]\\nclass = 3'),\n",
       " Text(16.94065246150456, 141.24614876033058, 'X[443] <= 0.26\\ngini = 0.797\\nsamples = 903\\nvalue = [157, 189, 216, 178, 163]\\nclass = 3'),\n",
       " Text(16.83586591826969, 140.5273388429752, 'X[290] <= 0.236\\ngini = 0.797\\nsamples = 899\\nvalue = [157, 189, 216, 176, 161]\\nclass = 3'),\n",
       " Text(16.783472646652253, 139.80852892561984, 'X[273] <= 0.576\\ngini = 0.797\\nsamples = 897\\nvalue = [157, 189, 214, 176, 161]\\nclass = 3'),\n",
       " Text(16.73107937503482, 139.08971900826447, 'X[139] <= 0.192\\ngini = 0.797\\nsamples = 895\\nvalue = [157, 187, 214, 176, 161]\\nclass = 3'),\n",
       " Text(16.48630384093418, 138.3709090909091, 'X[203] <= 0.133\\ngini = 0.797\\nsamples = 890\\nvalue = [154, 187, 213, 175, 161]\\nclass = 3'),\n",
       " Text(16.25871913082007, 137.65209917355372, 'X[428] <= 0.259\\ngini = 0.797\\nsamples = 882\\nvalue = [151, 187, 211, 175, 158]\\nclass = 3'),\n",
       " Text(16.206325859202636, 136.93328925619835, 'X[135] <= 0.141\\ngini = 0.797\\nsamples = 880\\nvalue = [151, 187, 209, 175, 158]\\nclass = 3'),\n",
       " Text(16.1539325875852, 136.21447933884298, 'X[219] <= 0.652\\ngini = 0.797\\nsamples = 878\\nvalue = [151, 185, 209, 175, 158]\\nclass = 3'),\n",
       " Text(15.960729525444155, 135.4956694214876, 'X[219] <= 0.506\\ngini = 0.797\\nsamples = 874\\nvalue = [149, 183, 209, 175, 158]\\nclass = 3'),\n",
       " Text(15.90833625382672, 134.77685950413223, 'X[409] <= 0.345\\ngini = 0.797\\nsamples = 872\\nvalue = [149, 183, 209, 173, 158]\\nclass = 3'),\n",
       " Text(15.679109944396933, 134.05804958677686, 'X[128] <= 0.19\\ngini = 0.797\\nsamples = 868\\nvalue = [149, 181, 209, 173, 156]\\nclass = 3'),\n",
       " Text(15.48262368362453, 133.3392396694215, 'X[490] <= 0.097\\ngini = 0.797\\nsamples = 863\\nvalue = [149, 180, 209, 170, 155]\\nclass = 3'),\n",
       " Text(15.246830976932026, 132.62042975206612, 'X[343] <= 0.719\\ngini = 0.797\\nsamples = 847\\nvalue = [147, 177, 206, 163, 154]\\nclass = 3'),\n",
       " Text(15.194437705314591, 131.90161983471074, 'X[164] <= 0.542\\ngini = 0.797\\nsamples = 845\\nvalue = [147, 177, 206, 163, 152]\\nclass = 3'),\n",
       " Text(15.142044433697157, 131.18280991735537, 'X[269] <= 0.112\\ngini = 0.797\\nsamples = 843\\nvalue = [147, 177, 206, 161, 152]\\nclass = 3'),\n",
       " Text(14.932425378399325, 130.464, 'X[351] <= 0.356\\ngini = 0.797\\nsamples = 836\\nvalue = [147, 174, 205, 158, 152]\\nclass = 3'),\n",
       " Text(14.775153625890832, 129.74519008264463, 'X[241] <= 0.122\\ngini = 0.797\\nsamples = 830\\nvalue = [146, 170, 204, 158, 152]\\nclass = 3'),\n",
       " Text(14.722760354273397, 129.02638016528925, 'X[295] <= 0.29\\ngini = 0.797\\nsamples = 828\\nvalue = [146, 170, 204, 156, 152]\\nclass = 3'),\n",
       " Text(14.565396664108716, 128.30757024793388, 'X[482] <= 0.281\\ngini = 0.797\\nsamples = 824\\nvalue = [146, 170, 201, 155, 152]\\nclass = 3'),\n",
       " Text(14.407849098631656, 127.58876033057851, 'X[453] <= 0.466\\ngini = 0.797\\nsamples = 820\\nvalue = [146, 169, 198, 155, 152]\\nclass = 3'),\n",
       " Text(14.24993378252984, 126.86995041322314, 'X[28] <= 0.852\\ngini = 0.797\\nsamples = 817\\nvalue = [144, 169, 198, 155, 151]\\nclass = 3'),\n",
       " Text(14.091282965178511, 126.15114049586776, 'X[231] <= 0.49\\ngini = 0.797\\nsamples = 814\\nvalue = [142, 169, 198, 154, 151]\\nclass = 3'),\n",
       " Text(13.93116114532816, 125.43233057851239, 'X[108] <= 0.593\\ngini = 0.797\\nsamples = 811\\nvalue = [142, 169, 198, 152, 150]\\nclass = 3'),\n",
       " Text(13.768097320479757, 124.71352066115702, 'X[422] <= 0.616\\ngini = 0.797\\nsamples = 808\\nvalue = [142, 169, 198, 150, 149]\\nclass = 3'),\n",
       " Text(13.599149485635255, 123.99471074380165, 'X[162] <= 0.405\\ngini = 0.797\\nsamples = 803\\nvalue = [141, 166, 197, 150, 149]\\nclass = 3'),\n",
       " Text(13.418433630798559, 123.27590082644628, 'X[94] <= 0.258\\ngini = 0.797\\nsamples = 797\\nvalue = [138, 166, 195, 149, 149]\\nclass = 3'),\n",
       " Text(13.366040359181124, 122.5570909090909, 'X[367] <= 0.392\\ngini = 0.797\\nsamples = 795\\nvalue = [138, 164, 195, 149, 149]\\nclass = 3'),\n",
       " Text(13.161788464360031, 121.83828099173553, 'X[136] <= 0.209\\ngini = 0.797\\nsamples = 791\\nvalue = [138, 162, 195, 147, 149]\\nclass = 3'),\n",
       " Text(12.910464489570149, 121.11947107438016, 'X[390] <= 0.507\\ngini = 0.797\\nsamples = 775\\nvalue = [136, 156, 190, 144, 149]\\nclass = 3'),\n",
       " Text(12.858071217952714, 120.40066115702479, 'X[390] <= 0.144\\ngini = 0.797\\nsamples = 773\\nvalue = [136, 156, 188, 144, 149]\\nclass = 3'),\n",
       " Text(12.80567794633528, 119.68185123966941, 'X[104] <= 0.077\\ngini = 0.797\\nsamples = 771\\nvalue = [136, 156, 188, 144, 147]\\nclass = 3'),\n",
       " Text(12.617389626460124, 118.96304132231404, 'X[167] <= 0.548\\ngini = 0.797\\nsamples = 767\\nvalue = [136, 154, 188, 142, 147]\\nclass = 3'),\n",
       " Text(12.564996354842691, 118.24423140495867, 'X[441] <= 0.481\\ngini = 0.797\\nsamples = 765\\nvalue = [136, 154, 186, 142, 147]\\nclass = 3'),\n",
       " Text(12.345599529944684, 117.5254214876033, 'X[355] <= 0.241\\ngini = 0.797\\nsamples = 752\\nvalue = [135, 148, 184, 140, 145]\\nclass = 3'),\n",
       " Text(12.168772238235842, 116.80661157024792, 'X[492] <= 0.712\\ngini = 0.797\\nsamples = 749\\nvalue = [134, 146, 184, 140, 145]\\nclass = 3'),\n",
       " Text(11.972297469670462, 116.08780165289255, 'X[492] <= 0.52\\ngini = 0.797\\nsamples = 743\\nvalue = [134, 146, 183, 137, 143]\\nclass = 3'),\n",
       " Text(11.841314290626876, 115.36899173553718, 'X[376] <= 0.149\\ngini = 0.797\\nsamples = 739\\nvalue = [134, 145, 180, 137, 143]\\nclass = 3'),\n",
       " Text(11.736527747392007, 114.6501818181818, 'X[145] <= 0.525\\ngini = 0.797\\nsamples = 735\\nvalue = [131, 145, 180, 137, 142]\\nclass = 3'),\n",
       " Text(11.684134475774572, 113.93137190082643, 'X[319] <= 0.493\\ngini = 0.797\\nsamples = 733\\nvalue = [131, 145, 180, 137, 140]\\nclass = 3'),\n",
       " Text(11.523270759011668, 113.21256198347106, 'X[468] <= 0.2\\ngini = 0.797\\nsamples = 730\\nvalue = [131, 144, 180, 137, 138]\\nclass = 3'),\n",
       " Text(11.358723140338162, 112.49375206611569, 'X[235] <= 0.66\\ngini = 0.797\\nsamples = 727\\nvalue = [131, 143, 180, 137, 136]\\nclass = 3'),\n",
       " Text(11.186807717843456, 111.77494214876032, 'X[238] <= 0.179\\ngini = 0.797\\nsamples = 724\\nvalue = [131, 141, 180, 136, 136]\\nclass = 3'),\n",
       " Text(11.000156687706344, 111.05613223140494, 'X[102] <= 0.278\\ngini = 0.797\\nsamples = 721\\nvalue = [131, 139, 180, 135, 136]\\nclass = 3'),\n",
       " Text(10.784034442284426, 110.33732231404957, 'X[417] <= 0.179\\ngini = 0.797\\nsamples = 717\\nvalue = [131, 139, 178, 135, 134]\\nclass = 3'),\n",
       " Text(10.613756309527764, 109.6185123966942, 'X[371] <= 0.664\\ngini = 0.797\\nsamples = 714\\nvalue = [131, 138, 178, 133, 134]\\nclass = 3'),\n",
       " Text(10.430379858866743, 108.89970247933883, 'X[371] <= 0.338\\ngini = 0.797\\nsamples = 692\\nvalue = [130, 131, 174, 127, 130]\\nclass = 3'),\n",
       " Text(10.325593315631874, 108.18089256198346, 'X[394] <= 0.18\\ngini = 0.797\\nsamples = 687\\nvalue = [129, 131, 170, 127, 130]\\nclass = 3'),\n",
       " Text(10.27320004401444, 107.46208264462808, 'X[441] <= 0.391\\ngini = 0.797\\nsamples = 685\\nvalue = [127, 131, 170, 127, 130]\\nclass = 3'),\n",
       " Text(10.105403428517002, 106.74327272727271, 'X[292] <= 0.33\\ngini = 0.797\\nsamples = 682\\nvalue = [125, 131, 169, 127, 130]\\nclass = 3'),\n",
       " Text(9.92699001237443, 106.02446280991734, 'X[403] <= 0.224\\ngini = 0.797\\nsamples = 679\\nvalue = [125, 131, 168, 125, 130]\\nclass = 3'),\n",
       " Text(9.727342994941589, 105.30565289256197, 'X[316] <= 0.29\\ngini = 0.797\\nsamples = 676\\nvalue = [125, 131, 167, 123, 130]\\nclass = 3'),\n",
       " Text(9.485228774928208, 104.5868429752066, 'X[316] <= 0.267\\ngini = 0.798\\nsamples = 653\\nvalue = [121, 124, 159, 121, 128]\\nclass = 3'),\n",
       " Text(9.432835503310775, 103.86803305785122, 'X[198] <= 0.24\\ngini = 0.798\\nsamples = 651\\nvalue = [121, 124, 159, 121, 126]\\nclass = 3'),\n",
       " Text(9.262966692988623, 103.14922314049585, 'X[204] <= 0.328\\ngini = 0.798\\nsamples = 648\\nvalue = [121, 122, 158, 121, 126]\\nclass = 3'),\n",
       " Text(9.080408887196624, 102.43041322314048, 'X[480] <= 0.522\\ngini = 0.798\\nsamples = 645\\nvalue = [121, 120, 157, 121, 126]\\nclass = 3'),\n",
       " Text(8.872473090464931, 101.7116033057851, 'X[315] <= 0.179\\ngini = 0.798\\nsamples = 640\\nvalue = [121, 119, 154, 120, 126]\\nclass = 3'),\n",
       " Text(8.718567855088718, 100.99279338842973, 'X[279] <= 0.254\\ngini = 0.798\\nsamples = 637\\nvalue = [119, 119, 154, 119, 126]\\nclass = 3'),\n",
       " Text(8.567937199188593, 100.27398347107436, 'X[228] <= 0.106\\ngini = 0.798\\nsamples = 634\\nvalue = [119, 119, 153, 119, 124]\\nclass = 3'),\n",
       " Text(8.423855702240648, 99.55517355371899, 'X[364] <= 0.296\\ngini = 0.798\\nsamples = 631\\nvalue = [119, 119, 151, 118, 124]\\nclass = 3'),\n",
       " Text(8.292872523197062, 98.83636363636361, 'X[475] <= 0.749\\ngini = 0.798\\nsamples = 628\\nvalue = [119, 119, 149, 117, 124]\\nclass = 3'),\n",
       " Text(8.188085979962192, 98.11755371900824, 'X[475] <= 0.472\\ngini = 0.798\\nsamples = 625\\nvalue = [119, 119, 147, 116, 124]\\nclass = 3'),\n",
       " Text(8.135692708344758, 97.39874380165287, 'X[424] <= 0.298\\ngini = 0.798\\nsamples = 623\\nvalue = [119, 119, 147, 116, 122]\\nclass = 3'),\n",
       " Text(7.980150183230499, 96.6799338842975, 'X[201] <= 0.117\\ngini = 0.798\\nsamples = 620\\nvalue = [117, 118, 147, 116, 122]\\nclass = 3'),\n",
       " Text(7.826244947854286, 95.96112396694213, 'X[33] <= 0.221\\ngini = 0.798\\nsamples = 617\\nvalue = [116, 118, 145, 116, 122]\\nclass = 3'),\n",
       " Text(7.675614291954161, 95.24231404958675, 'X[235] <= 0.521\\ngini = 0.799\\nsamples = 614\\nvalue = [115, 118, 143, 116, 122]\\nclass = 3'),\n",
       " Text(7.531532795006216, 94.52350413223138, 'X[235] <= 0.172\\ngini = 0.799\\nsamples = 611\\nvalue = [114, 118, 141, 116, 122]\\nclass = 3'),\n",
       " Text(7.40054961596263, 93.80469421487601, 'X[39] <= 0.158\\ngini = 0.799\\nsamples = 608\\nvalue = [114, 117, 141, 116, 120]\\nclass = 3'),\n",
       " Text(7.295763072727761, 93.08588429752064, 'X[48] <= 0.859\\ngini = 0.799\\nsamples = 602\\nvalue = [111, 115, 140, 116, 120]\\nclass = 3'),\n",
       " Text(7.243369801110326, 92.36707438016526, 'X[48] <= 0.349\\ngini = 0.799\\nsamples = 599\\nvalue = [111, 115, 138, 116, 119]\\nclass = 3'),\n",
       " Text(7.190976529492891, 91.64826446280989, 'X[467] <= 0.697\\ngini = 0.799\\nsamples = 597\\nvalue = [111, 115, 138, 114, 119]\\nclass = 3'),\n",
       " Text(7.086189986258022, 90.92945454545452, 'X[192] <= 0.234\\ngini = 0.799\\nsamples = 591\\nvalue = [110, 112, 137, 113, 119]\\nclass = 3'),\n",
       " Text(7.033796714640588, 90.21064462809915, 'X[77] <= 0.357\\ngini = 0.799\\nsamples = 590\\nvalue = [109, 112, 137, 113, 119]\\nclass = 3'),\n",
       " Text(6.9814034430231535, 89.49183471074377, 'X[188] <= 0.5\\ngini = 0.798\\nsamples = 589\\nvalue = [108, 112, 137, 113, 119]\\nclass = 3'),\n",
       " Text(6.929010171405719, 88.7730247933884, 'X[80] <= 0.33\\ngini = 0.798\\nsamples = 588\\nvalue = [107, 112, 137, 113, 119]\\nclass = 3'),\n",
       " Text(6.876616899788284, 88.05421487603303, 'X[370] <= 0.5\\ngini = 0.798\\nsamples = 587\\nvalue = [106, 112, 137, 113, 119]\\nclass = 3'),\n",
       " Text(6.8242236281708495, 87.33540495867766, 'X[62] <= 0.169\\ngini = 0.798\\nsamples = 586\\nvalue = [105, 112, 137, 113, 119]\\nclass = 3'),\n",
       " Text(6.771830356553415, 86.61659504132228, 'X[480] <= 0.237\\ngini = 0.798\\nsamples = 585\\nvalue = [104, 112, 137, 113, 119]\\nclass = 3'),\n",
       " Text(6.71943708493598, 85.89778512396691, 'X[404] <= 0.955\\ngini = 0.798\\nsamples = 584\\nvalue = [103, 112, 137, 113, 119]\\nclass = 3'),\n",
       " Text(6.667043813318546, 85.17897520661154, 'X[399] <= 0.364\\ngini = 0.798\\nsamples = 583\\nvalue = [102, 112, 137, 113, 119]\\nclass = 3'),\n",
       " Text(6.614650541701112, 84.46016528925617, 'X[308] <= 0.693\\ngini = 0.798\\nsamples = 582\\nvalue = [101, 112, 137, 113, 119]\\nclass = 3'),\n",
       " Text(6.562257270083677, 83.7413553719008, 'X[20] <= 0.838\\ngini = 0.798\\nsamples = 581\\nvalue = [100, 112, 137, 113, 119]\\nclass = 3'),\n",
       " Text(6.509863998466242, 83.02254545454542, 'X[83] <= 0.806\\ngini = 0.798\\nsamples = 580\\nvalue = [100, 111, 137, 113, 119]\\nclass = 3'),\n",
       " Text(6.457470726848808, 82.30373553719005, 'X[197] <= 0.366\\ngini = 0.798\\nsamples = 579\\nvalue = [100, 110, 137, 113, 119]\\nclass = 3'),\n",
       " Text(6.405077455231373, 81.58492561983468, 'X[276] <= 0.222\\ngini = 0.798\\nsamples = 578\\nvalue = [100, 109, 137, 113, 119]\\nclass = 3'),\n",
       " Text(6.3002909119965045, 80.8661157024793, 'X[337] <= 0.192\\ngini = 0.798\\nsamples = 575\\nvalue = [100, 109, 135, 112, 119]\\nclass = 3'),\n",
       " Text(6.24789764037907, 80.14730578512393, 'X[123] <= 0.834\\ngini = 0.798\\nsamples = 574\\nvalue = [100, 108, 135, 112, 119]\\nclass = 3'),\n",
       " Text(6.195504368761635, 79.42849586776856, 'X[124] <= 0.953\\ngini = 0.798\\nsamples = 573\\nvalue = [100, 107, 135, 112, 119]\\nclass = 3'),\n",
       " Text(6.1431110971442004, 78.70968595041319, 'X[196] <= 0.5\\ngini = 0.798\\nsamples = 572\\nvalue = [100, 106, 135, 112, 119]\\nclass = 3'),\n",
       " Text(6.090717825526766, 77.99087603305782, 'X[159] <= 0.812\\ngini = 0.798\\nsamples = 571\\nvalue = [100, 105, 135, 112, 119]\\nclass = 3'),\n",
       " Text(6.038324553909331, 77.27206611570244, 'X[247] <= 0.593\\ngini = 0.798\\nsamples = 570\\nvalue = [100, 104, 135, 112, 119]\\nclass = 3'),\n",
       " Text(5.985931282291897, 76.55325619834707, 'X[404] <= 0.799\\ngini = 0.798\\nsamples = 569\\nvalue = [100, 103, 135, 112, 119]\\nclass = 3'),\n",
       " Text(5.933538010674463, 75.8344462809917, 'X[322] <= 0.397\\ngini = 0.797\\nsamples = 568\\nvalue = [100, 102, 135, 112, 119]\\nclass = 3'),\n",
       " Text(5.789456513726518, 75.11563636363633, 'X[322] <= 0.349\\ngini = 0.798\\nsamples = 534\\nvalue = [94, 100, 124, 104, 112]\\nclass = 3'),\n",
       " Text(5.737063242109083, 74.39682644628095, 'X[342] <= 0.5\\ngini = 0.798\\nsamples = 532\\nvalue = [94, 98, 124, 104, 112]\\nclass = 3'),\n",
       " Text(5.684669970491648, 73.67801652892558, 'X[160] <= 0.406\\ngini = 0.798\\nsamples = 531\\nvalue = [94, 97, 124, 104, 112]\\nclass = 3'),\n",
       " Text(5.632276698874214, 72.95920661157021, 'X[103] <= 0.5\\ngini = 0.798\\nsamples = 530\\nvalue = [94, 96, 124, 104, 112]\\nclass = 3'),\n",
       " Text(5.579883427256779, 72.24039669421484, 'X[306] <= 0.875\\ngini = 0.798\\nsamples = 529\\nvalue = [94, 95, 124, 104, 112]\\nclass = 3'),\n",
       " Text(5.527490155639344, 71.52158677685946, 'X[306] <= 0.28\\ngini = 0.798\\nsamples = 528\\nvalue = [94, 94, 124, 104, 112]\\nclass = 3'),\n",
       " Text(5.422703612404476, 70.80277685950409, 'X[100] <= 0.594\\ngini = 0.798\\nsamples = 525\\nvalue = [94, 94, 124, 103, 110]\\nclass = 3'),\n",
       " Text(5.370310340787041, 70.08396694214872, 'X[129] <= 0.843\\ngini = 0.798\\nsamples = 524\\nvalue = [94, 93, 124, 103, 110]\\nclass = 3'),\n",
       " Text(5.3179170691696065, 69.36515702479335, 'X[75] <= 0.834\\ngini = 0.798\\nsamples = 523\\nvalue = [94, 92, 124, 103, 110]\\nclass = 3'),\n",
       " Text(5.265523797552172, 68.64634710743798, 'X[145] <= 0.261\\ngini = 0.797\\nsamples = 522\\nvalue = [94, 91, 124, 103, 110]\\nclass = 3'),\n",
       " Text(5.213130525934737, 67.9275371900826, 'X[324] <= 0.841\\ngini = 0.797\\nsamples = 521\\nvalue = [94, 90, 124, 103, 110]\\nclass = 3'),\n",
       " Text(5.1607372543173025, 67.20872727272723, 'X[426] <= 0.388\\ngini = 0.797\\nsamples = 520\\nvalue = [94, 89, 124, 103, 110]\\nclass = 3'),\n",
       " Text(5.108343982699869, 66.48991735537192, 'X[129] <= 0.343\\ngini = 0.797\\nsamples = 519\\nvalue = [94, 88, 124, 103, 110]\\nclass = 3'),\n",
       " Text(5.055950711082434, 65.77110743801654, 'X[53] <= 0.274\\ngini = 0.797\\nsamples = 518\\nvalue = [93, 88, 124, 103, 110]\\nclass = 3'),\n",
       " Text(4.924967532038847, 65.05229752066117, 'X[322] <= 0.337\\ngini = 0.797\\nsamples = 512\\nvalue = [93, 87, 121, 101, 110]\\nclass = 3'),\n",
       " Text(4.872574260421413, 64.3334876033058, 'X[322] <= 0.324\\ngini = 0.797\\nsamples = 511\\nvalue = [93, 87, 121, 100, 110]\\nclass = 3'),\n",
       " Text(4.820180988803978, 63.614677685950426, 'X[322] <= 0.231\\ngini = 0.797\\nsamples = 510\\nvalue = [92, 87, 121, 100, 110]\\nclass = 3'),\n",
       " Text(4.7153944455691095, 62.89586776859505, 'X[385] <= 0.5\\ngini = 0.797\\nsamples = 507\\nvalue = [92, 86, 121, 100, 108]\\nclass = 3'),\n",
       " Text(4.663001173951675, 62.17705785123968, 'X[83] <= 0.306\\ngini = 0.797\\nsamples = 506\\nvalue = [92, 86, 121, 99, 108]\\nclass = 3'),\n",
       " Text(4.61060790233424, 61.45824793388431, 'X[72] <= 0.217\\ngini = 0.797\\nsamples = 505\\nvalue = [92, 86, 121, 98, 108]\\nclass = 3'),\n",
       " Text(4.558214630716805, 60.739438016528936, 'X[388] <= 0.744\\ngini = 0.797\\nsamples = 504\\nvalue = [92, 86, 121, 97, 108]\\nclass = 3'),\n",
       " Text(4.505821359099371, 60.020628099173564, 'X[159] <= 0.312\\ngini = 0.797\\nsamples = 503\\nvalue = [92, 86, 121, 96, 108]\\nclass = 3'),\n",
       " Text(4.453428087481936, 59.30181818181819, 'X[19] <= 0.5\\ngini = 0.797\\nsamples = 502\\nvalue = [92, 86, 121, 95, 108]\\nclass = 3'),\n",
       " Text(4.401034815864502, 58.58300826446282, 'X[113] <= 0.79\\ngini = 0.797\\nsamples = 501\\nvalue = [92, 86, 121, 94, 108]\\nclass = 3'),\n",
       " Text(4.348641544247068, 57.86419834710745, 'X[175] <= 0.5\\ngini = 0.797\\nsamples = 500\\nvalue = [92, 86, 121, 93, 108]\\nclass = 3'),\n",
       " Text(4.296248272629633, 57.145388429752074, 'X[359] <= 0.832\\ngini = 0.797\\nsamples = 499\\nvalue = [92, 86, 121, 92, 108]\\nclass = 3'),\n",
       " Text(4.243855001012198, 56.4265785123967, 'X[418] <= 0.927\\ngini = 0.797\\nsamples = 498\\nvalue = [92, 86, 121, 91, 108]\\nclass = 3'),\n",
       " Text(4.191461729394764, 55.70776859504133, 'X[372] <= 0.5\\ngini = 0.797\\nsamples = 497\\nvalue = [92, 86, 121, 90, 108]\\nclass = 3'),\n",
       " Text(4.139068457777329, 54.98895867768596, 'X[368] <= 0.5\\ngini = 0.796\\nsamples = 496\\nvalue = [92, 86, 121, 89, 108]\\nclass = 3'),\n",
       " Text(4.086675186159894, 54.270148760330585, 'X[416] <= 0.905\\ngini = 0.796\\nsamples = 495\\nvalue = [92, 86, 121, 88, 108]\\nclass = 3'),\n",
       " Text(4.03428191454246, 53.55133884297521, 'X[321] <= 0.349\\ngini = 0.796\\nsamples = 494\\nvalue = [92, 86, 121, 87, 108]\\nclass = 3'),\n",
       " Text(3.9818886429250253, 52.83252892561984, 'X[466] <= 0.899\\ngini = 0.796\\nsamples = 493\\nvalue = [92, 86, 121, 86, 108]\\nclass = 3'),\n",
       " Text(3.929495371307591, 52.11371900826447, 'X[158] <= 0.369\\ngini = 0.796\\nsamples = 492\\nvalue = [92, 86, 121, 85, 108]\\nclass = 3'),\n",
       " Text(3.8771020996901564, 51.394909090909096, 'X[359] <= 0.637\\ngini = 0.796\\nsamples = 491\\nvalue = [92, 86, 121, 84, 108]\\nclass = 3'),\n",
       " Text(3.8247088280727217, 50.67609917355372, 'X[430] <= 0.5\\ngini = 0.796\\nsamples = 490\\nvalue = [91, 86, 121, 84, 108]\\nclass = 3'),\n",
       " Text(3.7723155564552875, 49.95728925619835, 'X[151] <= 0.372\\ngini = 0.796\\nsamples = 489\\nvalue = [91, 86, 121, 84, 107]\\nclass = 3'),\n",
       " Text(3.719922284837853, 49.23847933884298, 'X[464] <= 0.813\\ngini = 0.796\\nsamples = 488\\nvalue = [91, 86, 121, 84, 106]\\nclass = 3'),\n",
       " Text(3.667529013220418, 48.519669421487606, 'X[464] <= 0.192\\ngini = 0.795\\nsamples = 476\\nvalue = [90, 83, 120, 81, 102]\\nclass = 3'),\n",
       " Text(3.562742469985549, 47.800859504132234, 'X[20] <= 0.713\\ngini = 0.796\\nsamples = 471\\nvalue = [89, 83, 116, 81, 102]\\nclass = 3'),\n",
       " Text(3.5103491983681145, 47.08204958677686, 'X[369] <= 0.177\\ngini = 0.796\\nsamples = 470\\nvalue = [89, 83, 116, 81, 101]\\nclass = 3'),\n",
       " Text(3.45795592675068, 46.36323966942149, 'X[288] <= 0.5\\ngini = 0.796\\nsamples = 469\\nvalue = [89, 83, 116, 81, 100]\\nclass = 3'),\n",
       " Text(3.4055626551332456, 45.64442975206612, 'X[79] <= 0.5\\ngini = 0.796\\nsamples = 468\\nvalue = [89, 83, 116, 81, 99]\\nclass = 3'),\n",
       " Text(3.353169383515811, 44.925619834710744, 'X[377] <= 0.5\\ngini = 0.796\\nsamples = 467\\nvalue = [89, 83, 116, 81, 98]\\nclass = 3'),\n",
       " Text(3.3007761118983763, 44.20680991735537, 'X[221] <= 0.339\\ngini = 0.796\\nsamples = 466\\nvalue = [89, 83, 116, 81, 97]\\nclass = 3'),\n",
       " Text(3.248382840280942, 43.488, 'X[47] <= 0.337\\ngini = 0.796\\nsamples = 465\\nvalue = [89, 83, 116, 81, 96]\\nclass = 3'),\n",
       " Text(3.1959895686635074, 42.76919008264463, 'X[492] <= 0.245\\ngini = 0.796\\nsamples = 464\\nvalue = [89, 83, 116, 81, 95]\\nclass = 3'),\n",
       " Text(3.1435962970460727, 42.050380165289255, 'X[413] <= 0.869\\ngini = 0.796\\nsamples = 463\\nvalue = [89, 83, 116, 81, 94]\\nclass = 3'),\n",
       " Text(3.091203025428638, 41.33157024793388, 'X[451] <= 0.922\\ngini = 0.796\\nsamples = 462\\nvalue = [89, 83, 116, 81, 93]\\nclass = 3'),\n",
       " Text(3.0388097538112038, 40.61276033057851, 'X[451] <= 0.422\\ngini = 0.796\\nsamples = 461\\nvalue = [89, 83, 116, 81, 92]\\nclass = 3'),\n",
       " Text(2.986416482193769, 39.89395041322314, 'X[109] <= 0.5\\ngini = 0.796\\nsamples = 460\\nvalue = [88, 83, 116, 81, 92]\\nclass = 3'),\n",
       " Text(2.9340232105763344, 39.175140495867765, 'X[11] <= 0.299\\ngini = 0.796\\nsamples = 459\\nvalue = [88, 83, 116, 81, 91]\\nclass = 3'),\n",
       " Text(2.8816299389589, 38.45633057851239, 'X[422] <= 0.307\\ngini = 0.796\\nsamples = 458\\nvalue = [88, 83, 116, 81, 90]\\nclass = 3'),\n",
       " Text(2.8292366673414655, 37.73752066115702, 'X[0] <= 0.297\\ngini = 0.796\\nsamples = 457\\nvalue = [88, 83, 116, 81, 89]\\nclass = 3'),\n",
       " Text(2.776843395724031, 37.01871074380165, 'X[282] <= 0.5\\ngini = 0.796\\nsamples = 456\\nvalue = [88, 83, 116, 81, 88]\\nclass = 3'),\n",
       " Text(2.7244501241065966, 36.299900826446276, 'X[205] <= 0.5\\ngini = 0.796\\nsamples = 455\\nvalue = [88, 83, 116, 81, 87]\\nclass = 3'),\n",
       " Text(2.672056852489162, 35.5810909090909, 'X[425] <= 0.321\\ngini = 0.796\\nsamples = 454\\nvalue = [88, 83, 116, 81, 86]\\nclass = 3'),\n",
       " Text(2.6196635808717272, 34.86228099173553, 'X[472] <= 0.346\\ngini = 0.796\\nsamples = 453\\nvalue = [88, 83, 116, 81, 85]\\nclass = 3'),\n",
       " Text(2.5148770376368583, 34.14347107438016, 'X[215] <= 0.233\\ngini = 0.796\\nsamples = 448\\nvalue = [88, 81, 114, 81, 84]\\nclass = 3'),\n",
       " Text(2.4624837660194236, 33.42466115702479, 'X[322] <= 0.108\\ngini = 0.796\\nsamples = 447\\nvalue = [88, 81, 113, 81, 84]\\nclass = 3'),\n",
       " Text(2.410090494401989, 32.705851239669414, 'X[234] <= 0.5\\ngini = 0.796\\nsamples = 446\\nvalue = [88, 80, 113, 81, 84]\\nclass = 3'),\n",
       " Text(2.3576972227845547, 31.98704132231404, 'X[141] <= 0.5\\ngini = 0.796\\nsamples = 445\\nvalue = [88, 80, 112, 81, 84]\\nclass = 3'),\n",
       " Text(2.30530395116712, 31.26823140495867, 'X[440] <= 0.312\\ngini = 0.797\\nsamples = 444\\nvalue = [88, 80, 111, 81, 84]\\nclass = 3'),\n",
       " Text(2.2529106795496854, 30.549421487603297, 'X[44] <= 0.5\\ngini = 0.797\\nsamples = 443\\nvalue = [88, 80, 110, 81, 84]\\nclass = 3'),\n",
       " Text(2.200517407932251, 29.830611570247925, 'X[242] <= 0.361\\ngini = 0.797\\nsamples = 442\\nvalue = [88, 80, 109, 81, 84]\\nclass = 3'),\n",
       " Text(2.1481241363148165, 29.111801652892552, 'X[330] <= 0.303\\ngini = 0.797\\nsamples = 441\\nvalue = [88, 80, 108, 81, 84]\\nclass = 3'),\n",
       " Text(2.095730864697382, 28.39299173553718, 'X[441] <= 0.179\\ngini = 0.797\\nsamples = 440\\nvalue = [88, 80, 107, 81, 84]\\nclass = 3'),\n",
       " Text(2.043337593079947, 27.674181818181808, 'X[245] <= 0.299\\ngini = 0.798\\nsamples = 439\\nvalue = [88, 80, 106, 81, 84]\\nclass = 3'),\n",
       " Text(1.9909443214625127, 26.955371900826435, 'X[407] <= 0.388\\ngini = 0.798\\nsamples = 438\\nvalue = [88, 80, 105, 81, 84]\\nclass = 3'),\n",
       " Text(1.9385510498450782, 26.236561983471063, 'X[389] <= 0.5\\ngini = 0.798\\nsamples = 437\\nvalue = [88, 80, 104, 81, 84]\\nclass = 3'),\n",
       " Text(1.8861577782276437, 25.51775206611569, 'X[42] <= 0.85\\ngini = 0.798\\nsamples = 436\\nvalue = [88, 80, 103, 81, 84]\\nclass = 3'),\n",
       " Text(1.833764506610209, 24.798942148760318, 'X[42] <= 0.35\\ngini = 0.798\\nsamples = 435\\nvalue = [88, 80, 102, 81, 84]\\nclass = 3'),\n",
       " Text(1.7813712349927746, 24.080132231404946, 'X[413] <= 0.369\\ngini = 0.798\\nsamples = 434\\nvalue = [88, 80, 102, 81, 83]\\nclass = 3'),\n",
       " Text(1.72897796337534, 23.361322314049573, 'X[343] <= 0.359\\ngini = 0.798\\nsamples = 433\\nvalue = [88, 80, 101, 81, 83]\\nclass = 3'),\n",
       " Text(1.6765846917579055, 22.6425123966942, 'X[360] <= 0.5\\ngini = 0.799\\nsamples = 432\\nvalue = [88, 80, 100, 81, 83]\\nclass = 3'),\n",
       " Text(1.624191420140471, 21.92370247933883, 'X[254] <= 0.371\\ngini = 0.799\\nsamples = 431\\nvalue = [88, 80, 99, 81, 83]\\nclass = 3'),\n",
       " Text(1.5717981485230363, 21.204892561983456, 'X[55] <= 0.5\\ngini = 0.799\\nsamples = 430\\nvalue = [88, 80, 98, 81, 83]\\nclass = 3'),\n",
       " Text(1.5194048769056019, 20.486082644628084, 'X[308] <= 0.345\\ngini = 0.799\\nsamples = 429\\nvalue = [88, 80, 97, 81, 83]\\nclass = 3'),\n",
       " Text(1.4670116052881672, 19.76727272727271, 'X[142] <= 0.423\\ngini = 0.799\\nsamples = 428\\nvalue = [88, 80, 96, 81, 83]\\nclass = 3'),\n",
       " Text(1.4146183336707328, 19.04846280991734, 'X[455] <= 0.5\\ngini = 0.799\\nsamples = 427\\nvalue = [88, 80, 95, 81, 83]\\nclass = 3'),\n",
       " Text(1.3622250620532983, 18.329652892561967, 'X[474] <= 0.5\\ngini = 0.799\\nsamples = 426\\nvalue = [88, 80, 94, 81, 83]\\nclass = 3'),\n",
       " Text(1.3098317904358636, 17.610842975206594, 'X[466] <= 0.399\\ngini = 0.799\\nsamples = 425\\nvalue = [88, 80, 93, 81, 83]\\nclass = 3'),\n",
       " Text(1.2574385188184292, 16.892033057851222, 'X[57] <= 0.5\\ngini = 0.799\\nsamples = 424\\nvalue = [88, 80, 92, 81, 83]\\nclass = 3'),\n",
       " Text(1.2050452472009945, 16.17322314049585, 'X[465] <= 0.5\\ngini = 0.799\\nsamples = 422\\nvalue = [88, 79, 92, 80, 83]\\nclass = 3'),\n",
       " Text(1.15265197558356, 15.454413223140477, 'X[69] <= 0.5\\ngini = 0.799\\nsamples = 420\\nvalue = [88, 78, 92, 79, 83]\\nclass = 3'),\n",
       " Text(1.1002587039661256, 14.735603305785105, 'X[54] <= 0.5\\ngini = 0.799\\nsamples = 418\\nvalue = [88, 78, 92, 78, 82]\\nclass = 3'),\n",
       " Text(1.047865432348691, 14.016793388429733, 'X[134] <= 0.5\\ngini = 0.799\\nsamples = 416\\nvalue = [88, 78, 92, 77, 81]\\nclass = 3'),\n",
       " Text(0.9954721607312563, 13.29798347107436, 'X[395] <= 0.882\\ngini = 0.799\\nsamples = 412\\nvalue = [87, 78, 90, 77, 80]\\nclass = 3'),\n",
       " Text(0.9430788891138219, 12.579173553718988, 'X[395] <= 0.382\\ngini = 0.799\\nsamples = 410\\nvalue = [86, 78, 90, 76, 80]\\nclass = 3'),\n",
       " Text(0.8906856174963873, 11.860363636363616, 'X[111] <= 0.5\\ngini = 0.799\\nsamples = 409\\nvalue = [86, 78, 90, 76, 79]\\nclass = 3'),\n",
       " Text(0.8382923458789527, 11.141553719008243, 'X[60] <= 0.5\\ngini = 0.799\\nsamples = 407\\nvalue = [85, 78, 90, 75, 79]\\nclass = 3'),\n",
       " Text(0.7858990742615182, 10.42274380165287, 'X[195] <= 0.5\\ngini = 0.799\\nsamples = 405\\nvalue = [84, 77, 90, 75, 79]\\nclass = 3'),\n",
       " Text(0.7335058026440836, 9.703933884297498, 'X[327] <= 0.5\\ngini = 0.799\\nsamples = 403\\nvalue = [83, 76, 90, 75, 79]\\nclass = 3'),\n",
       " Text(0.6811125310266491, 8.985123966942126, 'X[438] <= 0.5\\ngini = 0.799\\nsamples = 401\\nvalue = [82, 76, 90, 75, 78]\\nclass = 3'),\n",
       " Text(0.6287192594092146, 8.266314049586754, 'X[101] <= 0.5\\ngini = 0.799\\nsamples = 399\\nvalue = [82, 75, 89, 75, 78]\\nclass = 3'),\n",
       " Text(0.57632598779178, 7.547504132231381, 'X[283] <= 0.5\\ngini = 0.799\\nsamples = 397\\nvalue = [82, 74, 88, 75, 78]\\nclass = 3'),\n",
       " Text(0.5239327161743454, 6.828694214876009, 'X[400] <= 0.5\\ngini = 0.799\\nsamples = 395\\nvalue = [82, 74, 87, 75, 77]\\nclass = 3'),\n",
       " Text(0.47153944455691094, 6.109884297520637, 'X[382] <= 0.5\\ngini = 0.799\\nsamples = 393\\nvalue = [81, 74, 86, 75, 77]\\nclass = 3'),\n",
       " Text(0.41914617293947637, 5.391074380165264, 'X[311] <= 0.5\\ngini = 0.799\\nsamples = 391\\nvalue = [80, 74, 85, 75, 77]\\nclass = 3'),\n",
       " Text(0.3667529013220418, 4.672264462809892, 'X[314] <= 0.5\\ngini = 0.799\\nsamples = 386\\nvalue = [79, 72, 85, 74, 76]\\nclass = 3'),\n",
       " Text(0.3143596297046073, 3.9534545454545196, 'X[491] <= 0.5\\ngini = 0.799\\nsamples = 383\\nvalue = [79, 71, 84, 73, 76]\\nclass = 3'),\n",
       " Text(0.2619663580871727, 3.234644628099147, 'X[386] <= 0.5\\ngini = 0.799\\nsamples = 380\\nvalue = [79, 70, 83, 72, 76]\\nclass = 3'),\n",
       " Text(0.20957308646973818, 2.515834710743775, 'X[258] <= 0.5\\ngini = 0.799\\nsamples = 377\\nvalue = [79, 69, 82, 72, 75]\\nclass = 3'),\n",
       " Text(0.15717981485230365, 1.7970247933884025, 'X[436] <= 0.5\\ngini = 0.799\\nsamples = 373\\nvalue = [78, 68, 81, 71, 75]\\nclass = 3'),\n",
       " Text(0.10478654323486909, 1.0782148760330301, 'X[137] <= 0.5\\ngini = 0.799\\nsamples = 369\\nvalue = [77, 67, 80, 70, 75]\\nclass = 3'),\n",
       " Text(0.052393271617434546, 0.35940495867765776, 'gini = 0.799\\nsamples = 356\\nvalue = [74, 65, 78, 67, 72]\\nclass = 3'),\n",
       " Text(0.15717981485230365, 0.35940495867765776, 'gini = 0.793\\nsamples = 13\\nvalue = [3, 2, 2, 3, 3]\\nclass = 1'),\n",
       " Text(0.20957308646973818, 1.0782148760330301, 'gini = 0.75\\nsamples = 4\\nvalue = [1, 1, 1, 1, 0]\\nclass = 1'),\n",
       " Text(0.2619663580871727, 1.7970247933884025, 'gini = 0.75\\nsamples = 4\\nvalue = [1, 1, 1, 1, 0]\\nclass = 1'),\n",
       " Text(0.3143596297046073, 2.515834710743775, 'gini = 0.667\\nsamples = 3\\nvalue = [0, 1, 1, 0, 1]\\nclass = 2'),\n",
       " Text(0.3667529013220418, 3.234644628099147, 'gini = 0.667\\nsamples = 3\\nvalue = [0, 1, 1, 1, 0]\\nclass = 2'),\n",
       " Text(0.41914617293947637, 3.9534545454545196, 'gini = 0.667\\nsamples = 3\\nvalue = [0, 1, 1, 1, 0]\\nclass = 2'),\n",
       " Text(0.47153944455691094, 4.672264462809892, 'gini = 0.72\\nsamples = 5\\nvalue = [1, 2, 0, 1, 1]\\nclass = 2'),\n",
       " Text(0.5239327161743454, 5.391074380165264, 'gini = 0.5\\nsamples = 2\\nvalue = [1, 0, 1, 0, 0]\\nclass = 1'),\n",
       " Text(0.57632598779178, 6.109884297520637, 'gini = 0.5\\nsamples = 2\\nvalue = [1, 0, 1, 0, 0]\\nclass = 1'),\n",
       " Text(0.6287192594092146, 6.828694214876009, 'gini = 0.5\\nsamples = 2\\nvalue = [0, 0, 1, 0, 1]\\nclass = 3'),\n",
       " Text(0.6811125310266491, 7.547504132231381, 'gini = 0.5\\nsamples = 2\\nvalue = [0, 1, 1, 0, 0]\\nclass = 2'),\n",
       " Text(0.7335058026440836, 8.266314049586754, 'gini = 0.5\\nsamples = 2\\nvalue = [0, 1, 1, 0, 0]\\nclass = 2'),\n",
       " Text(0.7858990742615182, 8.985123966942126, 'gini = 0.5\\nsamples = 2\\nvalue = [1, 0, 0, 0, 1]\\nclass = 1'),\n",
       " Text(0.8382923458789527, 9.703933884297498, 'gini = 0.5\\nsamples = 2\\nvalue = [1, 1, 0, 0, 0]\\nclass = 1'),\n",
       " Text(0.8906856174963873, 10.42274380165287, 'gini = 0.5\\nsamples = 2\\nvalue = [1, 1, 0, 0, 0]\\nclass = 1'),\n",
       " Text(0.9430788891138219, 11.141553719008243, 'gini = 0.5\\nsamples = 2\\nvalue = [1, 0, 0, 1, 0]\\nclass = 1'),\n",
       " Text(0.9954721607312563, 11.860363636363616, 'gini = 0.0\\nsamples = 1\\nvalue = [0, 0, 0, 0, 1]\\nclass = 5'),\n",
       " Text(1.047865432348691, 12.579173553718988, 'gini = 0.5\\nsamples = 2\\nvalue = [1, 0, 0, 1, 0]\\nclass = 1'),\n",
       " Text(1.1002587039661256, 13.29798347107436, 'gini = 0.625\\nsamples = 4\\nvalue = [1, 0, 2, 0, 1]\\nclass = 3'),\n",
       " Text(1.15265197558356, 14.016793388429733, 'gini = 0.5\\nsamples = 2\\nvalue = [0, 0, 0, 1, 1]\\nclass = 4'),\n",
       " Text(1.2050452472009945, 14.735603305785105, 'gini = 0.5\\nsamples = 2\\nvalue = [0, 0, 0, 1, 1]\\nclass = 4'),\n",
       " Text(1.2574385188184292, 15.454413223140477, 'gini = 0.5\\nsamples = 2\\nvalue = [0, 1, 0, 1, 0]\\nclass = 2'),\n",
       " Text(1.3098317904358636, 16.17322314049585, 'gini = 0.5\\nsamples = 2\\nvalue = [0, 1, 0, 1, 0]\\nclass = 2'),\n",
       " Text(1.3622250620532983, 16.892033057851222, 'gini = 0.0\\nsamples = 1\\nvalue = [0, 0, 1, 0, 0]\\nclass = 3'),\n",
       " Text(1.4146183336707328, 17.610842975206594, 'gini = 0.0\\nsamples = 1\\nvalue = [0, 0, 1, 0, 0]\\nclass = 3'),\n",
       " Text(1.4670116052881672, 18.329652892561967, 'gini = 0.0\\nsamples = 1\\nvalue = [0, 0, 1, 0, 0]\\nclass = 3'),\n",
       " Text(1.5194048769056019, 19.04846280991734, 'gini = 0.0\\nsamples = 1\\nvalue = [0, 0, 1, 0, 0]\\nclass = 3'),\n",
       " Text(1.5717981485230363, 19.76727272727271, 'gini = 0.0\\nsamples = 1\\nvalue = [0, 0, 1, 0, 0]\\nclass = 3'),\n",
       " Text(1.624191420140471, 20.486082644628084, 'gini = 0.0\\nsamples = 1\\nvalue = [0, 0, 1, 0, 0]\\nclass = 3'),\n",
       " Text(1.6765846917579055, 21.204892561983456, 'gini = 0.0\\nsamples = 1\\nvalue = [0, 0, 1, 0, 0]\\nclass = 3'),\n",
       " Text(1.72897796337534, 21.92370247933883, 'gini = 0.0\\nsamples = 1\\nvalue = [0, 0, 1, 0, 0]\\nclass = 3'),\n",
       " Text(1.7813712349927746, 22.6425123966942, 'gini = 0.0\\nsamples = 1\\nvalue = [0, 0, 1, 0, 0]\\nclass = 3'),\n",
       " Text(1.833764506610209, 23.361322314049573, 'gini = 0.0\\nsamples = 1\\nvalue = [0, 0, 1, 0, 0]\\nclass = 3'),\n",
       " Text(1.8861577782276437, 24.080132231404946, 'gini = 0.0\\nsamples = 1\\nvalue = [0, 0, 0, 0, 1]\\nclass = 5'),\n",
       " Text(1.9385510498450782, 24.798942148760318, 'gini = 0.0\\nsamples = 1\\nvalue = [0, 0, 1, 0, 0]\\nclass = 3'),\n",
       " Text(1.9909443214625127, 25.51775206611569, 'gini = 0.0\\nsamples = 1\\nvalue = [0, 0, 1, 0, 0]\\nclass = 3'),\n",
       " Text(2.043337593079947, 26.236561983471063, 'gini = 0.0\\nsamples = 1\\nvalue = [0, 0, 1, 0, 0]\\nclass = 3'),\n",
       " Text(2.095730864697382, 26.955371900826435, 'gini = 0.0\\nsamples = 1\\nvalue = [0, 0, 1, 0, 0]\\nclass = 3'),\n",
       " Text(2.1481241363148165, 27.674181818181808, 'gini = 0.0\\nsamples = 1\\nvalue = [0, 0, 1, 0, 0]\\nclass = 3'),\n",
       " Text(2.200517407932251, 28.39299173553718, 'gini = 0.0\\nsamples = 1\\nvalue = [0, 0, 1, 0, 0]\\nclass = 3'),\n",
       " Text(2.2529106795496854, 29.111801652892552, 'gini = 0.0\\nsamples = 1\\nvalue = [0, 0, 1, 0, 0]\\nclass = 3'),\n",
       " Text(2.30530395116712, 29.830611570247925, 'gini = 0.0\\nsamples = 1\\nvalue = [0, 0, 1, 0, 0]\\nclass = 3'),\n",
       " Text(2.3576972227845547, 30.549421487603297, 'gini = 0.0\\nsamples = 1\\nvalue = [0, 0, 1, 0, 0]\\nclass = 3'),\n",
       " Text(2.410090494401989, 31.26823140495867, 'gini = 0.0\\nsamples = 1\\nvalue = [0, 0, 1, 0, 0]\\nclass = 3'),\n",
       " Text(2.4624837660194236, 31.98704132231404, 'gini = 0.0\\nsamples = 1\\nvalue = [0, 0, 1, 0, 0]\\nclass = 3'),\n",
       " Text(2.5148770376368583, 32.705851239669414, 'gini = 0.0\\nsamples = 1\\nvalue = [0, 1, 0, 0, 0]\\nclass = 2'),\n",
       " Text(2.5672703092542926, 33.42466115702479, 'gini = 0.0\\nsamples = 1\\nvalue = [0, 0, 1, 0, 0]\\nclass = 3'),\n",
       " Text(2.7244501241065966, 34.14347107438016, 'X[472] <= 0.846\\ngini = 0.64\\nsamples = 5\\nvalue = [0, 2, 2, 0, 1]\\nclass = 2'),\n",
       " Text(2.672056852489162, 33.42466115702479, 'gini = 0.0\\nsamples = 1\\nvalue = [0, 1, 0, 0, 0]\\nclass = 2'),\n",
       " Text(2.776843395724031, 33.42466115702479, 'gini = 0.625\\nsamples = 4\\nvalue = [0, 1, 2, 0, 1]\\nclass = 3'),\n",
       " Text(2.7244501241065966, 34.86228099173553, 'gini = 0.0\\nsamples = 1\\nvalue = [0, 0, 0, 0, 1]\\nclass = 5'),\n",
       " Text(2.776843395724031, 35.5810909090909, 'gini = 0.0\\nsamples = 1\\nvalue = [0, 0, 0, 0, 1]\\nclass = 5'),\n",
       " Text(2.8292366673414655, 36.299900826446276, 'gini = 0.0\\nsamples = 1\\nvalue = [0, 0, 0, 0, 1]\\nclass = 5'),\n",
       " Text(2.8816299389589, 37.01871074380165, 'gini = 0.0\\nsamples = 1\\nvalue = [0, 0, 0, 0, 1]\\nclass = 5'),\n",
       " Text(2.9340232105763344, 37.73752066115702, 'gini = 0.0\\nsamples = 1\\nvalue = [0, 0, 0, 0, 1]\\nclass = 5'),\n",
       " Text(2.986416482193769, 38.45633057851239, 'gini = 0.0\\nsamples = 1\\nvalue = [0, 0, 0, 0, 1]\\nclass = 5'),\n",
       " Text(3.0388097538112038, 39.175140495867765, 'gini = 0.0\\nsamples = 1\\nvalue = [0, 0, 0, 0, 1]\\nclass = 5'),\n",
       " Text(3.091203025428638, 39.89395041322314, 'gini = 0.0\\nsamples = 1\\nvalue = [1, 0, 0, 0, 0]\\nclass = 1'),\n",
       " Text(3.1435962970460727, 40.61276033057851, 'gini = 0.0\\nsamples = 1\\nvalue = [0, 0, 0, 0, 1]\\nclass = 5'),\n",
       " Text(3.1959895686635074, 41.33157024793388, 'gini = 0.0\\nsamples = 1\\nvalue = [0, 0, 0, 0, 1]\\nclass = 5'),\n",
       " Text(3.248382840280942, 42.050380165289255, 'gini = 0.0\\nsamples = 1\\nvalue = [0, 0, 0, 0, 1]\\nclass = 5'),\n",
       " Text(3.3007761118983763, 42.76919008264463, 'gini = 0.0\\nsamples = 1\\nvalue = [0, 0, 0, 0, 1]\\nclass = 5'),\n",
       " Text(3.353169383515811, 43.488, 'gini = 0.0\\nsamples = 1\\nvalue = [0, 0, 0, 0, 1]\\nclass = 5'),\n",
       " Text(3.4055626551332456, 44.20680991735537, 'gini = 0.0\\nsamples = 1\\nvalue = [0, 0, 0, 0, 1]\\nclass = 5'),\n",
       " Text(3.45795592675068, 44.925619834710744, 'gini = 0.0\\nsamples = 1\\nvalue = [0, 0, 0, 0, 1]\\nclass = 5'),\n",
       " Text(3.5103491983681145, 45.64442975206612, 'gini = 0.0\\nsamples = 1\\nvalue = [0, 0, 0, 0, 1]\\nclass = 5'),\n",
       " Text(3.562742469985549, 46.36323966942149, 'gini = 0.0\\nsamples = 1\\nvalue = [0, 0, 0, 0, 1]\\nclass = 5'),\n",
       " Text(3.615135741602984, 47.08204958677686, 'gini = 0.0\\nsamples = 1\\nvalue = [0, 0, 0, 0, 1]\\nclass = 5'),\n",
       " Text(3.7723155564552875, 47.800859504132234, 'X[464] <= 0.615\\ngini = 0.32\\nsamples = 5\\nvalue = [1, 0, 4, 0, 0]\\nclass = 3'),\n",
       " Text(3.719922284837853, 47.08204958677686, 'gini = 0.0\\nsamples = 4\\nvalue = [0, 0, 4, 0, 0]\\nclass = 3'),\n",
       " Text(3.8247088280727217, 47.08204958677686, 'gini = 0.0\\nsamples = 1\\nvalue = [1, 0, 0, 0, 0]\\nclass = 1'),\n",
       " Text(3.7723155564552875, 48.519669421487606, 'gini = 0.75\\nsamples = 12\\nvalue = [1, 3, 1, 3, 4]\\nclass = 5'),\n",
       " Text(3.8247088280727217, 49.23847933884298, 'gini = 0.0\\nsamples = 1\\nvalue = [0, 0, 0, 0, 1]\\nclass = 5'),\n",
       " Text(3.8771020996901564, 49.95728925619835, 'gini = 0.0\\nsamples = 1\\nvalue = [0, 0, 0, 0, 1]\\nclass = 5'),\n",
       " Text(3.929495371307591, 50.67609917355372, 'gini = 0.0\\nsamples = 1\\nvalue = [1, 0, 0, 0, 0]\\nclass = 1'),\n",
       " Text(3.9818886429250253, 51.394909090909096, 'gini = 0.0\\nsamples = 1\\nvalue = [0, 0, 0, 1, 0]\\nclass = 4'),\n",
       " Text(4.03428191454246, 52.11371900826447, 'gini = 0.0\\nsamples = 1\\nvalue = [0, 0, 0, 1, 0]\\nclass = 4'),\n",
       " Text(4.086675186159894, 52.83252892561984, 'gini = 0.0\\nsamples = 1\\nvalue = [0, 0, 0, 1, 0]\\nclass = 4'),\n",
       " Text(4.139068457777329, 53.55133884297521, 'gini = 0.0\\nsamples = 1\\nvalue = [0, 0, 0, 1, 0]\\nclass = 4'),\n",
       " Text(4.191461729394764, 54.270148760330585, 'gini = 0.0\\nsamples = 1\\nvalue = [0, 0, 0, 1, 0]\\nclass = 4'),\n",
       " Text(4.243855001012198, 54.98895867768596, 'gini = 0.0\\nsamples = 1\\nvalue = [0, 0, 0, 1, 0]\\nclass = 4'),\n",
       " Text(4.296248272629633, 55.70776859504133, 'gini = 0.0\\nsamples = 1\\nvalue = [0, 0, 0, 1, 0]\\nclass = 4'),\n",
       " Text(4.348641544247068, 56.4265785123967, 'gini = 0.0\\nsamples = 1\\nvalue = [0, 0, 0, 1, 0]\\nclass = 4'),\n",
       " Text(4.401034815864502, 57.145388429752074, 'gini = 0.0\\nsamples = 1\\nvalue = [0, 0, 0, 1, 0]\\nclass = 4'),\n",
       " Text(4.453428087481936, 57.86419834710745, 'gini = 0.0\\nsamples = 1\\nvalue = [0, 0, 0, 1, 0]\\nclass = 4'),\n",
       " Text(4.505821359099371, 58.58300826446282, 'gini = 0.0\\nsamples = 1\\nvalue = [0, 0, 0, 1, 0]\\nclass = 4'),\n",
       " Text(4.558214630716805, 59.30181818181819, 'gini = 0.0\\nsamples = 1\\nvalue = [0, 0, 0, 1, 0]\\nclass = 4'),\n",
       " Text(4.61060790233424, 60.020628099173564, 'gini = 0.0\\nsamples = 1\\nvalue = [0, 0, 0, 1, 0]\\nclass = 4'),\n",
       " Text(4.663001173951675, 60.739438016528936, 'gini = 0.0\\nsamples = 1\\nvalue = [0, 0, 0, 1, 0]\\nclass = 4'),\n",
       " Text(4.7153944455691095, 61.45824793388431, 'gini = 0.0\\nsamples = 1\\nvalue = [0, 0, 0, 1, 0]\\nclass = 4'),\n",
       " Text(4.767787717186543, 62.17705785123968, 'gini = 0.0\\nsamples = 1\\nvalue = [0, 0, 0, 1, 0]\\nclass = 4'),\n",
       " Text(4.924967532038847, 62.89586776859505, 'X[465] <= 0.246\\ngini = 0.444\\nsamples = 3\\nvalue = [0, 1, 0, 0, 2]\\nclass = 5'),\n",
       " Text(4.872574260421413, 62.17705785123968, 'gini = 0.0\\nsamples = 2\\nvalue = [0, 0, 0, 0, 2]\\nclass = 5'),\n",
       " Text(4.977360803656282, 62.17705785123968, 'gini = 0.0\\nsamples = 1\\nvalue = [0, 1, 0, 0, 0]\\nclass = 2'),\n",
       " Text(4.924967532038847, 63.614677685950426, 'gini = 0.0\\nsamples = 1\\nvalue = [1, 0, 0, 0, 0]\\nclass = 1'),\n",
       " Text(4.977360803656282, 64.3334876033058, 'gini = 0.0\\nsamples = 1\\nvalue = [0, 0, 0, 1, 0]\\nclass = 4'),\n",
       " Text(5.18693389012602, 65.05229752066117, 'X[11] <= 0.197\\ngini = 0.611\\nsamples = 6\\nvalue = [0, 1, 3, 2, 0]\\nclass = 3'),\n",
       " Text(5.134540618508585, 64.3334876033058, 'X[169] <= 0.72\\ngini = 0.48\\nsamples = 5\\nvalue = [0, 0, 3, 2, 0]\\nclass = 3'),\n",
       " Text(5.082147346891151, 63.614677685950426, 'X[53] <= 0.876\\ngini = 0.375\\nsamples = 4\\nvalue = [0, 0, 3, 1, 0]\\nclass = 3'),\n",
       " Text(5.029754075273717, 62.89586776859505, 'gini = 0.0\\nsamples = 2\\nvalue = [0, 0, 2, 0, 0]\\nclass = 3'),\n",
       " Text(5.134540618508585, 62.89586776859505, 'gini = 0.5\\nsamples = 2\\nvalue = [0, 0, 1, 1, 0]\\nclass = 3'),\n",
       " Text(5.18693389012602, 63.614677685950426, 'gini = 0.0\\nsamples = 1\\nvalue = [0, 0, 0, 1, 0]\\nclass = 4'),\n",
       " Text(5.2393271617434545, 64.3334876033058, 'gini = 0.0\\nsamples = 1\\nvalue = [0, 1, 0, 0, 0]\\nclass = 2'),\n",
       " Text(5.1607372543173025, 65.77110743801654, 'gini = 0.0\\nsamples = 1\\nvalue = [1, 0, 0, 0, 0]\\nclass = 1'),\n",
       " Text(5.213130525934737, 66.48991735537192, 'gini = 0.0\\nsamples = 1\\nvalue = [0, 1, 0, 0, 0]\\nclass = 2'),\n",
       " Text(5.265523797552172, 67.20872727272723, 'gini = 0.0\\nsamples = 1\\nvalue = [0, 1, 0, 0, 0]\\nclass = 2'),\n",
       " Text(5.3179170691696065, 67.9275371900826, 'gini = 0.0\\nsamples = 1\\nvalue = [0, 1, 0, 0, 0]\\nclass = 2'),\n",
       " Text(5.370310340787041, 68.64634710743798, 'gini = 0.0\\nsamples = 1\\nvalue = [0, 1, 0, 0, 0]\\nclass = 2'),\n",
       " Text(5.422703612404476, 69.36515702479335, 'gini = 0.0\\nsamples = 1\\nvalue = [0, 1, 0, 0, 0]\\nclass = 2'),\n",
       " Text(5.47509688402191, 70.08396694214872, 'gini = 0.0\\nsamples = 1\\nvalue = [0, 1, 0, 0, 0]\\nclass = 2'),\n",
       " Text(5.632276698874214, 70.80277685950409, 'X[137] <= 0.245\\ngini = 0.444\\nsamples = 3\\nvalue = [0, 0, 0, 1, 2]\\nclass = 5'),\n",
       " Text(5.579883427256779, 70.08396694214872, 'gini = 0.0\\nsamples = 2\\nvalue = [0, 0, 0, 0, 2]\\nclass = 5'),\n",
       " Text(5.684669970491648, 70.08396694214872, 'gini = 0.0\\nsamples = 1\\nvalue = [0, 0, 0, 1, 0]\\nclass = 4'),\n",
       " Text(5.632276698874214, 71.52158677685946, 'gini = 0.0\\nsamples = 1\\nvalue = [0, 1, 0, 0, 0]\\nclass = 2'),\n",
       " Text(5.684669970491648, 72.24039669421484, 'gini = 0.0\\nsamples = 1\\nvalue = [0, 1, 0, 0, 0]\\nclass = 2'),\n",
       " Text(5.737063242109083, 72.95920661157021, 'gini = 0.0\\nsamples = 1\\nvalue = [0, 1, 0, 0, 0]\\nclass = 2'),\n",
       " Text(5.789456513726518, 73.67801652892558, 'gini = 0.0\\nsamples = 1\\nvalue = [0, 1, 0, 0, 0]\\nclass = 2'),\n",
       " Text(5.8418497853439515, 74.39682644628095, 'gini = 0.0\\nsamples = 2\\nvalue = [0, 2, 0, 0, 0]\\nclass = 2'),\n",
       " Text(6.0776195076224075, 75.11563636363633, 'X[322] <= 0.53\\ngini = 0.763\\nsamples = 34\\nvalue = [6, 2, 11, 8, 7]\\nclass = 3'),\n",
       " Text(5.946636328578821, 74.39682644628095, 'X[474] <= 0.451\\ngini = 0.531\\nsamples = 8\\nvalue = [0, 0, 5, 2, 1]\\nclass = 3'),\n",
       " Text(5.894243056961386, 73.67801652892558, 'X[134] <= 0.458\\ngini = 0.278\\nsamples = 6\\nvalue = [0, 0, 5, 1, 0]\\nclass = 3'),\n",
       " Text(5.8418497853439515, 72.95920661157021, 'gini = 0.0\\nsamples = 4\\nvalue = [0, 0, 4, 0, 0]\\nclass = 3'),\n",
       " Text(5.946636328578821, 72.95920661157021, 'gini = 0.5\\nsamples = 2\\nvalue = [0, 0, 1, 1, 0]\\nclass = 3'),\n",
       " Text(5.9990296001962555, 73.67801652892558, 'gini = 0.5\\nsamples = 2\\nvalue = [0, 0, 0, 1, 1]\\nclass = 4'),\n",
       " Text(6.208602686665993, 74.39682644628095, 'X[322] <= 0.676\\ngini = 0.781\\nsamples = 26\\nvalue = [6, 2, 6, 6, 6]\\nclass = 1'),\n",
       " Text(6.103816143431125, 73.67801652892558, 'X[322] <= 0.607\\ngini = 0.5\\nsamples = 4\\nvalue = [2, 0, 0, 0, 2]\\nclass = 1'),\n",
       " Text(6.05142287181369, 72.95920661157021, 'gini = 0.0\\nsamples = 1\\nvalue = [0, 0, 0, 0, 1]\\nclass = 5'),\n",
       " Text(6.15620941504856, 72.95920661157021, 'gini = 0.444\\nsamples = 3\\nvalue = [2, 0, 0, 0, 1]\\nclass = 1'),\n",
       " Text(6.313389229900863, 73.67801652892558, 'X[322] <= 0.871\\ngini = 0.777\\nsamples = 22\\nvalue = [4, 2, 6, 6, 4]\\nclass = 3'),\n",
       " Text(6.260995958283428, 72.95920661157021, 'gini = 0.0\\nsamples = 1\\nvalue = [0, 1, 0, 0, 0]\\nclass = 2'),\n",
       " Text(6.365782501518297, 72.95920661157021, 'gini = 0.762\\nsamples = 21\\nvalue = [4, 1, 6, 6, 4]\\nclass = 3'),\n",
       " Text(6.038324553909331, 75.8344462809917, 'gini = 0.0\\nsamples = 1\\nvalue = [0, 1, 0, 0, 0]\\nclass = 2'),\n",
       " Text(6.090717825526766, 76.55325619834707, 'gini = 0.0\\nsamples = 1\\nvalue = [0, 1, 0, 0, 0]\\nclass = 2'),\n",
       " Text(6.1431110971442004, 77.27206611570244, 'gini = 0.0\\nsamples = 1\\nvalue = [0, 1, 0, 0, 0]\\nclass = 2'),\n",
       " Text(6.195504368761635, 77.99087603305782, 'gini = 0.0\\nsamples = 1\\nvalue = [0, 1, 0, 0, 0]\\nclass = 2'),\n",
       " Text(6.24789764037907, 78.70968595041319, 'gini = 0.0\\nsamples = 1\\nvalue = [0, 1, 0, 0, 0]\\nclass = 2'),\n",
       " Text(6.3002909119965045, 79.42849586776856, 'gini = 0.0\\nsamples = 1\\nvalue = [0, 1, 0, 0, 0]\\nclass = 2'),\n",
       " Text(6.352684183613939, 80.14730578512393, 'gini = 0.0\\nsamples = 1\\nvalue = [0, 1, 0, 0, 0]\\nclass = 2'),\n",
       " Text(6.509863998466242, 80.8661157024793, 'X[276] <= 0.488\\ngini = 0.444\\nsamples = 3\\nvalue = [0, 0, 2, 1, 0]\\nclass = 3'),\n",
       " Text(6.457470726848808, 80.14730578512393, 'gini = 0.0\\nsamples = 1\\nvalue = [0, 0, 1, 0, 0]\\nclass = 3'),\n",
       " Text(6.562257270083677, 80.14730578512393, 'gini = 0.5\\nsamples = 2\\nvalue = [0, 0, 1, 1, 0]\\nclass = 3'),\n",
       " Text(6.509863998466242, 81.58492561983468, 'gini = 0.0\\nsamples = 1\\nvalue = [0, 1, 0, 0, 0]\\nclass = 2'),\n",
       " Text(6.562257270083677, 82.30373553719005, 'gini = 0.0\\nsamples = 1\\nvalue = [0, 1, 0, 0, 0]\\nclass = 2'),\n",
       " Text(6.614650541701112, 83.02254545454542, 'gini = 0.0\\nsamples = 1\\nvalue = [0, 1, 0, 0, 0]\\nclass = 2'),\n",
       " Text(6.667043813318546, 83.7413553719008, 'gini = 0.0\\nsamples = 1\\nvalue = [1, 0, 0, 0, 0]\\nclass = 1'),\n",
       " Text(6.71943708493598, 84.46016528925617, 'gini = 0.0\\nsamples = 1\\nvalue = [1, 0, 0, 0, 0]\\nclass = 1'),\n",
       " Text(6.771830356553415, 85.17897520661154, 'gini = 0.0\\nsamples = 1\\nvalue = [1, 0, 0, 0, 0]\\nclass = 1'),\n",
       " Text(6.8242236281708495, 85.89778512396691, 'gini = 0.0\\nsamples = 1\\nvalue = [1, 0, 0, 0, 0]\\nclass = 1'),\n",
       " Text(6.876616899788284, 86.61659504132228, 'gini = 0.0\\nsamples = 1\\nvalue = [1, 0, 0, 0, 0]\\nclass = 1'),\n",
       " Text(6.929010171405719, 87.33540495867766, 'gini = 0.0\\nsamples = 1\\nvalue = [1, 0, 0, 0, 0]\\nclass = 1'),\n",
       " Text(6.9814034430231535, 88.05421487603303, 'gini = 0.0\\nsamples = 1\\nvalue = [1, 0, 0, 0, 0]\\nclass = 1'),\n",
       " Text(7.033796714640588, 88.7730247933884, 'gini = 0.0\\nsamples = 1\\nvalue = [1, 0, 0, 0, 0]\\nclass = 1'),\n",
       " Text(7.086189986258022, 89.49183471074377, 'gini = 0.0\\nsamples = 1\\nvalue = [1, 0, 0, 0, 0]\\nclass = 1'),\n",
       " Text(7.138583257875457, 90.21064462809915, 'gini = 0.0\\nsamples = 1\\nvalue = [1, 0, 0, 0, 0]\\nclass = 1'),\n",
       " Text(7.295763072727761, 90.92945454545452, 'X[322] <= 0.265\\ngini = 0.667\\nsamples = 6\\nvalue = [1, 3, 1, 1, 0]\\nclass = 2'),\n",
       " Text(7.243369801110326, 90.21064462809915, 'gini = 0.72\\nsamples = 5\\nvalue = [1, 2, 1, 1, 0]\\nclass = 2'),\n",
       " Text(7.348156344345195, 90.21064462809915, 'gini = 0.0\\nsamples = 1\\nvalue = [0, 1, 0, 0, 0]\\nclass = 2'),\n",
       " Text(7.295763072727761, 91.64826446280989, 'gini = 0.0\\nsamples = 2\\nvalue = [0, 0, 0, 2, 0]\\nclass = 4'),\n",
       " Text(7.348156344345195, 92.36707438016526, 'gini = 0.444\\nsamples = 3\\nvalue = [0, 0, 2, 0, 1]\\nclass = 3'),\n",
       " Text(7.5053361591974985, 93.08588429752064, 'X[205] <= 0.353\\ngini = 0.611\\nsamples = 6\\nvalue = [3, 2, 1, 0, 0]\\nclass = 1'),\n",
       " Text(7.452942887580064, 92.36707438016526, 'X[418] <= 0.32\\ngini = 0.56\\nsamples = 5\\nvalue = [3, 1, 1, 0, 0]\\nclass = 1'),\n",
       " Text(7.40054961596263, 91.64826446280989, 'gini = 0.625\\nsamples = 4\\nvalue = [2, 1, 1, 0, 0]\\nclass = 1'),\n",
       " Text(7.5053361591974985, 91.64826446280989, 'gini = 0.0\\nsamples = 1\\nvalue = [1, 0, 0, 0, 0]\\nclass = 1'),\n",
       " Text(7.557729430814933, 92.36707438016526, 'gini = 0.0\\nsamples = 1\\nvalue = [0, 1, 0, 0, 0]\\nclass = 2'),\n",
       " Text(7.662515974049803, 93.80469421487601, 'X[258] <= 0.263\\ngini = 0.444\\nsamples = 3\\nvalue = [0, 1, 0, 0, 2]\\nclass = 5'),\n",
       " Text(7.610122702432368, 93.08588429752064, 'gini = 0.0\\nsamples = 2\\nvalue = [0, 0, 0, 0, 2]\\nclass = 5'),\n",
       " Text(7.714909245667237, 93.08588429752064, 'gini = 0.0\\nsamples = 1\\nvalue = [0, 1, 0, 0, 0]\\nclass = 2'),\n",
       " Text(7.819695788902106, 94.52350413223138, 'X[235] <= 0.592\\ngini = 0.444\\nsamples = 3\\nvalue = [1, 0, 2, 0, 0]\\nclass = 3'),\n",
       " Text(7.767302517284671, 93.80469421487601, 'gini = 0.0\\nsamples = 2\\nvalue = [0, 0, 2, 0, 0]\\nclass = 3'),\n",
       " Text(7.87208906051954, 93.80469421487601, 'gini = 0.0\\nsamples = 1\\nvalue = [1, 0, 0, 0, 0]\\nclass = 1'),\n",
       " Text(7.97687560375441, 95.24231404958675, 'X[273] <= 0.202\\ngini = 0.444\\nsamples = 3\\nvalue = [1, 0, 2, 0, 0]\\nclass = 3'),\n",
       " Text(7.924482332136975, 94.52350413223138, 'gini = 0.5\\nsamples = 2\\nvalue = [1, 0, 1, 0, 0]\\nclass = 1'),\n",
       " Text(8.029268875371844, 94.52350413223138, 'gini = 0.0\\nsamples = 1\\nvalue = [0, 0, 1, 0, 0]\\nclass = 3'),\n",
       " Text(8.134055418606714, 95.96112396694213, 'X[74] <= 0.416\\ngini = 0.444\\nsamples = 3\\nvalue = [1, 0, 2, 0, 0]\\nclass = 3'),\n",
       " Text(8.081662146989279, 95.24231404958675, 'gini = 0.0\\nsamples = 2\\nvalue = [0, 0, 2, 0, 0]\\nclass = 3'),\n",
       " Text(8.186448690224148, 95.24231404958675, 'gini = 0.0\\nsamples = 1\\nvalue = [1, 0, 0, 0, 0]\\nclass = 1'),\n",
       " Text(8.291235233459018, 96.6799338842975, 'X[121] <= 0.154\\ngini = 0.444\\nsamples = 3\\nvalue = [2, 1, 0, 0, 0]\\nclass = 1'),\n",
       " Text(8.238841961841583, 95.96112396694213, 'gini = 0.0\\nsamples = 2\\nvalue = [2, 0, 0, 0, 0]\\nclass = 1'),\n",
       " Text(8.34362850507645, 95.96112396694213, 'gini = 0.0\\nsamples = 1\\nvalue = [0, 1, 0, 0, 0]\\nclass = 2'),\n",
       " Text(8.240479251579627, 97.39874380165287, 'gini = 0.0\\nsamples = 2\\nvalue = [0, 0, 0, 0, 2]\\nclass = 5'),\n",
       " Text(8.397659066431931, 98.11755371900824, 'X[322] <= 0.245\\ngini = 0.444\\nsamples = 3\\nvalue = [0, 0, 2, 1, 0]\\nclass = 3'),\n",
       " Text(8.345265794814496, 97.39874380165287, 'gini = 0.5\\nsamples = 2\\nvalue = [0, 0, 1, 1, 0]\\nclass = 3'),\n",
       " Text(8.450052338049366, 97.39874380165287, 'gini = 0.0\\nsamples = 1\\nvalue = [0, 0, 1, 0, 0]\\nclass = 3'),\n",
       " Text(8.554838881284235, 98.83636363636361, 'X[364] <= 0.899\\ngini = 0.444\\nsamples = 3\\nvalue = [0, 0, 2, 1, 0]\\nclass = 3'),\n",
       " Text(8.5024456096668, 98.11755371900824, 'gini = 0.0\\nsamples = 2\\nvalue = [0, 0, 2, 0, 0]\\nclass = 3'),\n",
       " Text(8.60723215290167, 98.11755371900824, 'gini = 0.0\\nsamples = 1\\nvalue = [0, 0, 0, 1, 0]\\nclass = 4'),\n",
       " Text(8.712018696136537, 99.55517355371899, 'X[171] <= 0.288\\ngini = 0.444\\nsamples = 3\\nvalue = [0, 0, 2, 1, 0]\\nclass = 3'),\n",
       " Text(8.659625424519104, 98.83636363636361, 'gini = 0.0\\nsamples = 2\\nvalue = [0, 0, 2, 0, 0]\\nclass = 3'),\n",
       " Text(8.764411967753972, 98.83636363636361, 'gini = 0.0\\nsamples = 1\\nvalue = [0, 0, 0, 1, 0]\\nclass = 4'),\n",
       " Text(8.869198510988841, 100.27398347107436, 'X[137] <= 0.497\\ngini = 0.444\\nsamples = 3\\nvalue = [0, 0, 1, 0, 2]\\nclass = 5'),\n",
       " Text(8.816805239371407, 99.55517355371899, 'gini = 0.0\\nsamples = 2\\nvalue = [0, 0, 0, 0, 2]\\nclass = 5'),\n",
       " Text(8.921591782606276, 99.55517355371899, 'gini = 0.0\\nsamples = 1\\nvalue = [0, 0, 1, 0, 0]\\nclass = 3'),\n",
       " Text(9.026378325841145, 100.99279338842973, 'X[395] <= 0.258\\ngini = 0.444\\nsamples = 3\\nvalue = [2, 0, 0, 1, 0]\\nclass = 1'),\n",
       " Text(8.97398505422371, 100.27398347107436, 'gini = 0.0\\nsamples = 2\\nvalue = [2, 0, 0, 0, 0]\\nclass = 1'),\n",
       " Text(9.07877159745858, 100.27398347107436, 'gini = 0.0\\nsamples = 1\\nvalue = [0, 0, 0, 1, 0]\\nclass = 4'),\n",
       " Text(9.288344683928319, 101.7116033057851, 'X[480] <= 0.882\\ngini = 0.56\\nsamples = 5\\nvalue = [0, 1, 3, 1, 0]\\nclass = 3'),\n",
       " Text(9.235951412310884, 100.99279338842973, 'X[254] <= 0.41\\ngini = 0.375\\nsamples = 4\\nvalue = [0, 0, 3, 1, 0]\\nclass = 3'),\n",
       " Text(9.18355814069345, 100.27398347107436, 'gini = 0.0\\nsamples = 3\\nvalue = [0, 0, 3, 0, 0]\\nclass = 3'),\n",
       " Text(9.288344683928319, 100.27398347107436, 'gini = 0.0\\nsamples = 1\\nvalue = [0, 0, 0, 1, 0]\\nclass = 4'),\n",
       " Text(9.340737955545753, 100.99279338842973, 'gini = 0.0\\nsamples = 1\\nvalue = [0, 1, 0, 0, 0]\\nclass = 2'),\n",
       " Text(9.445524498780621, 102.43041322314048, 'X[372] <= 0.338\\ngini = 0.444\\nsamples = 3\\nvalue = [0, 2, 1, 0, 0]\\nclass = 2'),\n",
       " Text(9.393131227163186, 101.7116033057851, 'gini = 0.0\\nsamples = 2\\nvalue = [0, 2, 0, 0, 0]\\nclass = 2'),\n",
       " Text(9.497917770398056, 101.7116033057851, 'gini = 0.0\\nsamples = 1\\nvalue = [0, 0, 1, 0, 0]\\nclass = 3'),\n",
       " Text(9.602704313632925, 103.14922314049585, 'X[198] <= 0.844\\ngini = 0.444\\nsamples = 3\\nvalue = [0, 2, 1, 0, 0]\\nclass = 2'),\n",
       " Text(9.55031104201549, 102.43041322314048, 'gini = 0.0\\nsamples = 2\\nvalue = [0, 2, 0, 0, 0]\\nclass = 2'),\n",
       " Text(9.65509758525036, 102.43041322314048, 'gini = 0.0\\nsamples = 1\\nvalue = [0, 0, 1, 0, 0]\\nclass = 3'),\n",
       " Text(9.537622046545643, 103.86803305785122, 'gini = 0.0\\nsamples = 2\\nvalue = [0, 0, 0, 0, 2]\\nclass = 5'),\n",
       " Text(9.969457214954968, 104.5868429752066, 'X[234] <= 0.28\\ngini = 0.741\\nsamples = 23\\nvalue = [4, 7, 8, 2, 2]\\nclass = 3'),\n",
       " Text(9.917063943337533, 103.86803305785122, 'X[316] <= 0.472\\ngini = 0.744\\nsamples = 21\\nvalue = [4, 5, 8, 2, 2]\\nclass = 3'),\n",
       " Text(9.812277400102664, 103.14922314049585, 'X[377] <= 0.354\\ngini = 0.5\\nsamples = 6\\nvalue = [1, 0, 4, 1, 0]\\nclass = 3'),\n",
       " Text(9.75988412848523, 102.43041322314048, 'X[364] <= 0.471\\ngini = 0.32\\nsamples = 5\\nvalue = [1, 0, 4, 0, 0]\\nclass = 3'),\n",
       " Text(9.707490856867794, 101.7116033057851, 'gini = 0.0\\nsamples = 4\\nvalue = [0, 0, 4, 0, 0]\\nclass = 3'),\n",
       " Text(9.812277400102664, 101.7116033057851, 'gini = 0.0\\nsamples = 1\\nvalue = [1, 0, 0, 0, 0]\\nclass = 1'),\n",
       " Text(9.864670671720098, 102.43041322314048, 'gini = 0.0\\nsamples = 1\\nvalue = [0, 0, 0, 1, 0]\\nclass = 4'),\n",
       " Text(10.021850486572403, 103.14922314049585, 'X[322] <= 0.318\\ngini = 0.756\\nsamples = 15\\nvalue = [3, 5, 4, 1, 2]\\nclass = 2'),\n",
       " Text(9.969457214954968, 102.43041322314048, 'X[364] <= 0.408\\ngini = 0.735\\nsamples = 14\\nvalue = [3, 5, 4, 1, 1]\\nclass = 2'),\n",
       " Text(9.917063943337533, 101.7116033057851, 'X[316] <= 0.476\\ngini = 0.698\\nsamples = 13\\nvalue = [3, 5, 4, 1, 0]\\nclass = 2'),\n",
       " Text(9.864670671720098, 100.99279338842973, 'gini = 0.0\\nsamples = 1\\nvalue = [1, 0, 0, 0, 0]\\nclass = 1'),\n",
       " Text(9.969457214954968, 100.99279338842973, 'X[395] <= 0.427\\ngini = 0.681\\nsamples = 12\\nvalue = [2, 5, 4, 1, 0]\\nclass = 2'),\n",
       " Text(9.917063943337533, 100.27398347107436, 'X[95] <= 0.439\\ngini = 0.678\\nsamples = 11\\nvalue = [2, 5, 3, 1, 0]\\nclass = 2'),\n",
       " Text(9.864670671720098, 99.55517355371899, 'gini = 0.7\\nsamples = 10\\nvalue = [2, 4, 3, 1, 0]\\nclass = 2'),\n",
       " Text(9.969457214954968, 99.55517355371899, 'gini = 0.0\\nsamples = 1\\nvalue = [0, 1, 0, 0, 0]\\nclass = 2'),\n",
       " Text(10.021850486572403, 100.27398347107436, 'gini = 0.0\\nsamples = 1\\nvalue = [0, 0, 1, 0, 0]\\nclass = 3'),\n",
       " Text(10.021850486572403, 101.7116033057851, 'gini = 0.0\\nsamples = 1\\nvalue = [0, 0, 0, 0, 1]\\nclass = 5'),\n",
       " Text(10.074243758189837, 102.43041322314048, 'gini = 0.0\\nsamples = 1\\nvalue = [0, 0, 0, 0, 1]\\nclass = 5'),\n",
       " Text(10.021850486572403, 103.86803305785122, 'gini = 0.0\\nsamples = 2\\nvalue = [0, 2, 0, 0, 0]\\nclass = 2'),\n",
       " Text(10.12663702980727, 105.30565289256197, 'X[491] <= 0.222\\ngini = 0.444\\nsamples = 3\\nvalue = [0, 0, 1, 2, 0]\\nclass = 4'),\n",
       " Text(10.074243758189837, 104.5868429752066, 'gini = 0.5\\nsamples = 2\\nvalue = [0, 0, 1, 1, 0]\\nclass = 3'),\n",
       " Text(10.179030301424705, 104.5868429752066, 'gini = 0.0\\nsamples = 1\\nvalue = [0, 0, 0, 1, 0]\\nclass = 4'),\n",
       " Text(10.283816844659574, 106.02446280991734, 'X[292] <= 0.83\\ngini = 0.444\\nsamples = 3\\nvalue = [0, 0, 1, 2, 0]\\nclass = 4'),\n",
       " Text(10.23142357304214, 105.30565289256197, 'gini = 0.0\\nsamples = 1\\nvalue = [0, 0, 0, 1, 0]\\nclass = 4'),\n",
       " Text(10.336210116277009, 105.30565289256197, 'gini = 0.5\\nsamples = 2\\nvalue = [0, 0, 1, 1, 0]\\nclass = 3'),\n",
       " Text(10.440996659511878, 106.74327272727271, 'X[441] <= 0.462\\ngini = 0.444\\nsamples = 3\\nvalue = [2, 0, 1, 0, 0]\\nclass = 1'),\n",
       " Text(10.388603387894443, 106.02446280991734, 'gini = 0.0\\nsamples = 2\\nvalue = [2, 0, 0, 0, 0]\\nclass = 1'),\n",
       " Text(10.493389931129313, 106.02446280991734, 'gini = 0.0\\nsamples = 1\\nvalue = [0, 0, 1, 0, 0]\\nclass = 3'),\n",
       " Text(10.377986587249309, 107.46208264462808, 'gini = 0.0\\nsamples = 2\\nvalue = [2, 0, 0, 0, 0]\\nclass = 1'),\n",
       " Text(10.535166402101613, 108.18089256198346, 'X[337] <= 0.147\\ngini = 0.32\\nsamples = 5\\nvalue = [1, 0, 4, 0, 0]\\nclass = 3'),\n",
       " Text(10.482773130484178, 107.46208264462808, 'gini = 0.0\\nsamples = 4\\nvalue = [0, 0, 4, 0, 0]\\nclass = 3'),\n",
       " Text(10.587559673719047, 107.46208264462808, 'gini = 0.0\\nsamples = 1\\nvalue = [1, 0, 0, 0, 0]\\nclass = 1'),\n",
       " Text(10.797132760188786, 108.89970247933883, 'X[206] <= 0.217\\ngini = 0.756\\nsamples = 22\\nvalue = [1, 7, 4, 6, 4]\\nclass = 2'),\n",
       " Text(10.744739488571351, 108.18089256198346, 'X[371] <= 0.856\\ngini = 0.757\\nsamples = 21\\nvalue = [1, 7, 4, 5, 4]\\nclass = 2'),\n",
       " Text(10.692346216953917, 107.46208264462808, 'gini = 0.0\\nsamples = 1\\nvalue = [0, 1, 0, 0, 0]\\nclass = 2'),\n",
       " Text(10.797132760188786, 107.46208264462808, 'gini = 0.765\\nsamples = 20\\nvalue = [1, 6, 4, 5, 4]\\nclass = 2'),\n",
       " Text(10.84952603180622, 108.18089256198346, 'gini = 0.0\\nsamples = 1\\nvalue = [0, 0, 0, 1, 0]\\nclass = 4'),\n",
       " Text(10.954312575041088, 109.6185123966942, 'X[417] <= 0.604\\ngini = 0.444\\nsamples = 3\\nvalue = [0, 1, 0, 2, 0]\\nclass = 4'),\n",
       " Text(10.901919303423655, 108.89970247933883, 'gini = 0.0\\nsamples = 2\\nvalue = [0, 0, 0, 2, 0]\\nclass = 4'),\n",
       " Text(11.006705846658523, 108.89970247933883, 'gini = 0.0\\nsamples = 1\\nvalue = [0, 1, 0, 0, 0]\\nclass = 2'),\n",
       " Text(11.216278933128262, 110.33732231404957, 'X[450] <= 0.054\\ngini = 0.5\\nsamples = 4\\nvalue = [0, 0, 2, 0, 2]\\nclass = 3'),\n",
       " Text(11.163885661510827, 109.6185123966942, 'X[166] <= 0.287\\ngini = 0.444\\nsamples = 3\\nvalue = [0, 0, 2, 0, 1]\\nclass = 3'),\n",
       " Text(11.111492389893392, 108.89970247933883, 'gini = 0.0\\nsamples = 2\\nvalue = [0, 0, 2, 0, 0]\\nclass = 3'),\n",
       " Text(11.216278933128262, 108.89970247933883, 'gini = 0.0\\nsamples = 1\\nvalue = [0, 0, 0, 0, 1]\\nclass = 5'),\n",
       " Text(11.268672204745696, 109.6185123966942, 'gini = 0.0\\nsamples = 1\\nvalue = [0, 0, 0, 0, 1]\\nclass = 5'),\n",
       " Text(11.373458747980566, 111.05613223140494, 'X[53] <= 0.326\\ngini = 0.444\\nsamples = 3\\nvalue = [0, 2, 0, 1, 0]\\nclass = 2'),\n",
       " Text(11.321065476363131, 110.33732231404957, 'gini = 0.0\\nsamples = 2\\nvalue = [0, 2, 0, 0, 0]\\nclass = 2'),\n",
       " Text(11.425852019598, 110.33732231404957, 'gini = 0.0\\nsamples = 1\\nvalue = [0, 0, 0, 1, 0]\\nclass = 4'),\n",
       " Text(11.53063856283287, 111.77494214876032, 'X[465] <= 0.361\\ngini = 0.444\\nsamples = 3\\nvalue = [0, 2, 0, 1, 0]\\nclass = 2'),\n",
       " Text(11.478245291215435, 111.05613223140494, 'gini = 0.5\\nsamples = 2\\nvalue = [0, 1, 0, 1, 0]\\nclass = 2'),\n",
       " Text(11.583031834450304, 111.05613223140494, 'gini = 0.0\\nsamples = 1\\nvalue = [0, 1, 0, 0, 0]\\nclass = 2'),\n",
       " Text(11.687818377685172, 112.49375206611569, 'X[441] <= 0.101\\ngini = 0.444\\nsamples = 3\\nvalue = [0, 1, 0, 0, 2]\\nclass = 5'),\n",
       " Text(11.635425106067737, 111.77494214876032, 'gini = 0.0\\nsamples = 1\\nvalue = [0, 1, 0, 0, 0]\\nclass = 2'),\n",
       " Text(11.740211649302607, 111.77494214876032, 'gini = 0.0\\nsamples = 2\\nvalue = [0, 0, 0, 0, 2]\\nclass = 5'),\n",
       " Text(11.844998192537476, 113.21256198347106, 'X[152] <= 0.329\\ngini = 0.444\\nsamples = 3\\nvalue = [0, 1, 0, 0, 2]\\nclass = 5'),\n",
       " Text(11.792604920920041, 112.49375206611569, 'gini = 0.0\\nsamples = 2\\nvalue = [0, 0, 0, 0, 2]\\nclass = 5'),\n",
       " Text(11.89739146415491, 112.49375206611569, 'gini = 0.0\\nsamples = 1\\nvalue = [0, 1, 0, 0, 0]\\nclass = 2'),\n",
       " Text(11.788921019009441, 113.93137190082643, 'gini = 0.0\\nsamples = 2\\nvalue = [0, 0, 0, 0, 2]\\nclass = 5'),\n",
       " Text(11.946100833861745, 114.6501818181818, 'X[376] <= 0.859\\ngini = 0.375\\nsamples = 4\\nvalue = [3, 0, 0, 0, 1]\\nclass = 1'),\n",
       " Text(11.89370756224431, 113.93137190082643, 'gini = 0.0\\nsamples = 2\\nvalue = [2, 0, 0, 0, 0]\\nclass = 1'),\n",
       " Text(11.99849410547918, 113.93137190082643, 'gini = 0.5\\nsamples = 2\\nvalue = [1, 0, 0, 0, 1]\\nclass = 1'),\n",
       " Text(12.103280648714048, 115.36899173553718, 'X[464] <= 0.205\\ngini = 0.375\\nsamples = 4\\nvalue = [0, 1, 3, 0, 0]\\nclass = 3'),\n",
       " Text(12.050887377096613, 114.6501818181818, 'gini = 0.0\\nsamples = 3\\nvalue = [0, 0, 3, 0, 0]\\nclass = 3'),\n",
       " Text(12.155673920331482, 114.6501818181818, 'gini = 0.0\\nsamples = 1\\nvalue = [0, 1, 0, 0, 0]\\nclass = 2'),\n",
       " Text(12.365247006801221, 116.08780165289255, 'X[322] <= 0.235\\ngini = 0.611\\nsamples = 6\\nvalue = [0, 0, 1, 3, 2]\\nclass = 4'),\n",
       " Text(12.312853735183786, 115.36899173553718, 'X[480] <= 0.317\\ngini = 0.64\\nsamples = 5\\nvalue = [0, 0, 1, 2, 2]\\nclass = 4'),\n",
       " Text(12.260460463566352, 114.6501818181818, 'gini = 0.667\\nsamples = 3\\nvalue = [0, 0, 1, 1, 1]\\nclass = 3'),\n",
       " Text(12.365247006801221, 114.6501818181818, 'gini = 0.5\\nsamples = 2\\nvalue = [0, 0, 0, 1, 1]\\nclass = 4'),\n",
       " Text(12.417640278418656, 115.36899173553718, 'gini = 0.0\\nsamples = 1\\nvalue = [0, 0, 0, 1, 0]\\nclass = 4'),\n",
       " Text(12.522426821653525, 116.80661157024792, 'X[48] <= 0.112\\ngini = 0.444\\nsamples = 3\\nvalue = [1, 2, 0, 0, 0]\\nclass = 2'),\n",
       " Text(12.47003355003609, 116.08780165289255, 'gini = 0.0\\nsamples = 2\\nvalue = [0, 2, 0, 0, 0]\\nclass = 2'),\n",
       " Text(12.57482009327096, 116.08780165289255, 'gini = 0.0\\nsamples = 1\\nvalue = [1, 0, 0, 0, 0]\\nclass = 1'),\n",
       " Text(12.784393179740697, 117.5254214876033, 'X[316] <= 0.316\\ngini = 0.71\\nsamples = 13\\nvalue = [1, 6, 2, 2, 2]\\nclass = 2'),\n",
       " Text(12.731999908123262, 116.80661157024792, 'X[364] <= 0.421\\ngini = 0.681\\nsamples = 12\\nvalue = [1, 6, 2, 1, 2]\\nclass = 2'),\n",
       " Text(12.679606636505829, 116.08780165289255, 'X[441] <= 0.768\\ngini = 0.645\\nsamples = 11\\nvalue = [1, 6, 2, 1, 1]\\nclass = 2'),\n",
       " Text(12.627213364888394, 115.36899173553718, 'gini = 0.0\\nsamples = 2\\nvalue = [0, 2, 0, 0, 0]\\nclass = 2'),\n",
       " Text(12.731999908123262, 115.36899173553718, 'gini = 0.716\\nsamples = 9\\nvalue = [1, 4, 2, 1, 1]\\nclass = 2'),\n",
       " Text(12.784393179740697, 116.08780165289255, 'gini = 0.0\\nsamples = 1\\nvalue = [0, 0, 0, 0, 1]\\nclass = 5'),\n",
       " Text(12.836786451358131, 116.80661157024792, 'gini = 0.0\\nsamples = 1\\nvalue = [0, 0, 0, 1, 0]\\nclass = 4'),\n",
       " Text(12.669782898077559, 118.24423140495867, 'gini = 0.0\\nsamples = 2\\nvalue = [0, 0, 2, 0, 0]\\nclass = 3'),\n",
       " Text(12.993966266210435, 118.96304132231404, 'X[459] <= 0.07\\ngini = 0.5\\nsamples = 4\\nvalue = [0, 2, 0, 2, 0]\\nclass = 2'),\n",
       " Text(12.941572994593, 118.24423140495867, 'X[266] <= 0.279\\ngini = 0.444\\nsamples = 3\\nvalue = [0, 1, 0, 2, 0]\\nclass = 4'),\n",
       " Text(12.889179722975566, 117.5254214876033, 'gini = 0.0\\nsamples = 2\\nvalue = [0, 0, 0, 2, 0]\\nclass = 4'),\n",
       " Text(12.993966266210435, 117.5254214876033, 'gini = 0.0\\nsamples = 1\\nvalue = [0, 1, 0, 0, 0]\\nclass = 2'),\n",
       " Text(13.04635953782787, 118.24423140495867, 'gini = 0.0\\nsamples = 1\\nvalue = [0, 1, 0, 0, 0]\\nclass = 2'),\n",
       " Text(12.910464489570149, 119.68185123966941, 'gini = 0.0\\nsamples = 2\\nvalue = [0, 0, 0, 0, 2]\\nclass = 5'),\n",
       " Text(12.962857761187584, 120.40066115702479, 'gini = 0.0\\nsamples = 2\\nvalue = [0, 0, 2, 0, 0]\\nclass = 3'),\n",
       " Text(13.413112439149913, 121.11947107438016, 'X[417] <= 0.18\\ngini = 0.711\\nsamples = 16\\nvalue = [2, 6, 5, 3, 0]\\nclass = 2'),\n",
       " Text(13.360719167532478, 120.40066115702479, 'X[390] <= 0.345\\ngini = 0.684\\nsamples = 15\\nvalue = [1, 6, 5, 3, 0]\\nclass = 2'),\n",
       " Text(13.308325895915043, 119.68185123966941, 'X[328] <= 0.354\\ngini = 0.643\\nsamples = 14\\nvalue = [0, 6, 5, 3, 0]\\nclass = 2'),\n",
       " Text(13.255932624297609, 118.96304132231404, 'X[136] <= 0.739\\ngini = 0.615\\nsamples = 13\\nvalue = [0, 6, 5, 2, 0]\\nclass = 2'),\n",
       " Text(13.15114608106274, 118.24423140495867, 'X[403] <= 0.24\\ngini = 0.375\\nsamples = 4\\nvalue = [0, 3, 1, 0, 0]\\nclass = 2'),\n",
       " Text(13.098752809445305, 117.5254214876033, 'gini = 0.0\\nsamples = 3\\nvalue = [0, 3, 0, 0, 0]\\nclass = 2'),\n",
       " Text(13.203539352680174, 117.5254214876033, 'gini = 0.0\\nsamples = 1\\nvalue = [0, 0, 1, 0, 0]\\nclass = 3'),\n",
       " Text(13.360719167532478, 118.24423140495867, 'X[136] <= 0.829\\ngini = 0.642\\nsamples = 9\\nvalue = [0, 3, 4, 2, 0]\\nclass = 3'),\n",
       " Text(13.308325895915043, 117.5254214876033, 'gini = 0.0\\nsamples = 1\\nvalue = [0, 0, 1, 0, 0]\\nclass = 3'),\n",
       " Text(13.413112439149913, 117.5254214876033, 'X[136] <= 0.954\\ngini = 0.656\\nsamples = 8\\nvalue = [0, 3, 3, 2, 0]\\nclass = 2'),\n",
       " Text(13.360719167532478, 116.80661157024792, 'gini = 0.5\\nsamples = 2\\nvalue = [0, 1, 1, 0, 0]\\nclass = 2'),\n",
       " Text(13.465505710767346, 116.80661157024792, 'gini = 0.667\\nsamples = 6\\nvalue = [0, 2, 2, 2, 0]\\nclass = 2'),\n",
       " Text(13.360719167532478, 118.96304132231404, 'gini = 0.0\\nsamples = 1\\nvalue = [0, 0, 0, 1, 0]\\nclass = 4'),\n",
       " Text(13.413112439149913, 119.68185123966941, 'gini = 0.0\\nsamples = 1\\nvalue = [1, 0, 0, 0, 0]\\nclass = 1'),\n",
       " Text(13.465505710767346, 120.40066115702479, 'gini = 0.0\\nsamples = 1\\nvalue = [1, 0, 0, 0, 0]\\nclass = 1'),\n",
       " Text(13.570292254002215, 121.83828099173553, 'X[201] <= 0.193\\ngini = 0.5\\nsamples = 4\\nvalue = [0, 2, 0, 2, 0]\\nclass = 2'),\n",
       " Text(13.51789898238478, 121.11947107438016, 'gini = 0.0\\nsamples = 2\\nvalue = [0, 0, 0, 2, 0]\\nclass = 4'),\n",
       " Text(13.62268552561965, 121.11947107438016, 'gini = 0.0\\nsamples = 2\\nvalue = [0, 2, 0, 0, 0]\\nclass = 2'),\n",
       " Text(13.470826902415991, 122.5570909090909, 'gini = 0.0\\nsamples = 2\\nvalue = [0, 2, 0, 0, 0]\\nclass = 2'),\n",
       " Text(13.779865340471954, 123.27590082644628, 'X[94] <= 0.374\\ngini = 0.611\\nsamples = 6\\nvalue = [3, 0, 2, 1, 0]\\nclass = 1'),\n",
       " Text(13.727472068854519, 122.5570909090909, 'X[162] <= 0.456\\ngini = 0.48\\nsamples = 5\\nvalue = [3, 0, 2, 0, 0]\\nclass = 1'),\n",
       " Text(13.675078797237084, 121.83828099173553, 'gini = 0.0\\nsamples = 2\\nvalue = [2, 0, 0, 0, 0]\\nclass = 1'),\n",
       " Text(13.779865340471954, 121.83828099173553, 'X[258] <= 0.348\\ngini = 0.444\\nsamples = 3\\nvalue = [1, 0, 2, 0, 0]\\nclass = 3'),\n",
       " Text(13.727472068854519, 121.11947107438016, 'gini = 0.0\\nsamples = 2\\nvalue = [0, 0, 2, 0, 0]\\nclass = 3'),\n",
       " Text(13.832258612089388, 121.11947107438016, 'gini = 0.0\\nsamples = 1\\nvalue = [1, 0, 0, 0, 0]\\nclass = 1'),\n",
       " Text(13.832258612089388, 122.5570909090909, 'gini = 0.0\\nsamples = 1\\nvalue = [0, 0, 0, 1, 0]\\nclass = 4'),\n",
       " Text(13.937045155324258, 123.99471074380165, 'X[422] <= 0.808\\ngini = 0.56\\nsamples = 5\\nvalue = [1, 3, 1, 0, 0]\\nclass = 2'),\n",
       " Text(13.884651883706823, 123.27590082644628, 'gini = 0.0\\nsamples = 1\\nvalue = [0, 1, 0, 0, 0]\\nclass = 2'),\n",
       " Text(13.989438426941692, 123.27590082644628, 'gini = 0.625\\nsamples = 4\\nvalue = [1, 2, 1, 0, 0]\\nclass = 2'),\n",
       " Text(14.094224970176562, 124.71352066115702, 'X[436] <= 0.336\\ngini = 0.444\\nsamples = 3\\nvalue = [0, 0, 0, 2, 1]\\nclass = 4'),\n",
       " Text(14.041831698559127, 123.99471074380165, 'gini = 0.0\\nsamples = 2\\nvalue = [0, 0, 0, 2, 0]\\nclass = 4'),\n",
       " Text(14.146618241793995, 123.99471074380165, 'gini = 0.0\\nsamples = 1\\nvalue = [0, 0, 0, 0, 1]\\nclass = 5'),\n",
       " Text(14.251404785028864, 125.43233057851239, 'X[231] <= 0.611\\ngini = 0.444\\nsamples = 3\\nvalue = [0, 0, 0, 2, 1]\\nclass = 4'),\n",
       " Text(14.19901151341143, 124.71352066115702, 'gini = 0.0\\nsamples = 2\\nvalue = [0, 0, 0, 2, 0]\\nclass = 4'),\n",
       " Text(14.303798056646299, 124.71352066115702, 'gini = 0.0\\nsamples = 1\\nvalue = [0, 0, 0, 0, 1]\\nclass = 5'),\n",
       " Text(14.408584599881168, 126.15114049586776, 'X[322] <= 0.111\\ngini = 0.444\\nsamples = 3\\nvalue = [2, 0, 0, 1, 0]\\nclass = 1'),\n",
       " Text(14.356191328263733, 125.43233057851239, 'gini = 0.5\\nsamples = 2\\nvalue = [1, 0, 0, 1, 0]\\nclass = 1'),\n",
       " Text(14.460977871498603, 125.43233057851239, 'gini = 0.0\\nsamples = 1\\nvalue = [1, 0, 0, 0, 0]\\nclass = 1'),\n",
       " Text(14.565764414733472, 126.86995041322314, 'X[44] <= 0.615\\ngini = 0.444\\nsamples = 3\\nvalue = [2, 0, 0, 0, 1]\\nclass = 1'),\n",
       " Text(14.513371143116037, 126.15114049586776, 'gini = 0.0\\nsamples = 2\\nvalue = [2, 0, 0, 0, 0]\\nclass = 1'),\n",
       " Text(14.618157686350907, 126.15114049586776, 'gini = 0.0\\nsamples = 1\\nvalue = [0, 0, 0, 0, 1]\\nclass = 5'),\n",
       " Text(14.722944229585776, 127.58876033057851, 'X[102] <= 0.365\\ngini = 0.375\\nsamples = 4\\nvalue = [0, 1, 3, 0, 0]\\nclass = 3'),\n",
       " Text(14.670550957968342, 126.86995041322314, 'gini = 0.0\\nsamples = 3\\nvalue = [0, 0, 3, 0, 0]\\nclass = 3'),\n",
       " Text(14.77533750120321, 126.86995041322314, 'gini = 0.0\\nsamples = 1\\nvalue = [0, 1, 0, 0, 0]\\nclass = 2'),\n",
       " Text(14.880124044438078, 128.30757024793388, 'X[295] <= 0.9\\ngini = 0.375\\nsamples = 4\\nvalue = [0, 0, 3, 1, 0]\\nclass = 3'),\n",
       " Text(14.827730772820646, 127.58876033057851, 'gini = 0.0\\nsamples = 3\\nvalue = [0, 0, 3, 0, 0]\\nclass = 3'),\n",
       " Text(14.932517316055513, 127.58876033057851, 'gini = 0.0\\nsamples = 1\\nvalue = [0, 0, 0, 1, 0]\\nclass = 4'),\n",
       " Text(14.827546897508267, 129.02638016528925, 'gini = 0.0\\nsamples = 2\\nvalue = [0, 0, 0, 2, 0]\\nclass = 4'),\n",
       " Text(15.089697130907817, 129.74519008264463, 'X[464] <= 0.373\\ngini = 0.5\\nsamples = 6\\nvalue = [1, 4, 1, 0, 0]\\nclass = 2'),\n",
       " Text(15.037303859290382, 129.02638016528925, 'X[364] <= 0.326\\ngini = 0.32\\nsamples = 5\\nvalue = [0, 4, 1, 0, 0]\\nclass = 2'),\n",
       " Text(14.984910587672948, 128.30757024793388, 'gini = 0.0\\nsamples = 4\\nvalue = [0, 4, 0, 0, 0]\\nclass = 2'),\n",
       " Text(15.089697130907817, 128.30757024793388, 'gini = 0.0\\nsamples = 1\\nvalue = [0, 0, 1, 0, 0]\\nclass = 3'),\n",
       " Text(15.142090402525252, 129.02638016528925, 'gini = 0.0\\nsamples = 1\\nvalue = [1, 0, 0, 0, 0]\\nclass = 1'),\n",
       " Text(15.35166348899499, 130.464, 'X[229] <= 0.108\\ngini = 0.612\\nsamples = 7\\nvalue = [0, 3, 1, 3, 0]\\nclass = 2'),\n",
       " Text(15.299270217377556, 129.74519008264463, 'X[44] <= 0.241\\ngini = 0.611\\nsamples = 6\\nvalue = [0, 3, 1, 2, 0]\\nclass = 2'),\n",
       " Text(15.246876945760121, 129.02638016528925, 'X[269] <= 0.905\\ngini = 0.56\\nsamples = 5\\nvalue = [0, 3, 1, 1, 0]\\nclass = 2'),\n",
       " Text(15.194483674142687, 128.30757024793388, 'gini = 0.0\\nsamples = 2\\nvalue = [0, 2, 0, 0, 0]\\nclass = 2'),\n",
       " Text(15.299270217377556, 128.30757024793388, 'gini = 0.667\\nsamples = 3\\nvalue = [0, 1, 1, 1, 0]\\nclass = 2'),\n",
       " Text(15.35166348899499, 129.02638016528925, 'gini = 0.0\\nsamples = 1\\nvalue = [0, 0, 0, 1, 0]\\nclass = 4'),\n",
       " Text(15.404056760612425, 129.74519008264463, 'gini = 0.0\\nsamples = 1\\nvalue = [0, 0, 0, 1, 0]\\nclass = 4'),\n",
       " Text(15.246830976932026, 131.18280991735537, 'gini = 0.0\\nsamples = 2\\nvalue = [0, 0, 0, 2, 0]\\nclass = 4'),\n",
       " Text(15.29922424854946, 131.90161983471074, 'gini = 0.0\\nsamples = 2\\nvalue = [0, 0, 0, 0, 2]\\nclass = 5'),\n",
       " Text(15.718416390317032, 132.62042975206612, 'X[418] <= 0.42\\ngini = 0.719\\nsamples = 16\\nvalue = [2, 3, 3, 7, 1]\\nclass = 4'),\n",
       " Text(15.666023118699597, 131.90161983471074, 'X[325] <= 0.205\\ngini = 0.684\\nsamples = 15\\nvalue = [2, 3, 3, 7, 0]\\nclass = 4'),\n",
       " Text(15.613629847082162, 131.18280991735537, 'X[403] <= 0.314\\ngini = 0.653\\nsamples = 14\\nvalue = [1, 3, 3, 7, 0]\\nclass = 4'),\n",
       " Text(15.561236575464727, 130.464, 'X[22] <= 0.197\\ngini = 0.604\\nsamples = 13\\nvalue = [0, 3, 3, 7, 0]\\nclass = 4'),\n",
       " Text(15.508843303847295, 129.74519008264463, 'X[62] <= 0.143\\ngini = 0.569\\nsamples = 12\\nvalue = [0, 2, 3, 7, 0]\\nclass = 4'),\n",
       " Text(15.45645003222986, 129.02638016528925, 'X[395] <= 0.306\\ngini = 0.512\\nsamples = 11\\nvalue = [0, 1, 3, 7, 0]\\nclass = 4'),\n",
       " Text(15.404056760612425, 128.30757024793388, 'X[1] <= 0.233\\ngini = 0.42\\nsamples = 10\\nvalue = [0, 0, 3, 7, 0]\\nclass = 4'),\n",
       " Text(15.35166348899499, 127.58876033057851, 'X[351] <= 0.326\\ngini = 0.346\\nsamples = 9\\nvalue = [0, 0, 2, 7, 0]\\nclass = 4'),\n",
       " Text(15.299270217377556, 126.86995041322314, 'X[292] <= 0.425\\ngini = 0.219\\nsamples = 8\\nvalue = [0, 0, 1, 7, 0]\\nclass = 4'),\n",
       " Text(15.246876945760121, 126.15114049586776, 'gini = 0.0\\nsamples = 7\\nvalue = [0, 0, 0, 7, 0]\\nclass = 4'),\n",
       " Text(15.35166348899499, 126.15114049586776, 'gini = 0.0\\nsamples = 1\\nvalue = [0, 0, 1, 0, 0]\\nclass = 3'),\n",
       " Text(15.404056760612425, 126.86995041322314, 'gini = 0.0\\nsamples = 1\\nvalue = [0, 0, 1, 0, 0]\\nclass = 3'),\n",
       " Text(15.45645003222986, 127.58876033057851, 'gini = 0.0\\nsamples = 1\\nvalue = [0, 0, 1, 0, 0]\\nclass = 3'),\n",
       " Text(15.508843303847295, 128.30757024793388, 'gini = 0.0\\nsamples = 1\\nvalue = [0, 1, 0, 0, 0]\\nclass = 2'),\n",
       " Text(15.561236575464727, 129.02638016528925, 'gini = 0.0\\nsamples = 1\\nvalue = [0, 1, 0, 0, 0]\\nclass = 2'),\n",
       " Text(15.613629847082162, 129.74519008264463, 'gini = 0.0\\nsamples = 1\\nvalue = [0, 1, 0, 0, 0]\\nclass = 2'),\n",
       " Text(15.666023118699597, 130.464, 'gini = 0.0\\nsamples = 1\\nvalue = [1, 0, 0, 0, 0]\\nclass = 1'),\n",
       " Text(15.718416390317032, 131.18280991735537, 'gini = 0.0\\nsamples = 1\\nvalue = [1, 0, 0, 0, 0]\\nclass = 1'),\n",
       " Text(15.770809661934466, 131.90161983471074, 'gini = 0.0\\nsamples = 1\\nvalue = [0, 0, 0, 0, 1]\\nclass = 5'),\n",
       " Text(15.875596205169336, 133.3392396694215, 'X[480] <= 0.48\\ngini = 0.56\\nsamples = 5\\nvalue = [0, 1, 0, 3, 1]\\nclass = 4'),\n",
       " Text(15.8232029335519, 132.62042975206612, 'gini = 0.0\\nsamples = 3\\nvalue = [0, 0, 0, 3, 0]\\nclass = 4'),\n",
       " Text(15.92798947678677, 132.62042975206612, 'X[128] <= 0.597\\ngini = 0.5\\nsamples = 2\\nvalue = [0, 1, 0, 0, 1]\\nclass = 2'),\n",
       " Text(15.875596205169336, 131.90161983471074, 'gini = 0.0\\nsamples = 1\\nvalue = [0, 1, 0, 0, 0]\\nclass = 2'),\n",
       " Text(15.980382748404205, 131.90161983471074, 'gini = 0.0\\nsamples = 1\\nvalue = [0, 0, 0, 0, 1]\\nclass = 5'),\n",
       " Text(16.13756256325651, 134.05804958677686, 'X[261] <= 0.227\\ngini = 0.5\\nsamples = 4\\nvalue = [0, 2, 0, 0, 2]\\nclass = 2'),\n",
       " Text(16.085169291639072, 133.3392396694215, 'X[409] <= 0.936\\ngini = 0.444\\nsamples = 3\\nvalue = [0, 1, 0, 0, 2]\\nclass = 5'),\n",
       " Text(16.03277602002164, 132.62042975206612, 'gini = 0.0\\nsamples = 2\\nvalue = [0, 0, 0, 0, 2]\\nclass = 5'),\n",
       " Text(16.13756256325651, 132.62042975206612, 'gini = 0.0\\nsamples = 1\\nvalue = [0, 1, 0, 0, 0]\\nclass = 2'),\n",
       " Text(16.189955834873942, 133.3392396694215, 'gini = 0.0\\nsamples = 1\\nvalue = [0, 1, 0, 0, 0]\\nclass = 2'),\n",
       " Text(16.01312279706159, 134.77685950413223, 'gini = 0.0\\nsamples = 2\\nvalue = [0, 0, 0, 2, 0]\\nclass = 4'),\n",
       " Text(16.347135649726248, 135.4956694214876, 'X[322] <= 0.221\\ngini = 0.5\\nsamples = 4\\nvalue = [2, 2, 0, 0, 0]\\nclass = 1'),\n",
       " Text(16.29474237810881, 134.77685950413223, 'X[342] <= 0.372\\ngini = 0.444\\nsamples = 3\\nvalue = [2, 1, 0, 0, 0]\\nclass = 1'),\n",
       " Text(16.24234910649138, 134.05804958677686, 'gini = 0.5\\nsamples = 2\\nvalue = [1, 1, 0, 0, 0]\\nclass = 1'),\n",
       " Text(16.347135649726248, 134.05804958677686, 'gini = 0.0\\nsamples = 1\\nvalue = [1, 0, 0, 0, 0]\\nclass = 1'),\n",
       " Text(16.39952892134368, 134.77685950413223, 'gini = 0.0\\nsamples = 1\\nvalue = [0, 1, 0, 0, 0]\\nclass = 2'),\n",
       " Text(16.25871913082007, 136.21447933884298, 'gini = 0.0\\nsamples = 2\\nvalue = [0, 2, 0, 0, 0]\\nclass = 2'),\n",
       " Text(16.311112402437505, 136.93328925619835, 'gini = 0.0\\nsamples = 2\\nvalue = [0, 0, 2, 0, 0]\\nclass = 3'),\n",
       " Text(16.71388855104829, 137.65209917355372, 'X[490] <= 0.195\\ngini = 0.656\\nsamples = 8\\nvalue = [3, 0, 2, 0, 3]\\nclass = 1'),\n",
       " Text(16.661495279430852, 136.93328925619835, 'X[54] <= 0.357\\ngini = 0.611\\nsamples = 6\\nvalue = [1, 0, 2, 0, 3]\\nclass = 5'),\n",
       " ...]"
      ]
     },
     "execution_count": 15,
     "metadata": {},
     "output_type": "execute_result"
    },
    {
     "name": "stdout",
     "output_type": "stream",
     "text": [
      "Error in callback <function flush_figures at 0x00000202E000F5E8> (for post_execute):\n"
     ]
    },
    {
     "ename": "KeyboardInterrupt",
     "evalue": "",
     "output_type": "error",
     "traceback": [
      "\u001b[1;31m---------------------------------------------------------------------------\u001b[0m",
      "\u001b[1;31mKeyboardInterrupt\u001b[0m                         Traceback (most recent call last)",
      "\u001b[1;32m~\\anaconda3\\lib\\site-packages\\ipykernel\\pylab\\backend_inline.py\u001b[0m in \u001b[0;36mflush_figures\u001b[1;34m()\u001b[0m\n\u001b[0;32m    119\u001b[0m         \u001b[1;31m# ignore the tracking, just draw and close all figures\u001b[0m\u001b[1;33m\u001b[0m\u001b[1;33m\u001b[0m\u001b[1;33m\u001b[0m\u001b[0m\n\u001b[0;32m    120\u001b[0m         \u001b[1;32mtry\u001b[0m\u001b[1;33m:\u001b[0m\u001b[1;33m\u001b[0m\u001b[1;33m\u001b[0m\u001b[0m\n\u001b[1;32m--> 121\u001b[1;33m             \u001b[1;32mreturn\u001b[0m \u001b[0mshow\u001b[0m\u001b[1;33m(\u001b[0m\u001b[1;32mTrue\u001b[0m\u001b[1;33m)\u001b[0m\u001b[1;33m\u001b[0m\u001b[1;33m\u001b[0m\u001b[0m\n\u001b[0m\u001b[0;32m    122\u001b[0m         \u001b[1;32mexcept\u001b[0m \u001b[0mException\u001b[0m \u001b[1;32mas\u001b[0m \u001b[0me\u001b[0m\u001b[1;33m:\u001b[0m\u001b[1;33m\u001b[0m\u001b[1;33m\u001b[0m\u001b[0m\n\u001b[0;32m    123\u001b[0m             \u001b[1;31m# safely show traceback if in IPython, else raise\u001b[0m\u001b[1;33m\u001b[0m\u001b[1;33m\u001b[0m\u001b[1;33m\u001b[0m\u001b[0m\n",
      "\u001b[1;32m~\\anaconda3\\lib\\site-packages\\ipykernel\\pylab\\backend_inline.py\u001b[0m in \u001b[0;36mshow\u001b[1;34m(close, block)\u001b[0m\n\u001b[0;32m     41\u001b[0m             display(\n\u001b[0;32m     42\u001b[0m                 \u001b[0mfigure_manager\u001b[0m\u001b[1;33m.\u001b[0m\u001b[0mcanvas\u001b[0m\u001b[1;33m.\u001b[0m\u001b[0mfigure\u001b[0m\u001b[1;33m,\u001b[0m\u001b[1;33m\u001b[0m\u001b[1;33m\u001b[0m\u001b[0m\n\u001b[1;32m---> 43\u001b[1;33m                 \u001b[0mmetadata\u001b[0m\u001b[1;33m=\u001b[0m\u001b[0m_fetch_figure_metadata\u001b[0m\u001b[1;33m(\u001b[0m\u001b[0mfigure_manager\u001b[0m\u001b[1;33m.\u001b[0m\u001b[0mcanvas\u001b[0m\u001b[1;33m.\u001b[0m\u001b[0mfigure\u001b[0m\u001b[1;33m)\u001b[0m\u001b[1;33m\u001b[0m\u001b[1;33m\u001b[0m\u001b[0m\n\u001b[0m\u001b[0;32m     44\u001b[0m             )\n\u001b[0;32m     45\u001b[0m     \u001b[1;32mfinally\u001b[0m\u001b[1;33m:\u001b[0m\u001b[1;33m\u001b[0m\u001b[1;33m\u001b[0m\u001b[0m\n",
      "\u001b[1;32m~\\anaconda3\\lib\\site-packages\\IPython\\core\\display.py\u001b[0m in \u001b[0;36mdisplay\u001b[1;34m(include, exclude, metadata, transient, display_id, *objs, **kwargs)\u001b[0m\n\u001b[0;32m    311\u001b[0m             \u001b[0mpublish_display_data\u001b[0m\u001b[1;33m(\u001b[0m\u001b[0mdata\u001b[0m\u001b[1;33m=\u001b[0m\u001b[0mobj\u001b[0m\u001b[1;33m,\u001b[0m \u001b[0mmetadata\u001b[0m\u001b[1;33m=\u001b[0m\u001b[0mmetadata\u001b[0m\u001b[1;33m,\u001b[0m \u001b[1;33m**\u001b[0m\u001b[0mkwargs\u001b[0m\u001b[1;33m)\u001b[0m\u001b[1;33m\u001b[0m\u001b[1;33m\u001b[0m\u001b[0m\n\u001b[0;32m    312\u001b[0m         \u001b[1;32melse\u001b[0m\u001b[1;33m:\u001b[0m\u001b[1;33m\u001b[0m\u001b[1;33m\u001b[0m\u001b[0m\n\u001b[1;32m--> 313\u001b[1;33m             \u001b[0mformat_dict\u001b[0m\u001b[1;33m,\u001b[0m \u001b[0mmd_dict\u001b[0m \u001b[1;33m=\u001b[0m \u001b[0mformat\u001b[0m\u001b[1;33m(\u001b[0m\u001b[0mobj\u001b[0m\u001b[1;33m,\u001b[0m \u001b[0minclude\u001b[0m\u001b[1;33m=\u001b[0m\u001b[0minclude\u001b[0m\u001b[1;33m,\u001b[0m \u001b[0mexclude\u001b[0m\u001b[1;33m=\u001b[0m\u001b[0mexclude\u001b[0m\u001b[1;33m)\u001b[0m\u001b[1;33m\u001b[0m\u001b[1;33m\u001b[0m\u001b[0m\n\u001b[0m\u001b[0;32m    314\u001b[0m             \u001b[1;32mif\u001b[0m \u001b[1;32mnot\u001b[0m \u001b[0mformat_dict\u001b[0m\u001b[1;33m:\u001b[0m\u001b[1;33m\u001b[0m\u001b[1;33m\u001b[0m\u001b[0m\n\u001b[0;32m    315\u001b[0m                 \u001b[1;31m# nothing to display (e.g. _ipython_display_ took over)\u001b[0m\u001b[1;33m\u001b[0m\u001b[1;33m\u001b[0m\u001b[1;33m\u001b[0m\u001b[0m\n",
      "\u001b[1;32m~\\anaconda3\\lib\\site-packages\\IPython\\core\\formatters.py\u001b[0m in \u001b[0;36mformat\u001b[1;34m(self, obj, include, exclude)\u001b[0m\n\u001b[0;32m    178\u001b[0m             \u001b[0mmd\u001b[0m \u001b[1;33m=\u001b[0m \u001b[1;32mNone\u001b[0m\u001b[1;33m\u001b[0m\u001b[1;33m\u001b[0m\u001b[0m\n\u001b[0;32m    179\u001b[0m             \u001b[1;32mtry\u001b[0m\u001b[1;33m:\u001b[0m\u001b[1;33m\u001b[0m\u001b[1;33m\u001b[0m\u001b[0m\n\u001b[1;32m--> 180\u001b[1;33m                 \u001b[0mdata\u001b[0m \u001b[1;33m=\u001b[0m \u001b[0mformatter\u001b[0m\u001b[1;33m(\u001b[0m\u001b[0mobj\u001b[0m\u001b[1;33m)\u001b[0m\u001b[1;33m\u001b[0m\u001b[1;33m\u001b[0m\u001b[0m\n\u001b[0m\u001b[0;32m    181\u001b[0m             \u001b[1;32mexcept\u001b[0m\u001b[1;33m:\u001b[0m\u001b[1;33m\u001b[0m\u001b[1;33m\u001b[0m\u001b[0m\n\u001b[0;32m    182\u001b[0m                 \u001b[1;31m# FIXME: log the exception\u001b[0m\u001b[1;33m\u001b[0m\u001b[1;33m\u001b[0m\u001b[1;33m\u001b[0m\u001b[0m\n",
      "\u001b[1;32m<C:\\Users\\12014\\anaconda3\\lib\\site-packages\\decorator.py:decorator-gen-9>\u001b[0m in \u001b[0;36m__call__\u001b[1;34m(self, obj)\u001b[0m\n",
      "\u001b[1;32m~\\anaconda3\\lib\\site-packages\\IPython\\core\\formatters.py\u001b[0m in \u001b[0;36mcatch_format_error\u001b[1;34m(method, self, *args, **kwargs)\u001b[0m\n\u001b[0;32m    222\u001b[0m     \u001b[1;34m\"\"\"show traceback on failed format call\"\"\"\u001b[0m\u001b[1;33m\u001b[0m\u001b[1;33m\u001b[0m\u001b[0m\n\u001b[0;32m    223\u001b[0m     \u001b[1;32mtry\u001b[0m\u001b[1;33m:\u001b[0m\u001b[1;33m\u001b[0m\u001b[1;33m\u001b[0m\u001b[0m\n\u001b[1;32m--> 224\u001b[1;33m         \u001b[0mr\u001b[0m \u001b[1;33m=\u001b[0m \u001b[0mmethod\u001b[0m\u001b[1;33m(\u001b[0m\u001b[0mself\u001b[0m\u001b[1;33m,\u001b[0m \u001b[1;33m*\u001b[0m\u001b[0margs\u001b[0m\u001b[1;33m,\u001b[0m \u001b[1;33m**\u001b[0m\u001b[0mkwargs\u001b[0m\u001b[1;33m)\u001b[0m\u001b[1;33m\u001b[0m\u001b[1;33m\u001b[0m\u001b[0m\n\u001b[0m\u001b[0;32m    225\u001b[0m     \u001b[1;32mexcept\u001b[0m \u001b[0mNotImplementedError\u001b[0m\u001b[1;33m:\u001b[0m\u001b[1;33m\u001b[0m\u001b[1;33m\u001b[0m\u001b[0m\n\u001b[0;32m    226\u001b[0m         \u001b[1;31m# don't warn on NotImplementedErrors\u001b[0m\u001b[1;33m\u001b[0m\u001b[1;33m\u001b[0m\u001b[1;33m\u001b[0m\u001b[0m\n",
      "\u001b[1;32m~\\anaconda3\\lib\\site-packages\\IPython\\core\\formatters.py\u001b[0m in \u001b[0;36m__call__\u001b[1;34m(self, obj)\u001b[0m\n\u001b[0;32m    339\u001b[0m                 \u001b[1;32mpass\u001b[0m\u001b[1;33m\u001b[0m\u001b[1;33m\u001b[0m\u001b[0m\n\u001b[0;32m    340\u001b[0m             \u001b[1;32melse\u001b[0m\u001b[1;33m:\u001b[0m\u001b[1;33m\u001b[0m\u001b[1;33m\u001b[0m\u001b[0m\n\u001b[1;32m--> 341\u001b[1;33m                 \u001b[1;32mreturn\u001b[0m \u001b[0mprinter\u001b[0m\u001b[1;33m(\u001b[0m\u001b[0mobj\u001b[0m\u001b[1;33m)\u001b[0m\u001b[1;33m\u001b[0m\u001b[1;33m\u001b[0m\u001b[0m\n\u001b[0m\u001b[0;32m    342\u001b[0m             \u001b[1;31m# Finally look for special method names\u001b[0m\u001b[1;33m\u001b[0m\u001b[1;33m\u001b[0m\u001b[1;33m\u001b[0m\u001b[0m\n\u001b[0;32m    343\u001b[0m             \u001b[0mmethod\u001b[0m \u001b[1;33m=\u001b[0m \u001b[0mget_real_method\u001b[0m\u001b[1;33m(\u001b[0m\u001b[0mobj\u001b[0m\u001b[1;33m,\u001b[0m \u001b[0mself\u001b[0m\u001b[1;33m.\u001b[0m\u001b[0mprint_method\u001b[0m\u001b[1;33m)\u001b[0m\u001b[1;33m\u001b[0m\u001b[1;33m\u001b[0m\u001b[0m\n",
      "\u001b[1;32m~\\anaconda3\\lib\\site-packages\\IPython\\core\\pylabtools.py\u001b[0m in \u001b[0;36m<lambda>\u001b[1;34m(fig)\u001b[0m\n\u001b[0;32m    246\u001b[0m \u001b[1;33m\u001b[0m\u001b[0m\n\u001b[0;32m    247\u001b[0m     \u001b[1;32mif\u001b[0m \u001b[1;34m'png'\u001b[0m \u001b[1;32min\u001b[0m \u001b[0mformats\u001b[0m\u001b[1;33m:\u001b[0m\u001b[1;33m\u001b[0m\u001b[1;33m\u001b[0m\u001b[0m\n\u001b[1;32m--> 248\u001b[1;33m         \u001b[0mpng_formatter\u001b[0m\u001b[1;33m.\u001b[0m\u001b[0mfor_type\u001b[0m\u001b[1;33m(\u001b[0m\u001b[0mFigure\u001b[0m\u001b[1;33m,\u001b[0m \u001b[1;32mlambda\u001b[0m \u001b[0mfig\u001b[0m\u001b[1;33m:\u001b[0m \u001b[0mprint_figure\u001b[0m\u001b[1;33m(\u001b[0m\u001b[0mfig\u001b[0m\u001b[1;33m,\u001b[0m \u001b[1;34m'png'\u001b[0m\u001b[1;33m,\u001b[0m \u001b[1;33m**\u001b[0m\u001b[0mkwargs\u001b[0m\u001b[1;33m)\u001b[0m\u001b[1;33m)\u001b[0m\u001b[1;33m\u001b[0m\u001b[1;33m\u001b[0m\u001b[0m\n\u001b[0m\u001b[0;32m    249\u001b[0m     \u001b[1;32mif\u001b[0m \u001b[1;34m'retina'\u001b[0m \u001b[1;32min\u001b[0m \u001b[0mformats\u001b[0m \u001b[1;32mor\u001b[0m \u001b[1;34m'png2x'\u001b[0m \u001b[1;32min\u001b[0m \u001b[0mformats\u001b[0m\u001b[1;33m:\u001b[0m\u001b[1;33m\u001b[0m\u001b[1;33m\u001b[0m\u001b[0m\n\u001b[0;32m    250\u001b[0m         \u001b[0mpng_formatter\u001b[0m\u001b[1;33m.\u001b[0m\u001b[0mfor_type\u001b[0m\u001b[1;33m(\u001b[0m\u001b[0mFigure\u001b[0m\u001b[1;33m,\u001b[0m \u001b[1;32mlambda\u001b[0m \u001b[0mfig\u001b[0m\u001b[1;33m:\u001b[0m \u001b[0mretina_figure\u001b[0m\u001b[1;33m(\u001b[0m\u001b[0mfig\u001b[0m\u001b[1;33m,\u001b[0m \u001b[1;33m**\u001b[0m\u001b[0mkwargs\u001b[0m\u001b[1;33m)\u001b[0m\u001b[1;33m)\u001b[0m\u001b[1;33m\u001b[0m\u001b[1;33m\u001b[0m\u001b[0m\n",
      "\u001b[1;32m~\\anaconda3\\lib\\site-packages\\IPython\\core\\pylabtools.py\u001b[0m in \u001b[0;36mprint_figure\u001b[1;34m(fig, fmt, bbox_inches, **kwargs)\u001b[0m\n\u001b[0;32m    130\u001b[0m         \u001b[0mFigureCanvasBase\u001b[0m\u001b[1;33m(\u001b[0m\u001b[0mfig\u001b[0m\u001b[1;33m)\u001b[0m\u001b[1;33m\u001b[0m\u001b[1;33m\u001b[0m\u001b[0m\n\u001b[0;32m    131\u001b[0m \u001b[1;33m\u001b[0m\u001b[0m\n\u001b[1;32m--> 132\u001b[1;33m     \u001b[0mfig\u001b[0m\u001b[1;33m.\u001b[0m\u001b[0mcanvas\u001b[0m\u001b[1;33m.\u001b[0m\u001b[0mprint_figure\u001b[0m\u001b[1;33m(\u001b[0m\u001b[0mbytes_io\u001b[0m\u001b[1;33m,\u001b[0m \u001b[1;33m**\u001b[0m\u001b[0mkw\u001b[0m\u001b[1;33m)\u001b[0m\u001b[1;33m\u001b[0m\u001b[1;33m\u001b[0m\u001b[0m\n\u001b[0m\u001b[0;32m    133\u001b[0m     \u001b[0mdata\u001b[0m \u001b[1;33m=\u001b[0m \u001b[0mbytes_io\u001b[0m\u001b[1;33m.\u001b[0m\u001b[0mgetvalue\u001b[0m\u001b[1;33m(\u001b[0m\u001b[1;33m)\u001b[0m\u001b[1;33m\u001b[0m\u001b[1;33m\u001b[0m\u001b[0m\n\u001b[0;32m    134\u001b[0m     \u001b[1;32mif\u001b[0m \u001b[0mfmt\u001b[0m \u001b[1;33m==\u001b[0m \u001b[1;34m'svg'\u001b[0m\u001b[1;33m:\u001b[0m\u001b[1;33m\u001b[0m\u001b[1;33m\u001b[0m\u001b[0m\n",
      "\u001b[1;32m~\\anaconda3\\lib\\site-packages\\matplotlib\\backend_bases.py\u001b[0m in \u001b[0;36mprint_figure\u001b[1;34m(self, filename, dpi, facecolor, edgecolor, orientation, format, bbox_inches, **kwargs)\u001b[0m\n\u001b[0;32m   2067\u001b[0m                     \u001b[0mbbox_artists\u001b[0m \u001b[1;33m=\u001b[0m \u001b[0mkwargs\u001b[0m\u001b[1;33m.\u001b[0m\u001b[0mpop\u001b[0m\u001b[1;33m(\u001b[0m\u001b[1;34m\"bbox_extra_artists\"\u001b[0m\u001b[1;33m,\u001b[0m \u001b[1;32mNone\u001b[0m\u001b[1;33m)\u001b[0m\u001b[1;33m\u001b[0m\u001b[1;33m\u001b[0m\u001b[0m\n\u001b[0;32m   2068\u001b[0m                     bbox_inches = self.figure.get_tightbbox(renderer,\n\u001b[1;32m-> 2069\u001b[1;33m                             bbox_extra_artists=bbox_artists)\n\u001b[0m\u001b[0;32m   2070\u001b[0m                     \u001b[0mpad\u001b[0m \u001b[1;33m=\u001b[0m \u001b[0mkwargs\u001b[0m\u001b[1;33m.\u001b[0m\u001b[0mpop\u001b[0m\u001b[1;33m(\u001b[0m\u001b[1;34m\"pad_inches\"\u001b[0m\u001b[1;33m,\u001b[0m \u001b[1;32mNone\u001b[0m\u001b[1;33m)\u001b[0m\u001b[1;33m\u001b[0m\u001b[1;33m\u001b[0m\u001b[0m\n\u001b[0;32m   2071\u001b[0m                     \u001b[1;32mif\u001b[0m \u001b[0mpad\u001b[0m \u001b[1;32mis\u001b[0m \u001b[1;32mNone\u001b[0m\u001b[1;33m:\u001b[0m\u001b[1;33m\u001b[0m\u001b[1;33m\u001b[0m\u001b[0m\n",
      "\u001b[1;32m~\\anaconda3\\lib\\site-packages\\matplotlib\\figure.py\u001b[0m in \u001b[0;36mget_tightbbox\u001b[1;34m(self, renderer, bbox_extra_artists)\u001b[0m\n\u001b[0;32m   2365\u001b[0m \u001b[1;33m\u001b[0m\u001b[0m\n\u001b[0;32m   2366\u001b[0m         \u001b[1;32mfor\u001b[0m \u001b[0ma\u001b[0m \u001b[1;32min\u001b[0m \u001b[0martists\u001b[0m\u001b[1;33m:\u001b[0m\u001b[1;33m\u001b[0m\u001b[1;33m\u001b[0m\u001b[0m\n\u001b[1;32m-> 2367\u001b[1;33m             \u001b[0mbbox\u001b[0m \u001b[1;33m=\u001b[0m \u001b[0ma\u001b[0m\u001b[1;33m.\u001b[0m\u001b[0mget_tightbbox\u001b[0m\u001b[1;33m(\u001b[0m\u001b[0mrenderer\u001b[0m\u001b[1;33m)\u001b[0m\u001b[1;33m\u001b[0m\u001b[1;33m\u001b[0m\u001b[0m\n\u001b[0m\u001b[0;32m   2368\u001b[0m             \u001b[1;32mif\u001b[0m \u001b[0mbbox\u001b[0m \u001b[1;32mis\u001b[0m \u001b[1;32mnot\u001b[0m \u001b[1;32mNone\u001b[0m \u001b[1;32mand\u001b[0m \u001b[1;33m(\u001b[0m\u001b[0mbbox\u001b[0m\u001b[1;33m.\u001b[0m\u001b[0mwidth\u001b[0m \u001b[1;33m!=\u001b[0m \u001b[1;36m0\u001b[0m \u001b[1;32mor\u001b[0m \u001b[0mbbox\u001b[0m\u001b[1;33m.\u001b[0m\u001b[0mheight\u001b[0m \u001b[1;33m!=\u001b[0m \u001b[1;36m0\u001b[0m\u001b[1;33m)\u001b[0m\u001b[1;33m:\u001b[0m\u001b[1;33m\u001b[0m\u001b[1;33m\u001b[0m\u001b[0m\n\u001b[0;32m   2369\u001b[0m                 \u001b[0mbb\u001b[0m\u001b[1;33m.\u001b[0m\u001b[0mappend\u001b[0m\u001b[1;33m(\u001b[0m\u001b[0mbbox\u001b[0m\u001b[1;33m)\u001b[0m\u001b[1;33m\u001b[0m\u001b[1;33m\u001b[0m\u001b[0m\n",
      "\u001b[1;32m~\\anaconda3\\lib\\site-packages\\matplotlib\\axes\\_base.py\u001b[0m in \u001b[0;36mget_tightbbox\u001b[1;34m(self, renderer, call_axes_locator, bbox_extra_artists)\u001b[0m\n\u001b[0;32m   4393\u001b[0m                     \u001b[1;31m# this artist\u001b[0m\u001b[1;33m\u001b[0m\u001b[1;33m\u001b[0m\u001b[1;33m\u001b[0m\u001b[0m\n\u001b[0;32m   4394\u001b[0m                     \u001b[1;32mcontinue\u001b[0m\u001b[1;33m\u001b[0m\u001b[1;33m\u001b[0m\u001b[0m\n\u001b[1;32m-> 4395\u001b[1;33m             \u001b[0mbbox\u001b[0m \u001b[1;33m=\u001b[0m \u001b[0ma\u001b[0m\u001b[1;33m.\u001b[0m\u001b[0mget_tightbbox\u001b[0m\u001b[1;33m(\u001b[0m\u001b[0mrenderer\u001b[0m\u001b[1;33m)\u001b[0m\u001b[1;33m\u001b[0m\u001b[1;33m\u001b[0m\u001b[0m\n\u001b[0m\u001b[0;32m   4396\u001b[0m             if (bbox is not None\n\u001b[0;32m   4397\u001b[0m                     \u001b[1;32mand\u001b[0m \u001b[1;36m0\u001b[0m \u001b[1;33m<\u001b[0m \u001b[0mbbox\u001b[0m\u001b[1;33m.\u001b[0m\u001b[0mwidth\u001b[0m \u001b[1;33m<\u001b[0m \u001b[0mnp\u001b[0m\u001b[1;33m.\u001b[0m\u001b[0minf\u001b[0m\u001b[1;33m\u001b[0m\u001b[1;33m\u001b[0m\u001b[0m\n",
      "\u001b[1;32m~\\anaconda3\\lib\\site-packages\\matplotlib\\artist.py\u001b[0m in \u001b[0;36mget_tightbbox\u001b[1;34m(self, renderer)\u001b[0m\n\u001b[0;32m    282\u001b[0m             \u001b[0mThe\u001b[0m \u001b[0menclosing\u001b[0m \u001b[0mbounding\u001b[0m \u001b[0mbox\u001b[0m \u001b[1;33m(\u001b[0m\u001b[1;32min\u001b[0m \u001b[0mfigure\u001b[0m \u001b[0mpixel\u001b[0m \u001b[0mco\u001b[0m\u001b[1;33m-\u001b[0m\u001b[0mordinates\u001b[0m\u001b[1;33m)\u001b[0m\u001b[1;33m.\u001b[0m\u001b[1;33m\u001b[0m\u001b[1;33m\u001b[0m\u001b[0m\n\u001b[0;32m    283\u001b[0m         \"\"\"\n\u001b[1;32m--> 284\u001b[1;33m         \u001b[0mbbox\u001b[0m \u001b[1;33m=\u001b[0m \u001b[0mself\u001b[0m\u001b[1;33m.\u001b[0m\u001b[0mget_window_extent\u001b[0m\u001b[1;33m(\u001b[0m\u001b[0mrenderer\u001b[0m\u001b[1;33m)\u001b[0m\u001b[1;33m\u001b[0m\u001b[1;33m\u001b[0m\u001b[0m\n\u001b[0m\u001b[0;32m    285\u001b[0m         \u001b[1;32mif\u001b[0m \u001b[0mself\u001b[0m\u001b[1;33m.\u001b[0m\u001b[0mget_clip_on\u001b[0m\u001b[1;33m(\u001b[0m\u001b[1;33m)\u001b[0m\u001b[1;33m:\u001b[0m\u001b[1;33m\u001b[0m\u001b[1;33m\u001b[0m\u001b[0m\n\u001b[0;32m    286\u001b[0m             \u001b[0mclip_box\u001b[0m \u001b[1;33m=\u001b[0m \u001b[0mself\u001b[0m\u001b[1;33m.\u001b[0m\u001b[0mget_clip_box\u001b[0m\u001b[1;33m(\u001b[0m\u001b[1;33m)\u001b[0m\u001b[1;33m\u001b[0m\u001b[1;33m\u001b[0m\u001b[0m\n",
      "\u001b[1;32m~\\anaconda3\\lib\\site-packages\\matplotlib\\text.py\u001b[0m in \u001b[0;36mget_window_extent\u001b[1;34m(self, renderer)\u001b[0m\n\u001b[0;32m   2393\u001b[0m             \u001b[1;32mraise\u001b[0m \u001b[0mRuntimeError\u001b[0m\u001b[1;33m(\u001b[0m\u001b[1;34m'Cannot get window extent w/o renderer'\u001b[0m\u001b[1;33m)\u001b[0m\u001b[1;33m\u001b[0m\u001b[1;33m\u001b[0m\u001b[0m\n\u001b[0;32m   2394\u001b[0m \u001b[1;33m\u001b[0m\u001b[0m\n\u001b[1;32m-> 2395\u001b[1;33m         \u001b[0mself\u001b[0m\u001b[1;33m.\u001b[0m\u001b[0mupdate_positions\u001b[0m\u001b[1;33m(\u001b[0m\u001b[0mself\u001b[0m\u001b[1;33m.\u001b[0m\u001b[0m_renderer\u001b[0m\u001b[1;33m)\u001b[0m\u001b[1;33m\u001b[0m\u001b[1;33m\u001b[0m\u001b[0m\n\u001b[0m\u001b[0;32m   2396\u001b[0m \u001b[1;33m\u001b[0m\u001b[0m\n\u001b[0;32m   2397\u001b[0m         \u001b[0mtext_bbox\u001b[0m \u001b[1;33m=\u001b[0m \u001b[0mText\u001b[0m\u001b[1;33m.\u001b[0m\u001b[0mget_window_extent\u001b[0m\u001b[1;33m(\u001b[0m\u001b[0mself\u001b[0m\u001b[1;33m)\u001b[0m\u001b[1;33m\u001b[0m\u001b[1;33m\u001b[0m\u001b[0m\n",
      "\u001b[1;32m~\\anaconda3\\lib\\site-packages\\matplotlib\\text.py\u001b[0m in \u001b[0;36mupdate_positions\u001b[1;34m(self, renderer)\u001b[0m\n\u001b[0;32m   2238\u001b[0m     \u001b[1;32mdef\u001b[0m \u001b[0mupdate_positions\u001b[0m\u001b[1;33m(\u001b[0m\u001b[0mself\u001b[0m\u001b[1;33m,\u001b[0m \u001b[0mrenderer\u001b[0m\u001b[1;33m)\u001b[0m\u001b[1;33m:\u001b[0m\u001b[1;33m\u001b[0m\u001b[1;33m\u001b[0m\u001b[0m\n\u001b[0;32m   2239\u001b[0m         \u001b[1;34m\"\"\"Update the pixel positions of the annotated point and the text.\"\"\"\u001b[0m\u001b[1;33m\u001b[0m\u001b[1;33m\u001b[0m\u001b[0m\n\u001b[1;32m-> 2240\u001b[1;33m         \u001b[0mxy_pixel\u001b[0m \u001b[1;33m=\u001b[0m \u001b[0mself\u001b[0m\u001b[1;33m.\u001b[0m\u001b[0m_get_position_xy\u001b[0m\u001b[1;33m(\u001b[0m\u001b[0mrenderer\u001b[0m\u001b[1;33m)\u001b[0m\u001b[1;33m\u001b[0m\u001b[1;33m\u001b[0m\u001b[0m\n\u001b[0m\u001b[0;32m   2241\u001b[0m         \u001b[0mself\u001b[0m\u001b[1;33m.\u001b[0m\u001b[0m_update_position_xytext\u001b[0m\u001b[1;33m(\u001b[0m\u001b[0mrenderer\u001b[0m\u001b[1;33m,\u001b[0m \u001b[0mxy_pixel\u001b[0m\u001b[1;33m)\u001b[0m\u001b[1;33m\u001b[0m\u001b[1;33m\u001b[0m\u001b[0m\n\u001b[0;32m   2242\u001b[0m \u001b[1;33m\u001b[0m\u001b[0m\n",
      "\u001b[1;32m~\\anaconda3\\lib\\site-packages\\matplotlib\\text.py\u001b[0m in \u001b[0;36m_get_position_xy\u001b[1;34m(self, renderer)\u001b[0m\n\u001b[0;32m   1903\u001b[0m         \u001b[1;34m\"Return the pixel position of the annotated point.\"\u001b[0m\u001b[1;33m\u001b[0m\u001b[1;33m\u001b[0m\u001b[0m\n\u001b[0;32m   1904\u001b[0m         \u001b[0mx\u001b[0m\u001b[1;33m,\u001b[0m \u001b[0my\u001b[0m \u001b[1;33m=\u001b[0m \u001b[0mself\u001b[0m\u001b[1;33m.\u001b[0m\u001b[0mxy\u001b[0m\u001b[1;33m\u001b[0m\u001b[1;33m\u001b[0m\u001b[0m\n\u001b[1;32m-> 1905\u001b[1;33m         \u001b[1;32mreturn\u001b[0m \u001b[0mself\u001b[0m\u001b[1;33m.\u001b[0m\u001b[0m_get_xy\u001b[0m\u001b[1;33m(\u001b[0m\u001b[0mrenderer\u001b[0m\u001b[1;33m,\u001b[0m \u001b[0mx\u001b[0m\u001b[1;33m,\u001b[0m \u001b[0my\u001b[0m\u001b[1;33m,\u001b[0m \u001b[0mself\u001b[0m\u001b[1;33m.\u001b[0m\u001b[0mxycoords\u001b[0m\u001b[1;33m)\u001b[0m\u001b[1;33m\u001b[0m\u001b[1;33m\u001b[0m\u001b[0m\n\u001b[0m\u001b[0;32m   1906\u001b[0m \u001b[1;33m\u001b[0m\u001b[0m\n\u001b[0;32m   1907\u001b[0m     \u001b[1;32mdef\u001b[0m \u001b[0m_check_xy\u001b[0m\u001b[1;33m(\u001b[0m\u001b[0mself\u001b[0m\u001b[1;33m,\u001b[0m \u001b[0mrenderer\u001b[0m\u001b[1;33m,\u001b[0m \u001b[0mxy_pixel\u001b[0m\u001b[1;33m)\u001b[0m\u001b[1;33m:\u001b[0m\u001b[1;33m\u001b[0m\u001b[1;33m\u001b[0m\u001b[0m\n",
      "\u001b[1;32m~\\anaconda3\\lib\\site-packages\\matplotlib\\text.py\u001b[0m in \u001b[0;36m_get_xy\u001b[1;34m(self, renderer, x, y, s)\u001b[0m\n\u001b[0;32m   1761\u001b[0m             \u001b[0my\u001b[0m \u001b[1;33m=\u001b[0m \u001b[0mfloat\u001b[0m\u001b[1;33m(\u001b[0m\u001b[0mself\u001b[0m\u001b[1;33m.\u001b[0m\u001b[0mconvert_yunits\u001b[0m\u001b[1;33m(\u001b[0m\u001b[0my\u001b[0m\u001b[1;33m)\u001b[0m\u001b[1;33m)\u001b[0m\u001b[1;33m\u001b[0m\u001b[1;33m\u001b[0m\u001b[0m\n\u001b[0;32m   1762\u001b[0m \u001b[1;33m\u001b[0m\u001b[0m\n\u001b[1;32m-> 1763\u001b[1;33m         \u001b[0mtr\u001b[0m \u001b[1;33m=\u001b[0m \u001b[0mself\u001b[0m\u001b[1;33m.\u001b[0m\u001b[0m_get_xy_transform\u001b[0m\u001b[1;33m(\u001b[0m\u001b[0mrenderer\u001b[0m\u001b[1;33m,\u001b[0m \u001b[0ms\u001b[0m\u001b[1;33m)\u001b[0m\u001b[1;33m\u001b[0m\u001b[1;33m\u001b[0m\u001b[0m\n\u001b[0m\u001b[0;32m   1764\u001b[0m         \u001b[0mx1\u001b[0m\u001b[1;33m,\u001b[0m \u001b[0my1\u001b[0m \u001b[1;33m=\u001b[0m \u001b[0mtr\u001b[0m\u001b[1;33m.\u001b[0m\u001b[0mtransform_point\u001b[0m\u001b[1;33m(\u001b[0m\u001b[1;33m(\u001b[0m\u001b[0mx\u001b[0m\u001b[1;33m,\u001b[0m \u001b[0my\u001b[0m\u001b[1;33m)\u001b[0m\u001b[1;33m)\u001b[0m\u001b[1;33m\u001b[0m\u001b[1;33m\u001b[0m\u001b[0m\n\u001b[0;32m   1765\u001b[0m         \u001b[1;32mreturn\u001b[0m \u001b[0mx1\u001b[0m\u001b[1;33m,\u001b[0m \u001b[0my1\u001b[0m\u001b[1;33m\u001b[0m\u001b[1;33m\u001b[0m\u001b[0m\n",
      "\u001b[1;32m~\\anaconda3\\lib\\site-packages\\matplotlib\\text.py\u001b[0m in \u001b[0;36m_get_xy_transform\u001b[1;34m(self, renderer, s)\u001b[0m\n\u001b[0;32m   1843\u001b[0m                 \u001b[1;32mraise\u001b[0m \u001b[0mValueError\u001b[0m\u001b[1;33m(\u001b[0m\u001b[1;34m\"%s is not a recognized coordinate\"\u001b[0m \u001b[1;33m%\u001b[0m \u001b[0ms\u001b[0m\u001b[1;33m)\u001b[0m\u001b[1;33m\u001b[0m\u001b[1;33m\u001b[0m\u001b[0m\n\u001b[0;32m   1844\u001b[0m \u001b[1;33m\u001b[0m\u001b[0m\n\u001b[1;32m-> 1845\u001b[1;33m             \u001b[1;32mreturn\u001b[0m \u001b[0mtr\u001b[0m\u001b[1;33m.\u001b[0m\u001b[0mtranslate\u001b[0m\u001b[1;33m(\u001b[0m\u001b[0mref_x\u001b[0m\u001b[1;33m,\u001b[0m \u001b[0mref_y\u001b[0m\u001b[1;33m)\u001b[0m\u001b[1;33m\u001b[0m\u001b[1;33m\u001b[0m\u001b[0m\n\u001b[0m\u001b[0;32m   1846\u001b[0m \u001b[1;33m\u001b[0m\u001b[0m\n\u001b[0;32m   1847\u001b[0m         \u001b[1;32melse\u001b[0m\u001b[1;33m:\u001b[0m\u001b[1;33m\u001b[0m\u001b[1;33m\u001b[0m\u001b[0m\n",
      "\u001b[1;32m~\\anaconda3\\lib\\site-packages\\matplotlib\\transforms.py\u001b[0m in \u001b[0;36mtranslate\u001b[1;34m(self, tx, ty)\u001b[0m\n\u001b[0;32m   1970\u001b[0m         translate_mtx = np.array(\n\u001b[0;32m   1971\u001b[0m             [[1.0, 0.0, tx], [0.0, 1.0, ty], [0.0, 0.0, 1.0]], float)\n\u001b[1;32m-> 1972\u001b[1;33m         \u001b[0mself\u001b[0m\u001b[1;33m.\u001b[0m\u001b[0m_mtx\u001b[0m \u001b[1;33m=\u001b[0m \u001b[0mnp\u001b[0m\u001b[1;33m.\u001b[0m\u001b[0mdot\u001b[0m\u001b[1;33m(\u001b[0m\u001b[0mtranslate_mtx\u001b[0m\u001b[1;33m,\u001b[0m \u001b[0mself\u001b[0m\u001b[1;33m.\u001b[0m\u001b[0m_mtx\u001b[0m\u001b[1;33m)\u001b[0m\u001b[1;33m\u001b[0m\u001b[1;33m\u001b[0m\u001b[0m\n\u001b[0m\u001b[0;32m   1973\u001b[0m         \u001b[0mself\u001b[0m\u001b[1;33m.\u001b[0m\u001b[0minvalidate\u001b[0m\u001b[1;33m(\u001b[0m\u001b[1;33m)\u001b[0m\u001b[1;33m\u001b[0m\u001b[1;33m\u001b[0m\u001b[0m\n\u001b[0;32m   1974\u001b[0m         \u001b[1;32mreturn\u001b[0m \u001b[0mself\u001b[0m\u001b[1;33m\u001b[0m\u001b[1;33m\u001b[0m\u001b[0m\n",
      "\u001b[1;32m<__array_function__ internals>\u001b[0m in \u001b[0;36mdot\u001b[1;34m(*args, **kwargs)\u001b[0m\n",
      "\u001b[1;31mKeyboardInterrupt\u001b[0m: "
     ]
    }
   ],
   "source": [
    "plt.figure(figsize=(16,8))\n",
    "\n",
    "plot_tree(clf_dt, filled = True, rounded = True, class_names = ['1','2','3','4','5'])\n",
    "    "
   ]
  },
  {
   "cell_type": "code",
   "execution_count": 18,
   "metadata": {},
   "outputs": [],
   "source": [
    "X_test_dt, y_test_dt = bow_tf_idf[1189697:,] , y_rating[1189697:]"
   ]
  },
  {
   "cell_type": "code",
   "execution_count": 20,
   "metadata": {},
   "outputs": [],
   "source": [
    "pred_dt = clf_dt.predict(X_test_dt)"
   ]
  },
  {
   "cell_type": "code",
   "execution_count": 22,
   "metadata": {},
   "outputs": [
    {
     "name": "stdout",
     "output_type": "stream",
     "text": [
      "[[ 188  100   88   60   41]\n",
      " [  38   39   26   28   18]\n",
      " [  36   48   48   53   34]\n",
      " [  62   73  111  132  128]\n",
      " [ 318  494  621  934 1282]]\n"
     ]
    }
   ],
   "source": [
    "print(confusion_matrix(y_test_df, pred_dt))"
   ]
  },
  {
   "cell_type": "code",
   "execution_count": 23,
   "metadata": {},
   "outputs": [
    {
     "name": "stdout",
     "output_type": "stream",
     "text": [
      "              precision    recall  f1-score   support\n",
      "\n",
      "           1       0.29      0.39      0.34       477\n",
      "           2       0.05      0.26      0.09       149\n",
      "           3       0.05      0.22      0.09       219\n",
      "           4       0.11      0.26      0.15       506\n",
      "           5       0.85      0.35      0.50      3649\n",
      "\n",
      "    accuracy                           0.34      5000\n",
      "   macro avg       0.27      0.30      0.23      5000\n",
      "weighted avg       0.67      0.34      0.42      5000\n",
      "\n"
     ]
    }
   ],
   "source": [
    "print(classification_report(y_test_dt, pred_dt))"
   ]
  },
  {
   "cell_type": "code",
   "execution_count": 10,
   "metadata": {},
   "outputs": [],
   "source": [
    "from sklearn.model_selection import RandomizedSearchCV "
   ]
  },
  {
   "cell_type": "code",
   "execution_count": 67,
   "metadata": {},
   "outputs": [],
   "source": [
    "# Creating the hyperparameter grid  \n",
    "param_dist = {\"max_depth\":[i for i in range(500,1000,5) ]} "
   ]
  },
  {
   "cell_type": "code",
   "execution_count": 68,
   "metadata": {},
   "outputs": [],
   "source": [
    "tree = DecisionTreeClassifier() "
   ]
  },
  {
   "cell_type": "code",
   "execution_count": null,
   "metadata": {},
   "outputs": [],
   "source": [
    "tree_cv = RandomizedSearchCV(tree, param_dist, cv = 5) \n",
    "  \n",
    "tree_cv.fit(X_resampled,y_resampled) \n",
    "  \n",
    "# Print the tuned parameters and score \n",
    "print(\"Tuned Decision Tree Parameters: {}\".format(tree_cv.best_params_)) \n",
    "print(\"Best score is {}\".format(tree_cv.best_score_)) "
   ]
  },
  {
   "cell_type": "code",
   "execution_count": 19,
   "metadata": {},
   "outputs": [],
   "source": [
    "# Creating the hyperparameter grid  \n",
    "param_dist = {\"max_depth\":[80, 90, 110, 150],\"min_samples_split\":[100, 1000,1500]} "
   ]
  },
  {
   "cell_type": "code",
   "execution_count": 20,
   "metadata": {},
   "outputs": [],
   "source": [
    "tree = DecisionTreeClassifier() "
   ]
  },
  {
   "cell_type": "code",
   "execution_count": 21,
   "metadata": {},
   "outputs": [
    {
     "name": "stderr",
     "output_type": "stream",
     "text": [
      "C:\\Users\\12014\\anaconda3\\lib\\site-packages\\sklearn\\model_selection\\_search.py:282: UserWarning: The total space of parameters 12 is smaller than n_iter=50. Running 12 iterations. For exhaustive searches, use GridSearchCV.\n",
      "  % (grid_size, self.n_iter, grid_size), UserWarning)\n"
     ]
    },
    {
     "name": "stdout",
     "output_type": "stream",
     "text": [
      "Tuned Decision Tree Parameters: {'min_samples_split': 1000, 'max_depth': 150}\n",
      "Best score is 0.3743153731804803\n"
     ]
    }
   ],
   "source": [
    "tree_cv = RandomizedSearchCV(tree, param_dist, cv = 3, n_iter=50) \n",
    "  \n",
    "tree_cv.fit(X_resampled,y_resampled) \n",
    "  \n",
    "# Print the tuned parameters and score \n",
    "print(\"Tuned Decision Tree Parameters: {}\".format(tree_cv.best_params_)) \n",
    "print(\"Best score is {}\".format(tree_cv.best_score_)) "
   ]
  }
 ],
 "metadata": {
  "kernelspec": {
   "display_name": "Python 3",
   "language": "python",
   "name": "python3"
  },
  "language_info": {
   "codemirror_mode": {
    "name": "ipython",
    "version": 3
   },
   "file_extension": ".py",
   "mimetype": "text/x-python",
   "name": "python",
   "nbconvert_exporter": "python",
   "pygments_lexer": "ipython3",
   "version": "3.7.6"
  }
 },
 "nbformat": 4,
 "nbformat_minor": 4
}
