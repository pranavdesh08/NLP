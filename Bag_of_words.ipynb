{
 "cells": [
  {
   "cell_type": "markdown",
   "metadata": {
    "id": "N09t4Qp1e6W7"
   },
   "source": [
    "# In this notebook we will start with the basic method of SENTIMENT ANALYSIS.\n",
    "\n",
    "\n",
    "# Problem statement: Given a customer review can we predict the rating of the review (1-5). 1 being negative and 5 being positive.\n",
    "\n",
    "# We will try using bag of words model for this experiment and traditional ML algorithms to predict the outcome."
   ]
  },
  {
   "cell_type": "code",
   "execution_count": 1,
   "metadata": {
    "colab": {
     "base_uri": "https://localhost:8080/",
     "height": 107
    },
    "executionInfo": {
     "elapsed": 2388,
     "status": "ok",
     "timestamp": 1602625118136,
     "user": {
      "displayName": "Pranav Deshpande",
      "photoUrl": "https://lh3.googleusercontent.com/a-/AOh14GhU62O7exDxFHw20Fsk_Ni5RjtNAKe2_mxZ_yspkw=s64",
      "userId": "04904807045154906402"
     },
     "user_tz": 240
    },
    "id": "KhrWRivLe6W9",
    "outputId": "2c89fafb-4c5b-4eb3-a352-161f43900967"
   },
   "outputs": [],
   "source": [
    "import pandas as pd\n",
    "import numpy as np\n",
    "import nltk\n",
    "import re # regex lib for cleaning\n",
    "from nltk.corpus import stopwords # list of stopwords\n",
    "from nltk.stem import WordNetLemmatizer # for lemmatizing (years to year)\n",
    "from sklearn.feature_extraction.text import CountVectorizer\n",
    "from sklearn.naive_bayes import MultinomialNB\n",
    "from sklearn.model_selection import train_test_split\n",
    "from imblearn.under_sampling import RandomUnderSampler #undersampling\n",
    "from sklearn.metrics import confusion_matrix # Confusion matrix\n",
    "from sklearn.metrics import classification_report # precision, recall, f1\n",
    "\n",
    "%matplotlib inline \n",
    "import matplotlib.pyplot as plt\n",
    "import matplotlib as mpl\n",
    "mpl.style.use(['ggplot'])"
   ]
  },
  {
   "cell_type": "code",
   "execution_count": 2,
   "metadata": {
    "colab": {
     "base_uri": "https://localhost:8080/",
     "height": 35
    },
    "executionInfo": {
     "elapsed": 902,
     "status": "ok",
     "timestamp": 1602625121756,
     "user": {
      "displayName": "Pranav Deshpande",
      "photoUrl": "https://lh3.googleusercontent.com/a-/AOh14GhU62O7exDxFHw20Fsk_Ni5RjtNAKe2_mxZ_yspkw=s64",
      "userId": "04904807045154906402"
     },
     "user_tz": 240
    },
    "id": "2YVgGhfkhAER",
    "outputId": "00f3bfa7-c7bf-4190-f865-ad61af5ea2f2"
   },
   "outputs": [
    {
     "name": "stdout",
     "output_type": "stream",
     "text": [
      "Drive already mounted at /content/drive; to attempt to forcibly remount, call drive.mount(\"/content/drive\", force_remount=True).\n"
     ]
    }
   ],
   "source": [
    "from google.colab import drive\n",
    "drive.mount('/content/drive')"
   ]
  },
  {
   "cell_type": "code",
   "execution_count": 4,
   "metadata": {
    "colab": {
     "base_uri": "https://localhost:8080/",
     "height": 202
    },
    "executionInfo": {
     "elapsed": 5068,
     "status": "ok",
     "timestamp": 1602625128163,
     "user": {
      "displayName": "Pranav Deshpande",
      "photoUrl": "https://lh3.googleusercontent.com/a-/AOh14GhU62O7exDxFHw20Fsk_Ni5RjtNAKe2_mxZ_yspkw=s64",
      "userId": "04904807045154906402"
     },
     "user_tz": 240
    },
    "id": "KNSsFSa0e6XE",
    "outputId": "fb56ad3d-fd4c-4182-f98c-3f82a4a3e0ef"
   },
   "outputs": [
    {
     "data": {
      "text/html": [
       "<div>\n",
       "<style scoped>\n",
       "    .dataframe tbody tr th:only-of-type {\n",
       "        vertical-align: middle;\n",
       "    }\n",
       "\n",
       "    .dataframe tbody tr th {\n",
       "        vertical-align: top;\n",
       "    }\n",
       "\n",
       "    .dataframe thead th {\n",
       "        text-align: right;\n",
       "    }\n",
       "</style>\n",
       "<table border=\"1\" class=\"dataframe\">\n",
       "  <thead>\n",
       "    <tr style=\"text-align: right;\">\n",
       "      <th></th>\n",
       "      <th>cleaned_reviews</th>\n",
       "      <th>rating</th>\n",
       "      <th>review_length_10</th>\n",
       "    </tr>\n",
       "  </thead>\n",
       "  <tbody>\n",
       "    <tr>\n",
       "      <th>0</th>\n",
       "      <td>excellent</td>\n",
       "      <td>5</td>\n",
       "      <td>excellent</td>\n",
       "    </tr>\n",
       "    <tr>\n",
       "      <th>1</th>\n",
       "      <td>dog become healthy thank</td>\n",
       "      <td>5</td>\n",
       "      <td>dog become healthy thank</td>\n",
       "    </tr>\n",
       "    <tr>\n",
       "      <th>2</th>\n",
       "      <td>quality service everyone happy</td>\n",
       "      <td>5</td>\n",
       "      <td>quality service everyone happy</td>\n",
       "    </tr>\n",
       "    <tr>\n",
       "      <th>3</th>\n",
       "      <td>went top dog raw food morning first time amazi...</td>\n",
       "      <td>5</td>\n",
       "      <td>went top dog raw food morning first time amazi...</td>\n",
       "    </tr>\n",
       "    <tr>\n",
       "      <th>4</th>\n",
       "      <td>very stylish site enough information make choi...</td>\n",
       "      <td>5</td>\n",
       "      <td>very stylish site enough information make choi...</td>\n",
       "    </tr>\n",
       "  </tbody>\n",
       "</table>\n",
       "</div>"
      ],
      "text/plain": [
       "                                     cleaned_reviews  rating  \\\n",
       "0                                          excellent       5   \n",
       "1                           dog become healthy thank       5   \n",
       "2                     quality service everyone happy       5   \n",
       "3  went top dog raw food morning first time amazi...       5   \n",
       "4  very stylish site enough information make choi...       5   \n",
       "\n",
       "                                    review_length_10  \n",
       "0                                          excellent  \n",
       "1                           dog become healthy thank  \n",
       "2                     quality service everyone happy  \n",
       "3  went top dog raw food morning first time amazi...  \n",
       "4  very stylish site enough information make choi...  "
      ]
     },
     "execution_count": 4,
     "metadata": {},
     "output_type": "execute_result"
    }
   ],
   "source": [
    "df = pd.read_csv('cleaned_reviews.csv')\n",
    "df.head()"
   ]
  },
  {
   "cell_type": "markdown",
   "metadata": {
    "id": "YOcKmFqke6X_"
   },
   "source": [
    "# Creating Bag of words model.\n",
    "\n",
    "## Limiting the no. features to 500. It is expensive to create features using bag of words that treats each new word as a feature."
   ]
  },
  {
   "cell_type": "code",
   "execution_count": 8,
   "metadata": {
    "executionInfo": {
     "elapsed": 1007,
     "status": "ok",
     "timestamp": 1602609249369,
     "user": {
      "displayName": "Pranav Deshpande",
      "photoUrl": "https://lh3.googleusercontent.com/a-/AOh14GhU62O7exDxFHw20Fsk_Ni5RjtNAKe2_mxZ_yspkw=s64",
      "userId": "04904807045154906402"
     },
     "user_tz": 240
    },
    "id": "wluXmFrle6YA"
   },
   "outputs": [],
   "source": [
    "Cnt_vec = CountVectorizer(max_features=500)"
   ]
  },
  {
   "cell_type": "markdown",
   "metadata": {
    "id": "5thI1DQZe6YE"
   },
   "source": [
    "## Creates an array using Bag of words."
   ]
  },
  {
   "cell_type": "code",
   "execution_count": 24,
   "metadata": {
    "executionInfo": {
     "elapsed": 31133,
     "status": "ok",
     "timestamp": 1602609282670,
     "user": {
      "displayName": "Pranav Deshpande",
      "photoUrl": "https://lh3.googleusercontent.com/a-/AOh14GhU62O7exDxFHw20Fsk_Ni5RjtNAKe2_mxZ_yspkw=s64",
      "userId": "04904807045154906402"
     },
     "user_tz": 240
    },
    "id": "kHdTwR_Je6YF"
   },
   "outputs": [],
   "source": [
    "bag_words = Cnt_vec.fit_transform(df['cleaned_reviews']).toarray()"
   ]
  },
  {
   "cell_type": "code",
   "execution_count": 25,
   "metadata": {
    "executionInfo": {
     "elapsed": 34393,
     "status": "ok",
     "timestamp": 1602609325114,
     "user": {
      "displayName": "Pranav Deshpande",
      "photoUrl": "https://lh3.googleusercontent.com/a-/AOh14GhU62O7exDxFHw20Fsk_Ni5RjtNAKe2_mxZ_yspkw=s64",
      "userId": "04904807045154906402"
     },
     "user_tz": 240
    },
    "id": "elvKiN1Ki_9u"
   },
   "outputs": [],
   "source": [
    "np.savez_compressed('bow_data.npz', bag_words)"
   ]
  },
  {
   "cell_type": "code",
   "execution_count": 26,
   "metadata": {
    "executionInfo": {
     "elapsed": 17179,
     "status": "ok",
     "timestamp": 1602609885322,
     "user": {
      "displayName": "Pranav Deshpande",
      "photoUrl": "https://lh3.googleusercontent.com/a-/AOh14GhU62O7exDxFHw20Fsk_Ni5RjtNAKe2_mxZ_yspkw=s64",
      "userId": "04904807045154906402"
     },
     "user_tz": 240
    },
    "id": "n3rp1c4de6YK"
   },
   "outputs": [],
   "source": [
    "# Target variable \n",
    "y_rating = df['rating'].to_numpy()\n",
    "np.savez_compressed('/content/drive/My Drive/Colab Notebooks/Capstone_project/target_data.npz', y_rating)\n"
   ]
  },
  {
   "cell_type": "code",
   "execution_count": 27,
   "metadata": {
    "colab": {
     "base_uri": "https://localhost:8080/",
     "height": 35
    },
    "executionInfo": {
     "elapsed": 787,
     "status": "ok",
     "timestamp": 1602610068658,
     "user": {
      "displayName": "Pranav Deshpande",
      "photoUrl": "https://lh3.googleusercontent.com/a-/AOh14GhU62O7exDxFHw20Fsk_Ni5RjtNAKe2_mxZ_yspkw=s64",
      "userId": "04904807045154906402"
     },
     "user_tz": 240
    },
    "id": "9KFEYbp0e6YO",
    "outputId": "92a57085-b9fb-4887-9d5e-001e3da06cbd"
   },
   "outputs": [
    {
     "name": "stdout",
     "output_type": "stream",
     "text": [
      "shape of feature matrix: (1194697, 500) shape of target variable (1194697,)\n"
     ]
    }
   ],
   "source": [
    "print('shape of feature matrix:',bag_words.shape,'shape of target variable', y_rating.shape)"
   ]
  },
  {
   "cell_type": "markdown",
   "metadata": {
    "id": "RnywdWy-Ayp8"
   },
   "source": [
    "## Creates an array using TF_IDF."
   ]
  },
  {
   "cell_type": "code",
   "execution_count": 10,
   "metadata": {
    "executionInfo": {
     "elapsed": 683,
     "status": "ok",
     "timestamp": 1602625203552,
     "user": {
      "displayName": "Pranav Deshpande",
      "photoUrl": "https://lh3.googleusercontent.com/a-/AOh14GhU62O7exDxFHw20Fsk_Ni5RjtNAKe2_mxZ_yspkw=s64",
      "userId": "04904807045154906402"
     },
     "user_tz": 240
    },
    "id": "VkErC7lDAej3"
   },
   "outputs": [],
   "source": [
    "from sklearn.feature_extraction.text import TfidfVectorizer"
   ]
  },
  {
   "cell_type": "code",
   "execution_count": 11,
   "metadata": {
    "executionInfo": {
     "elapsed": 2410,
     "status": "ok",
     "timestamp": 1602613905394,
     "user": {
      "displayName": "Pranav Deshpande",
      "photoUrl": "https://lh3.googleusercontent.com/a-/AOh14GhU62O7exDxFHw20Fsk_Ni5RjtNAKe2_mxZ_yspkw=s64",
      "userId": "04904807045154906402"
     },
     "user_tz": 240
    },
    "id": "gL2UqtC4BSDF"
   },
   "outputs": [],
   "source": [
    "#limiting features to 500\n",
    "tf_idf = TfidfVectorizer(max_features=500)"
   ]
  },
  {
   "cell_type": "code",
   "execution_count": 12,
   "metadata": {
    "executionInfo": {
     "elapsed": 70258,
     "status": "ok",
     "timestamp": 1602613975916,
     "user": {
      "displayName": "Pranav Deshpande",
      "photoUrl": "https://lh3.googleusercontent.com/a-/AOh14GhU62O7exDxFHw20Fsk_Ni5RjtNAKe2_mxZ_yspkw=s64",
      "userId": "04904807045154906402"
     },
     "user_tz": 240
    },
    "id": "SPt3OocmBVPH"
   },
   "outputs": [],
   "source": [
    "bow_tf_idf = tf_idf.fit_transform(df['cleaned_reviews']).toarray()\n",
    "\n",
    "np.savez_compressed('/content/drive/My Drive/Colab Notebooks/Capstone_project/tf_idf_data.npz', bow_tf_idf)"
   ]
  },
  {
   "cell_type": "markdown",
   "metadata": {},
   "source": [
    "# bag of words for length 10."
   ]
  },
  {
   "cell_type": "code",
   "execution_count": 9,
   "metadata": {},
   "outputs": [],
   "source": [
    "bag_words = Cnt_vec.fit_transform(df['review_length_10']).toarray()\n",
    "np.savez_compressed('bow_len10_data.npz', bag_words)"
   ]
  },
  {
   "cell_type": "markdown",
   "metadata": {
    "id": "goNeaq7O0KsJ"
   },
   "source": [
    "## Creates Bigrams using bow"
   ]
  },
  {
   "cell_type": "code",
   "execution_count": 15,
   "metadata": {
    "executionInfo": {
     "elapsed": 135258,
     "status": "ok",
     "timestamp": 1602624093211,
     "user": {
      "displayName": "Pranav Deshpande",
      "photoUrl": "https://lh3.googleusercontent.com/a-/AOh14GhU62O7exDxFHw20Fsk_Ni5RjtNAKe2_mxZ_yspkw=s64",
      "userId": "04904807045154906402"
     },
     "user_tz": 240
    },
    "id": "uQCDBcDuSjhM"
   },
   "outputs": [],
   "source": [
    "Cnt_vec = CountVectorizer(max_features=500, ngram_range=(1,2))\n",
    "\n",
    "bi_grm_bow = Cnt_vec.fit_transform(df['cleaned_reviews']).toarray()\n",
    "\n",
    "np.savez_compressed('/content/drive/My Drive/Colab Notebooks/Capstone_project/bi_grm_bow_data.npz', bi_grm_bow)"
   ]
  },
  {
   "cell_type": "markdown",
   "metadata": {
    "id": "iogfYbrx4Pe5"
   },
   "source": [
    "## Creates Bigrams using Tf_idf"
   ]
  },
  {
   "cell_type": "code",
   "execution_count": 11,
   "metadata": {
    "executionInfo": {
     "elapsed": 139401,
     "status": "ok",
     "timestamp": 1602625364634,
     "user": {
      "displayName": "Pranav Deshpande",
      "photoUrl": "https://lh3.googleusercontent.com/a-/AOh14GhU62O7exDxFHw20Fsk_Ni5RjtNAKe2_mxZ_yspkw=s64",
      "userId": "04904807045154906402"
     },
     "user_tz": 240
    },
    "id": "yj3-xrow4MRJ"
   },
   "outputs": [],
   "source": [
    "tf_idf = TfidfVectorizer(max_features=500, ngram_range=(1,2))\n",
    "\n",
    "bi_grm_tf_idf = tf_idf.fit_transform(df['cleaned_reviews']).toarray()\n",
    "\n",
    "np.savez_compressed('/content/drive/My Drive/Colab Notebooks/Capstone_project/bi_grm_tf_idf_data.npz', bi_grm_tf_idf)"
   ]
  },
  {
   "cell_type": "markdown",
   "metadata": {},
   "source": [
    "# Demo model on length of 10."
   ]
  },
  {
   "cell_type": "code",
   "execution_count": null,
   "metadata": {
    "id": "6bBM85lXe6YU"
   },
   "outputs": [],
   "source": [
    "# Undersampling object\n",
    "rus = RandomUnderSampler(sampling_strategy={1:26000,2:26000,3:26000,4:26000,5:26000},random_state=0)\n",
    "def under_sample(x,y):\n",
    "    \n",
    "    X_resampled, y_resampled = rus.fit_resample(x,y)\n",
    "    return X_resampled, y_resampled"
   ]
  },
  {
   "cell_type": "code",
   "execution_count": null,
   "metadata": {
    "colab": {
     "base_uri": "https://localhost:8080/",
     "height": 72
    },
    "executionInfo": {
     "elapsed": 67678,
     "status": "ok",
     "timestamp": 1602250992836,
     "user": {
      "displayName": "Pranav Deshpande",
      "photoUrl": "https://lh3.googleusercontent.com/a-/AOh14GhU62O7exDxFHw20Fsk_Ni5RjtNAKe2_mxZ_yspkw=s64",
      "userId": "04904807045154906402"
     },
     "user_tz": 240
    },
    "id": "djQVgdkMe6Ya",
    "outputId": "1d90cfc6-44ac-47d5-9b5d-44298cab3577"
   },
   "outputs": [
    {
     "name": "stderr",
     "output_type": "stream",
     "text": [
      "/usr/local/lib/python3.6/dist-packages/sklearn/utils/deprecation.py:87: FutureWarning: Function safe_indexing is deprecated; safe_indexing is deprecated in version 0.22 and will be removed in version 0.24.\n",
      "  warnings.warn(msg, category=FutureWarning)\n"
     ]
    }
   ],
   "source": [
    "X_resampled, y_resampled = under_sample(bag_words[0:1189697,], y_rating[0:1189697])"
   ]
  },
  {
   "cell_type": "code",
   "execution_count": null,
   "metadata": {
    "id": "fSGu2b1ae6Ye"
   },
   "outputs": [],
   "source": [
    "# Test data \n",
    "X_test, y_test = bag_words[1189697:,] , y_rating[1189697:]"
   ]
  },
  {
   "cell_type": "code",
   "execution_count": null,
   "metadata": {
    "colab": {
     "base_uri": "https://localhost:8080/",
     "height": 350
    },
    "executionInfo": {
     "elapsed": 67655,
     "status": "ok",
     "timestamp": 1602250992843,
     "user": {
      "displayName": "Pranav Deshpande",
      "photoUrl": "https://lh3.googleusercontent.com/a-/AOh14GhU62O7exDxFHw20Fsk_Ni5RjtNAKe2_mxZ_yspkw=s64",
      "userId": "04904807045154906402"
     },
     "user_tz": 240
    },
    "id": "g-aA8HCye6Yj",
    "outputId": "67ef4435-af3a-4a4d-e0a6-eeaae17061d8"
   },
   "outputs": [
    {
     "data": {
      "image/png": "[encoded data removed]",
      "text/plain": [
       "<Figure size 360x360 with 1 Axes>"
      ]
     },
     "metadata": {
      "needs_background": "light",
      "tags": []
     },
     "output_type": "display_data"
    }
   ],
   "source": [
    "dis = pd.value_counts(y_resampled, sort=False)\n",
    "dis.plot(kind='bar', figsize=(5, 5), color='steelblue')\n",
    "plt.title('Number of ratings in each group')\n",
    "plt.ylabel('Count of ratings')\n",
    "plt.xlabel('Categories of rating')\n",
    "\n",
    "plt.show()"
   ]
  },
  {
   "cell_type": "code",
   "execution_count": null,
   "metadata": {
    "id": "K-4BcoMdgNk6"
   },
   "outputs": [],
   "source": []
  }
 ],
 "metadata": {
  "colab": {
   "name": "Bag_of_words.ipynb",
   "provenance": []
  },
  "kernelspec": {
   "display_name": "Python 3",
   "language": "python",
   "name": "python3"
  },
  "language_info": {
   "codemirror_mode": {
    "name": "ipython",
    "version": 3
   },
   "file_extension": ".py",
   "mimetype": "text/x-python",
   "name": "python",
   "nbconvert_exporter": "python",
   "pygments_lexer": "ipython3",
   "version": "3.7.7"
  }
 },
 "nbformat": 4,
 "nbformat_minor": 1
}
